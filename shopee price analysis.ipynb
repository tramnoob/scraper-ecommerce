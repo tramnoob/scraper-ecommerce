{
 "cells": [
  {
   "cell_type": "code",
   "execution_count": 47,
   "metadata": {},
   "outputs": [],
   "source": [
    "import time\n",
    "from selenium import webdriver\n",
    "from selenium.webdriver.common.by import By\n",
    "from selenium.webdriver.chrome.service import Service\n",
    "from selenium.webdriver.common.action_chains import ActionChains\n",
    "\n",
    "import pandas as pd\n",
    "import logging\n",
    "import sys\n",
    "import re"
   ]
  },
  {
   "cell_type": "code",
   "execution_count": 6,
   "metadata": {},
   "outputs": [],
   "source": [
    "logging.basicConfig(format='%asctimne)s | %(levelname)s : %(message)s',\n",
    "level=logging.INFO, stream=sys.stdout)"
   ]
  },
  {
   "cell_type": "code",
   "execution_count": 22,
   "metadata": {},
   "outputs": [],
   "source": [
    "s = Service(\"C:\\\\Users\\\\Dell\\\\Desktop\\\\setting\\\\chromedriver.exe\") ##download chromedirver to run\n",
    "driver = webdriver.Chrome(service=s)\n",
    "url = 'https://shopee.vn/search?keyword=tai%20nghe%20bluetooth&page=0&sortBy=sales'\n",
    "driver.get(url)\n",
    "time.sleep(3)\n",
    "\n",
    "for i in range(6):\n",
    "    driver.execute_script(\"window.scrollTo({top:\" + str(i*1000)+ \",behavior:'smooth'})\")\n",
    "    time.sleep(2)"
   ]
  },
  {
   "cell_type": "code",
   "execution_count": 23,
   "metadata": {},
   "outputs": [],
   "source": [
    "def get_link():\n",
    "    link = []\n",
    "    i = 1\n",
    "    while i<61:\n",
    "        try:\n",
    "            for e in driver.find_elements(by=By.XPATH, value = f'//*[@id=\"main\"]/div/div[2]/div/div/div[2]/div/div[2]/div[{i}]/a'):\n",
    "                link_item  = e.get_attribute('href')\n",
    "                link.append(link_item)\n",
    "            i+=1  \n",
    "        except:\n",
    "            break    \n",
    "    return link   "
   ]
  },
  {
   "cell_type": "code",
   "execution_count": 24,
   "metadata": {},
   "outputs": [],
   "source": [
    "link = get_link()"
   ]
  },
  {
   "cell_type": "code",
   "execution_count": 25,
   "metadata": {},
   "outputs": [
    {
     "data": {
      "text/plain": [
       "['https://shopee.vn/Tai-Nghe-Bluetooth-QP2-TWS-Kh%C3%B4ng-D%C3%A2y-B%E1%BA%A3n-Qu%E1%BB%91c-T%E1%BA%BF-%C4%90%E1%BB%8Bnh-V%E1%BB%8B-%C4%90%E1%BB%95i-T%C3%AAn-T%E1%BB%B1-%C4%90%E1%BB%99ng-K%E1%BA%BFt-N%E1%BB%91i-Ch%E1%BA%A1m-C%E1%BA%A3m-%E1%BB%A8ng-D%C3%B9ng-Cho-%C4%90T-i.505929537.20011891926?sp_atk=8e5a7905-5339-431b-adea-23535fd9faa5&xptdk=8e5a7905-5339-431b-adea-23535fd9faa5']"
      ]
     },
     "execution_count": 25,
     "metadata": {},
     "output_type": "execute_result"
    }
   ],
   "source": [
    "link[:1]"
   ]
  },
  {
   "cell_type": "code",
   "execution_count": 32,
   "metadata": {},
   "outputs": [],
   "source": [
    "driver = webdriver.Chrome(service=s)\n",
    "url = 'https://shopee.vn/Tai-Nghe-Bluetooth-QP2-TWS-Kh%C3%B4ng-D%C3%A2y-B%E1%BA%A3n-Qu%E1%BB%91c-T%E1%BA%BF-%C4%90%E1%BB%8Bnh-V%E1%BB%8B-%C4%90%E1%BB%95i-T%C3%AAn-T%E1%BB%B1-%C4%90%E1%BB%99ng-K%E1%BA%BFt-N%E1%BB%91i-Ch%E1%BA%A1m-C%E1%BA%A3m-%E1%BB%A8ng-D%C3%B9ng-Cho-%C4%90T-i.505929537.20011891926?sp_atk=8e5a7905-5339-431b-adea-23535fd9faa5&xptdk=8e5a7905-5339-431b-adea-23535fd9faa5'\n",
    "driver.get(url)\n",
    "time.sleep(3)\n",
    "\n",
    "for i in range(6):\n",
    "    driver.execute_script(\"window.scrollTo({top:\" + str(i*1000)+ \",behavior:'smooth'})\")\n",
    "    time.sleep(2)"
   ]
  },
  {
   "cell_type": "code",
   "execution_count": 50,
   "metadata": {},
   "outputs": [
    {
     "data": {
      "text/plain": [
       "['',\n",
       " 'Đã bán 20860 tại Việt Nam\\nĐã bán 20860 toàn cầu*\\n*Sản phẩm này được đăng bán trên Shopee của nhiều quốc gia khác nhau.',\n",
       " 'Hỏa Tốc\\nKhông hỗ trợ\\nNhanh\\n₫22.200Miễn phí vận chuyển\\nNhận hàng vào 8 Tháng 9 - 11 Tháng 9\\nMiễn phí vận chuyển đơn tối thiểu ₫0\\nNhanh tay vào ngay \"Shopee Voucher\" để săn mã Miễn phí vận chuyển nhé!']"
      ]
     },
     "execution_count": 50,
     "metadata": {},
     "output_type": "execute_result"
    }
   ],
   "source": [
    "# name = []\n",
    "# for e in driver.find_elements(by = By.CLASS_NAME, value= '_2rQP1z'):\n",
    "#     name_item = e.text\n",
    "#     name.append(name_item)\n",
    "# name\n",
    "# rating = []\n",
    "# for e in driver.find_elements(by=By.XPATH, value='//*[@id=\"main\"]/div/div[2]/div[1]/div/div[1]/div/div[2]/div[3]/div/div[2]/div[1]'):\n",
    "#     star = pd.to_numeric(e.text)\n",
    "#     rating.append(star)\n",
    "# rating  \n",
    "\n",
    "# selling_price = []\n",
    "# for e in driver.find_elements(by=By.XPATH, value='//*[@id=\"main\"]/div/div[2]/div[1]/div/div[1]/div/div[2]/div[3]/div/div[3]/div/div/div/div/div[2]/div[1]'):\n",
    "#     p = e.text\n",
    "#     selling_price.append(p)\n",
    "# selling_price\n",
    "\n",
    "# original_price = []\n",
    "# for e in driver.find_elements(by=By.XPATH, value='//*[@id=\"main\"]/div/div[2]/div[1]/div/div[1]/div/div[2]/div[3]/div/div[3]/div/div/div/div/div[1]'):\n",
    "#     p = e.text\n",
    "#     original_price.append(p)\n",
    "# original_price\n",
    "\n",
    "# location = []\n",
    "# for e in driver.find_elements(by=By.XPATH, value='//*[@id=\"main\"]/div/div[2]/div[1]/div/div[1]/div/div[3]/div[2]/div[1]/div[1]/div[1]/div[2]/div[11]/div'):\n",
    "#     p = e.text\n",
    "#     location.append(p)\n",
    "# location\n",
    "\n",
    "# quantity_details = []\n",
    "# a = ActionChains(driver)\n",
    "# for e in driver.find_elements(by=By.CLASS_NAME, value='shopee-drawer'):\n",
    "#     a.move_to_element(e).perform()\n",
    "#     for sub_e in driver.find_elements(by=By.CLASS_NAME, value='shopee-drawer__contents'):\n",
    "#         p = sub_e.text\n",
    "#         quantity_details.append(p)\n",
    "# quantity_details"
   ]
  }
 ],
 "metadata": {
  "kernelspec": {
   "display_name": "Python 3.10.7 64-bit (microsoft store)",
   "language": "python",
   "name": "python3"
  },
  "language_info": {
   "codemirror_mode": {
    "name": "ipython",
    "version": 3
   },
   "file_extension": ".py",
   "mimetype": "text/x-python",
   "name": "python",
   "nbconvert_exporter": "python",
   "pygments_lexer": "ipython3",
   "version": "3.10.7"
  },
  "orig_nbformat": 4,
  "vscode": {
   "interpreter": {
    "hash": "9e35676d33e03a9093a17dc7760f2b2aa4960ff6d3c0d7dc06348afdc0ca22c8"
   }
  }
 },
 "nbformat": 4,
 "nbformat_minor": 2
}
