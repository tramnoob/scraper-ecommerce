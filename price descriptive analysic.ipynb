{
 "cells": [
  {
   "cell_type": "code",
   "execution_count": 4,
   "metadata": {},
   "outputs": [],
   "source": [
    "!pip install selenium -q"
   ]
  },
  {
   "cell_type": "code",
   "execution_count": 3,
   "metadata": {},
   "outputs": [],
   "source": [
    "import time\n",
    "from selenium import webdriver\n",
    "from selenium.webdriver.common.by import By\n",
    "from selenium.webdriver.chrome.service import Service\n",
    "import numpy as np\n",
    "import pandas as pd\n",
    "import logging\n",
    "import sys\n",
    "import re "
   ]
  },
  {
   "cell_type": "code",
   "execution_count": 5,
   "metadata": {},
   "outputs": [],
   "source": [
    "s = Service(\"C:\\\\Users\\\\Dell\\\\Desktop\\\\setting\\\\chromedriver.exe\")  ##download chromedirver to run\n",
    "# logging.basicConfig(format='%asctimne)s | %(levelname)s :  %(message)s', level=logging.INFO, stream=sys.stdout)"
   ]
  },
  {
   "cell_type": "code",
   "execution_count": 6,
   "metadata": {},
   "outputs": [],
   "source": [
    "def crawl_page(page_index):\n",
    "    driver = webdriver.Chrome(service=s)\n",
    "    driver.get(f\"https://shopee.vn/search?keyword=tai%20nghe%20bluetooth&page={page_index}&sortBy=sales\")\n",
    "    time.sleep(3)\n",
    "\n",
    "    for n in range(1,6):\n",
    "        driver.execute_script(\"window.scrollTo({top: \"+str(n*1000)+\",behavior: 'smooth'})\")\n",
    "        time.sleep(3)\n",
    "\n",
    "\n",
    "    name = []\n",
    "    for e in driver.find_elements(by=By.CLASS_NAME, value='dpiR4u'):\n",
    "        name_item = e.text.split('\\n')\n",
    "        name.append(name_item[0])  \n",
    "\n",
    "    selling_price_text = []\n",
    "    for e in driver.find_elements(by=By.CLASS_NAME, value='hpDKMN'):\n",
    "        price = e.text\n",
    "        selling_price_text.append(price)\n",
    "        \n",
    "    original_price = []\n",
    "    selling_price_1 = []\n",
    "    selling_price_2 = []\n",
    "\n",
    "    regex = re.compile('[^a-zA-Z]')\n",
    "    for i in selling_price_text:\n",
    "        if i.find('-') > 0:\n",
    "            slit_price = i.split(' - ')\n",
    "            s1 = ''.join(filter(str.isalnum, slit_price[0]))\n",
    "            s2 = ''.join(filter(str.isalnum, slit_price[1]))\n",
    "            selling_price_1.append(s1)\n",
    "            selling_price_2.append(s2)\n",
    "            original_price.append('0')\n",
    "        else:\n",
    "            slit_price = i.split('\\n')\n",
    "            s1 = ''.join(filter(str.isalnum, slit_price[0]))\n",
    "            try:\n",
    "                s2 = ''.join(filter(str.isalnum, slit_price[1]))\n",
    "            except:\n",
    "                s2 = s1\n",
    "            selling_price_1.append(s2)\n",
    "            selling_price_2.append('0')\n",
    "            original_price.append(s1)\n",
    "            \n",
    "    seller_location = []\n",
    "    for e in driver.find_elements(by=By.CLASS_NAME, value='zGGwiV'):\n",
    "        location = e.text\n",
    "        seller_location.append(location)\n",
    "    driver.close()\n",
    "    df = pd.DataFrame({'name':name , 'original_price': original_price, 'selling_price_1': selling_price_1, 'selling_price_2': selling_price_2, 'location': seller_location})\n",
    "    return df"
   ]
  },
  {
   "cell_type": "code",
   "execution_count": 7,
   "metadata": {},
   "outputs": [
    {
     "name": "stdout",
     "output_type": "stream",
     "text": [
      "Page 0 done!\n"
     ]
    },
    {
     "data": {
      "text/html": [
       "<div>\n",
       "<style scoped>\n",
       "    .dataframe tbody tr th:only-of-type {\n",
       "        vertical-align: middle;\n",
       "    }\n",
       "\n",
       "    .dataframe tbody tr th {\n",
       "        vertical-align: top;\n",
       "    }\n",
       "\n",
       "    .dataframe thead th {\n",
       "        text-align: right;\n",
       "    }\n",
       "</style>\n",
       "<table border=\"1\" class=\"dataframe\">\n",
       "  <thead>\n",
       "    <tr style=\"text-align: right;\">\n",
       "      <th></th>\n",
       "      <th>name</th>\n",
       "      <th>original_price</th>\n",
       "      <th>selling_price_1</th>\n",
       "      <th>selling_price_2</th>\n",
       "      <th>location</th>\n",
       "    </tr>\n",
       "  </thead>\n",
       "  <tbody>\n",
       "    <tr>\n",
       "      <th>0</th>\n",
       "      <td>Tai Nghe Bluetooth i12 TWS 5.0 Không Dây Cảm Ứ...</td>\n",
       "      <td>200000</td>\n",
       "      <td>129000</td>\n",
       "      <td>0</td>\n",
       "      <td>Hà Nội</td>\n",
       "    </tr>\n",
       "    <tr>\n",
       "      <th>1</th>\n",
       "      <td>Tai Nghe Bluetooth P2 Cao Cấp Định Vị Đổi Tên ...</td>\n",
       "      <td>0</td>\n",
       "      <td>244000</td>\n",
       "      <td>269000</td>\n",
       "      <td>Hà Nội</td>\n",
       "    </tr>\n",
       "    <tr>\n",
       "      <th>2</th>\n",
       "      <td>Tai Nghe Bluetooth Không Dây TWS 5.0 Bản Cao C...</td>\n",
       "      <td>450000</td>\n",
       "      <td>299000</td>\n",
       "      <td>0</td>\n",
       "      <td>Hà Nội</td>\n",
       "    </tr>\n",
       "    <tr>\n",
       "      <th>3</th>\n",
       "      <td>Tai nghe Bluetooth AMOI F9 TWS 5.0 bản QUỐC TẾ...</td>\n",
       "      <td>250000</td>\n",
       "      <td>165000</td>\n",
       "      <td>0</td>\n",
       "      <td>Hà Nội</td>\n",
       "    </tr>\n",
       "    <tr>\n",
       "      <th>4</th>\n",
       "      <td>Tai Nghe Bluetooth QP2 TWS Không Dây Bản Quốc ...</td>\n",
       "      <td>400000</td>\n",
       "      <td>269000</td>\n",
       "      <td>0</td>\n",
       "      <td>Hà Nội</td>\n",
       "    </tr>\n",
       "    <tr>\n",
       "      <th>5</th>\n",
       "      <td>Tai Nghe Bluetooth 5.0 Không Dây Mini Pro 4/5 ...</td>\n",
       "      <td>299000</td>\n",
       "      <td>169000</td>\n",
       "      <td>0</td>\n",
       "      <td>Hà Nội</td>\n",
       "    </tr>\n",
       "    <tr>\n",
       "      <th>6</th>\n",
       "      <td>Tai Nghe Bluetooth Công Nghệ Mới Âm Thanh Sống...</td>\n",
       "      <td>150000</td>\n",
       "      <td>115000</td>\n",
       "      <td>0</td>\n",
       "      <td>TP. Hồ Chí Minh</td>\n",
       "    </tr>\n",
       "    <tr>\n",
       "      <th>7</th>\n",
       "      <td>Tai Nghe Bluetooth J12 TWS 5.0 Có Micro Không ...</td>\n",
       "      <td>150000</td>\n",
       "      <td>79000</td>\n",
       "      <td>0</td>\n",
       "      <td>TP. Hồ Chí Minh</td>\n",
       "    </tr>\n",
       "    <tr>\n",
       "      <th>8</th>\n",
       "      <td>Tai Nghe Bluetooth J12 TWS 5.0 Có Micro Không ...</td>\n",
       "      <td>150000</td>\n",
       "      <td>75000</td>\n",
       "      <td>0</td>\n",
       "      <td>TP. Hồ Chí Minh</td>\n",
       "    </tr>\n",
       "    <tr>\n",
       "      <th>9</th>\n",
       "      <td>Tai Nghe Bluetooth i12 TWS 5.0 Không Dây Cảm Ứ...</td>\n",
       "      <td>200000</td>\n",
       "      <td>129000</td>\n",
       "      <td>0</td>\n",
       "      <td>Hà Nội</td>\n",
       "    </tr>\n",
       "    <tr>\n",
       "      <th>10</th>\n",
       "      <td>Tai Nghe Bluetooth Không Dây TWS 5.0 Bản Cao C...</td>\n",
       "      <td>450000</td>\n",
       "      <td>299000</td>\n",
       "      <td>0</td>\n",
       "      <td>Hà Nội</td>\n",
       "    </tr>\n",
       "    <tr>\n",
       "      <th>11</th>\n",
       "      <td>Tai Nghe Bluetooth HOCO PRO Bản Cao Cấp Định V...</td>\n",
       "      <td>380000</td>\n",
       "      <td>279000</td>\n",
       "      <td>0</td>\n",
       "      <td>Hà Nội</td>\n",
       "    </tr>\n",
       "    <tr>\n",
       "      <th>12</th>\n",
       "      <td>Tai nghe không dây l12 tai nghe bluetooth l12 ...</td>\n",
       "      <td>185000</td>\n",
       "      <td>139000</td>\n",
       "      <td>0</td>\n",
       "      <td>Hà Nội</td>\n",
       "    </tr>\n",
       "    <tr>\n",
       "      <th>13</th>\n",
       "      <td>Tai Nghe Bluetooth Không Dây i12 TWS 5.0 Âm Th...</td>\n",
       "      <td>179000</td>\n",
       "      <td>139000</td>\n",
       "      <td>0</td>\n",
       "      <td>Hà Nội</td>\n",
       "    </tr>\n",
       "    <tr>\n",
       "      <th>14</th>\n",
       "      <td>Tai Nghe Bluetooth P2 Cao Cấp Định Vị Đổi Tên ...</td>\n",
       "      <td>340000</td>\n",
       "      <td>249000</td>\n",
       "      <td>0</td>\n",
       "      <td>Hà Nội</td>\n",
       "    </tr>\n",
       "    <tr>\n",
       "      <th>15</th>\n",
       "      <td>Tai Nghe Bluetooth i12 5.0 Không Dây Cảm Ứng C...</td>\n",
       "      <td>189000</td>\n",
       "      <td>139000</td>\n",
       "      <td>0</td>\n",
       "      <td>Hà Nội</td>\n",
       "    </tr>\n",
       "    <tr>\n",
       "      <th>16</th>\n",
       "      <td>Tai Nghe Bluetooth Q2 Cao Cấp Định Vị Đổi Tên ...</td>\n",
       "      <td>340000</td>\n",
       "      <td>249000</td>\n",
       "      <td>0</td>\n",
       "      <td>Hà Nội</td>\n",
       "    </tr>\n",
       "    <tr>\n",
       "      <th>17</th>\n",
       "      <td>Tai Nghe Bluetooth Bro TWS 5.0 Không Dây Bản Q...</td>\n",
       "      <td>499000</td>\n",
       "      <td>269000</td>\n",
       "      <td>0</td>\n",
       "      <td>Hà Nội</td>\n",
       "    </tr>\n",
       "    <tr>\n",
       "      <th>18</th>\n",
       "      <td>Tai Nghe Bluetooth P2 Cao Cấp Định Vị Đổi Tên ...</td>\n",
       "      <td>350000</td>\n",
       "      <td>249000</td>\n",
       "      <td>0</td>\n",
       "      <td>Hà Nội</td>\n",
       "    </tr>\n",
       "    <tr>\n",
       "      <th>19</th>\n",
       "      <td>Tai Nghe Bluetooth Không Dây Bản Quốc Tế Âm Th...</td>\n",
       "      <td>400000</td>\n",
       "      <td>299000</td>\n",
       "      <td>0</td>\n",
       "      <td>Hà Nội</td>\n",
       "    </tr>\n",
       "    <tr>\n",
       "      <th>20</th>\n",
       "      <td>Tai Nghe Bluetooth QP2 TWS Không Dây Bản Quốc ...</td>\n",
       "      <td>400000</td>\n",
       "      <td>269000</td>\n",
       "      <td>0</td>\n",
       "      <td>Hà Nội</td>\n",
       "    </tr>\n",
       "    <tr>\n",
       "      <th>21</th>\n",
       "      <td>Tai Nghe Bluetooth AMOI F9 TWS 5.0 Không Dây C...</td>\n",
       "      <td>300000</td>\n",
       "      <td>169000</td>\n",
       "      <td>0</td>\n",
       "      <td>Hà Nội</td>\n",
       "    </tr>\n",
       "    <tr>\n",
       "      <th>22</th>\n",
       "      <td>Tai Nghe Bluetooth P2 Cao Cấp Định Vị Đổi Tên ...</td>\n",
       "      <td>0</td>\n",
       "      <td>244000</td>\n",
       "      <td>269000</td>\n",
       "      <td>Hà Nội</td>\n",
       "    </tr>\n",
       "    <tr>\n",
       "      <th>23</th>\n",
       "      <td>Tai Nghe Bluetooth Q2 Cao Cấp Định Vị Đổi Tên ...</td>\n",
       "      <td>399000</td>\n",
       "      <td>249000</td>\n",
       "      <td>0</td>\n",
       "      <td>Hà Nội</td>\n",
       "    </tr>\n",
       "    <tr>\n",
       "      <th>24</th>\n",
       "      <td>Tai Nghe Bluetooth TWS 2 Bản Cao Cấp Định Vị Đ...</td>\n",
       "      <td>280000</td>\n",
       "      <td>239000</td>\n",
       "      <td>0</td>\n",
       "      <td>Hà Nội</td>\n",
       "    </tr>\n",
       "    <tr>\n",
       "      <th>25</th>\n",
       "      <td>Tai nghe bluetooth Lenovo LP40 Pro Không Dây B...</td>\n",
       "      <td>0</td>\n",
       "      <td>199900</td>\n",
       "      <td>279900</td>\n",
       "      <td>Nước ngoài</td>\n",
       "    </tr>\n",
       "    <tr>\n",
       "      <th>26</th>\n",
       "      <td>Tai nghe bluetooth sgc pro chống ồn cảm ứng ca...</td>\n",
       "      <td>400000</td>\n",
       "      <td>400000</td>\n",
       "      <td>0</td>\n",
       "      <td>TP. Hồ Chí Minh</td>\n",
       "    </tr>\n",
       "    <tr>\n",
       "      <th>27</th>\n",
       "      <td>Tai Nghe Bluetooth Công Nghệ Mới Âm Thanh Sống...</td>\n",
       "      <td>320000</td>\n",
       "      <td>320000</td>\n",
       "      <td>0</td>\n",
       "      <td>TP. Hồ Chí Minh</td>\n",
       "    </tr>\n",
       "    <tr>\n",
       "      <th>28</th>\n",
       "      <td>Tai Nghe Bluetooth True Wireless F9 PRO Blueto...</td>\n",
       "      <td>200000</td>\n",
       "      <td>140000</td>\n",
       "      <td>0</td>\n",
       "      <td>TP. Hồ Chí Minh</td>\n",
       "    </tr>\n",
       "    <tr>\n",
       "      <th>29</th>\n",
       "      <td>Tai Nghe Bluetooth ap pro Phiên Bản Cao Cấp Ch...</td>\n",
       "      <td>250000</td>\n",
       "      <td>250000</td>\n",
       "      <td>0</td>\n",
       "      <td>TP. Hồ Chí Minh</td>\n",
       "    </tr>\n",
       "    <tr>\n",
       "      <th>30</th>\n",
       "      <td>Dây Cáp Sạc X14 Cho ĐT Pin Dự Phòng Tai nghe B...</td>\n",
       "      <td>0</td>\n",
       "      <td>23000</td>\n",
       "      <td>27000</td>\n",
       "      <td>Hà Nội</td>\n",
       "    </tr>\n",
       "    <tr>\n",
       "      <th>31</th>\n",
       "      <td>Tai nghe bluetooth EP2, Tai nghe không dây Ful...</td>\n",
       "      <td>320000</td>\n",
       "      <td>250000</td>\n",
       "      <td>0</td>\n",
       "      <td>Hà Nội</td>\n",
       "    </tr>\n",
       "    <tr>\n",
       "      <th>32</th>\n",
       "      <td>Tai nghe bluetooth l12 TWS 5.0 tai nghe l12 kh...</td>\n",
       "      <td>190000</td>\n",
       "      <td>129000</td>\n",
       "      <td>0</td>\n",
       "      <td>Hà Nội</td>\n",
       "    </tr>\n",
       "    <tr>\n",
       "      <th>33</th>\n",
       "      <td>Dây Cáp Sạc Dây Dù Cho ĐT Tai nghe Bluetooth k...</td>\n",
       "      <td>0</td>\n",
       "      <td>16000</td>\n",
       "      <td>21000</td>\n",
       "      <td>Hà Nội</td>\n",
       "    </tr>\n",
       "    <tr>\n",
       "      <th>34</th>\n",
       "      <td>Tai nghe bluetooth Lenovo LP40 PRO 2021 mới bả...</td>\n",
       "      <td>0</td>\n",
       "      <td>209000</td>\n",
       "      <td>299000</td>\n",
       "      <td>Nước ngoài</td>\n",
       "    </tr>\n",
       "    <tr>\n",
       "      <th>35</th>\n",
       "      <td>[Mã ELHA9 giảm 15% đơn 50K] Tai nghe bluetooth...</td>\n",
       "      <td>99000</td>\n",
       "      <td>57500</td>\n",
       "      <td>0</td>\n",
       "      <td>Hà Nội</td>\n",
       "    </tr>\n",
       "    <tr>\n",
       "      <th>36</th>\n",
       "      <td>Tai Nghe i12 TWS Bluetooth 5.0 Chính Hãng Nghe...</td>\n",
       "      <td>100000</td>\n",
       "      <td>59000</td>\n",
       "      <td>0</td>\n",
       "      <td>Hà Nội</td>\n",
       "    </tr>\n",
       "    <tr>\n",
       "      <th>37</th>\n",
       "      <td>Tai Nghe Bluetooth True Wireless F9 PRO Blueto...</td>\n",
       "      <td>170000</td>\n",
       "      <td>99000</td>\n",
       "      <td>0</td>\n",
       "      <td>TP. Hồ Chí Minh</td>\n",
       "    </tr>\n",
       "    <tr>\n",
       "      <th>38</th>\n",
       "      <td>Giá Đỡ Chống Lưng Cho Phụ Kiện pop Điện Thoại ...</td>\n",
       "      <td>4000</td>\n",
       "      <td>2000</td>\n",
       "      <td>0</td>\n",
       "      <td>Hà Nội</td>\n",
       "    </tr>\n",
       "    <tr>\n",
       "      <th>39</th>\n",
       "      <td>Tai Nghe Bluetooth Không Dây i12 inpods12 TWS ...</td>\n",
       "      <td>0</td>\n",
       "      <td>79000</td>\n",
       "      <td>119000</td>\n",
       "      <td>Hà Nội</td>\n",
       "    </tr>\n",
       "    <tr>\n",
       "      <th>40</th>\n",
       "      <td>Phụ Kiện Bảo Vệ Chống Đứt Gãy Dây Sạc Cho Tai ...</td>\n",
       "      <td>0</td>\n",
       "      <td>3000</td>\n",
       "      <td>6000</td>\n",
       "      <td>Hà Nội</td>\n",
       "    </tr>\n",
       "    <tr>\n",
       "      <th>41</th>\n",
       "      <td>Giá Đỡ Chống Lưng Cho Phụ Kiện pop Điện Thoại ...</td>\n",
       "      <td>0</td>\n",
       "      <td>4000</td>\n",
       "      <td>12000</td>\n",
       "      <td>Hà Nội</td>\n",
       "    </tr>\n",
       "    <tr>\n",
       "      <th>42</th>\n",
       "      <td>Tai Nghe Mèo Bluetooth P47M, Tai Mèo Dễ Thương...</td>\n",
       "      <td>189656</td>\n",
       "      <td>149000</td>\n",
       "      <td>0</td>\n",
       "      <td>Hà Nội</td>\n",
       "    </tr>\n",
       "    <tr>\n",
       "      <th>43</th>\n",
       "      <td>Vỏ Bảo Vệ Hộp Sạc Tai Nghe airpods 1 2 i12 / i...</td>\n",
       "      <td>0</td>\n",
       "      <td>20000</td>\n",
       "      <td>33000</td>\n",
       "      <td>Nước ngoài</td>\n",
       "    </tr>\n",
       "    <tr>\n",
       "      <th>44</th>\n",
       "      <td>Tai nghe không dây F9 Tws 5.0 bản quốc tế khôn...</td>\n",
       "      <td>201000</td>\n",
       "      <td>159000</td>\n",
       "      <td>0</td>\n",
       "      <td>Hà Nội</td>\n",
       "    </tr>\n",
       "    <tr>\n",
       "      <th>45</th>\n",
       "      <td>Tai Nghe Bluetooth M10 Pro Tai Nghe Không M10 ...</td>\n",
       "      <td>346000</td>\n",
       "      <td>249000</td>\n",
       "      <td>0</td>\n",
       "      <td>Hà Nội</td>\n",
       "    </tr>\n",
       "    <tr>\n",
       "      <th>46</th>\n",
       "      <td>Phụ Kiện Hình Thú Bảo Vệ Chống Đứt Gãy Dây Sạc...</td>\n",
       "      <td>0</td>\n",
       "      <td>6000</td>\n",
       "      <td>18000</td>\n",
       "      <td>Hà Nội</td>\n",
       "    </tr>\n",
       "    <tr>\n",
       "      <th>47</th>\n",
       "      <td>Tai nghe bluetooth AMOI F9 TWS 5.0 tai nghe kh...</td>\n",
       "      <td>300000</td>\n",
       "      <td>165000</td>\n",
       "      <td>0</td>\n",
       "      <td>Hà Nội</td>\n",
       "    </tr>\n",
       "    <tr>\n",
       "      <th>48</th>\n",
       "      <td>Tai nghe bluetooth l12 TWS 5.0 tai nghe không ...</td>\n",
       "      <td>0</td>\n",
       "      <td>79000</td>\n",
       "      <td>119000</td>\n",
       "      <td>Hà Nội</td>\n",
       "    </tr>\n",
       "    <tr>\n",
       "      <th>49</th>\n",
       "      <td>Tai Nghe Bluetooth P2 Cao Cấp Định Vị Đổi Tên ...</td>\n",
       "      <td>289000</td>\n",
       "      <td>245000</td>\n",
       "      <td>0</td>\n",
       "      <td>Hà Nội</td>\n",
       "    </tr>\n",
       "    <tr>\n",
       "      <th>50</th>\n",
       "      <td>Tai Nghe Bluetooth AMOI F9 TWS 5.0 Không Dây C...</td>\n",
       "      <td>300000</td>\n",
       "      <td>169000</td>\n",
       "      <td>0</td>\n",
       "      <td>Hà Nội</td>\n",
       "    </tr>\n",
       "    <tr>\n",
       "      <th>51</th>\n",
       "      <td>Tai Nghe Bluetooth Thể Thao Dẫn Truyền Âm Than...</td>\n",
       "      <td>2290000</td>\n",
       "      <td>2290000</td>\n",
       "      <td>0</td>\n",
       "      <td>TP. Hồ Chí Minh</td>\n",
       "    </tr>\n",
       "    <tr>\n",
       "      <th>52</th>\n",
       "      <td>Tai Nghe Bluetooth Bro TWS 5.0 Không Dây Bản Q...</td>\n",
       "      <td>499000</td>\n",
       "      <td>269000</td>\n",
       "      <td>0</td>\n",
       "      <td>Hà Nội</td>\n",
       "    </tr>\n",
       "    <tr>\n",
       "      <th>53</th>\n",
       "      <td>Tai nghe không dây l12 tai nghe bluetooth l12 ...</td>\n",
       "      <td>185000</td>\n",
       "      <td>139000</td>\n",
       "      <td>0</td>\n",
       "      <td>Hà Nội</td>\n",
       "    </tr>\n",
       "    <tr>\n",
       "      <th>54</th>\n",
       "      <td>Tai Nghe Bluetooth P2 Cao Cấp Định Vị Đổi Tên ...</td>\n",
       "      <td>340000</td>\n",
       "      <td>249000</td>\n",
       "      <td>0</td>\n",
       "      <td>Hà Nội</td>\n",
       "    </tr>\n",
       "  </tbody>\n",
       "</table>\n",
       "</div>"
      ],
      "text/plain": [
       "                                                 name original_price  \\\n",
       "0   Tai Nghe Bluetooth i12 TWS 5.0 Không Dây Cảm Ứ...         200000   \n",
       "1   Tai Nghe Bluetooth P2 Cao Cấp Định Vị Đổi Tên ...              0   \n",
       "2   Tai Nghe Bluetooth Không Dây TWS 5.0 Bản Cao C...         450000   \n",
       "3   Tai nghe Bluetooth AMOI F9 TWS 5.0 bản QUỐC TẾ...         250000   \n",
       "4   Tai Nghe Bluetooth QP2 TWS Không Dây Bản Quốc ...         400000   \n",
       "5   Tai Nghe Bluetooth 5.0 Không Dây Mini Pro 4/5 ...         299000   \n",
       "6   Tai Nghe Bluetooth Công Nghệ Mới Âm Thanh Sống...         150000   \n",
       "7   Tai Nghe Bluetooth J12 TWS 5.0 Có Micro Không ...         150000   \n",
       "8   Tai Nghe Bluetooth J12 TWS 5.0 Có Micro Không ...         150000   \n",
       "9   Tai Nghe Bluetooth i12 TWS 5.0 Không Dây Cảm Ứ...         200000   \n",
       "10  Tai Nghe Bluetooth Không Dây TWS 5.0 Bản Cao C...         450000   \n",
       "11  Tai Nghe Bluetooth HOCO PRO Bản Cao Cấp Định V...         380000   \n",
       "12  Tai nghe không dây l12 tai nghe bluetooth l12 ...         185000   \n",
       "13  Tai Nghe Bluetooth Không Dây i12 TWS 5.0 Âm Th...         179000   \n",
       "14  Tai Nghe Bluetooth P2 Cao Cấp Định Vị Đổi Tên ...         340000   \n",
       "15  Tai Nghe Bluetooth i12 5.0 Không Dây Cảm Ứng C...         189000   \n",
       "16  Tai Nghe Bluetooth Q2 Cao Cấp Định Vị Đổi Tên ...         340000   \n",
       "17  Tai Nghe Bluetooth Bro TWS 5.0 Không Dây Bản Q...         499000   \n",
       "18  Tai Nghe Bluetooth P2 Cao Cấp Định Vị Đổi Tên ...         350000   \n",
       "19  Tai Nghe Bluetooth Không Dây Bản Quốc Tế Âm Th...         400000   \n",
       "20  Tai Nghe Bluetooth QP2 TWS Không Dây Bản Quốc ...         400000   \n",
       "21  Tai Nghe Bluetooth AMOI F9 TWS 5.0 Không Dây C...         300000   \n",
       "22  Tai Nghe Bluetooth P2 Cao Cấp Định Vị Đổi Tên ...              0   \n",
       "23  Tai Nghe Bluetooth Q2 Cao Cấp Định Vị Đổi Tên ...         399000   \n",
       "24  Tai Nghe Bluetooth TWS 2 Bản Cao Cấp Định Vị Đ...         280000   \n",
       "25  Tai nghe bluetooth Lenovo LP40 Pro Không Dây B...              0   \n",
       "26  Tai nghe bluetooth sgc pro chống ồn cảm ứng ca...         400000   \n",
       "27  Tai Nghe Bluetooth Công Nghệ Mới Âm Thanh Sống...         320000   \n",
       "28  Tai Nghe Bluetooth True Wireless F9 PRO Blueto...         200000   \n",
       "29  Tai Nghe Bluetooth ap pro Phiên Bản Cao Cấp Ch...         250000   \n",
       "30  Dây Cáp Sạc X14 Cho ĐT Pin Dự Phòng Tai nghe B...              0   \n",
       "31  Tai nghe bluetooth EP2, Tai nghe không dây Ful...         320000   \n",
       "32  Tai nghe bluetooth l12 TWS 5.0 tai nghe l12 kh...         190000   \n",
       "33  Dây Cáp Sạc Dây Dù Cho ĐT Tai nghe Bluetooth k...              0   \n",
       "34  Tai nghe bluetooth Lenovo LP40 PRO 2021 mới bả...              0   \n",
       "35  [Mã ELHA9 giảm 15% đơn 50K] Tai nghe bluetooth...          99000   \n",
       "36  Tai Nghe i12 TWS Bluetooth 5.0 Chính Hãng Nghe...         100000   \n",
       "37  Tai Nghe Bluetooth True Wireless F9 PRO Blueto...         170000   \n",
       "38  Giá Đỡ Chống Lưng Cho Phụ Kiện pop Điện Thoại ...           4000   \n",
       "39  Tai Nghe Bluetooth Không Dây i12 inpods12 TWS ...              0   \n",
       "40  Phụ Kiện Bảo Vệ Chống Đứt Gãy Dây Sạc Cho Tai ...              0   \n",
       "41  Giá Đỡ Chống Lưng Cho Phụ Kiện pop Điện Thoại ...              0   \n",
       "42  Tai Nghe Mèo Bluetooth P47M, Tai Mèo Dễ Thương...         189656   \n",
       "43  Vỏ Bảo Vệ Hộp Sạc Tai Nghe airpods 1 2 i12 / i...              0   \n",
       "44  Tai nghe không dây F9 Tws 5.0 bản quốc tế khôn...         201000   \n",
       "45  Tai Nghe Bluetooth M10 Pro Tai Nghe Không M10 ...         346000   \n",
       "46  Phụ Kiện Hình Thú Bảo Vệ Chống Đứt Gãy Dây Sạc...              0   \n",
       "47  Tai nghe bluetooth AMOI F9 TWS 5.0 tai nghe kh...         300000   \n",
       "48  Tai nghe bluetooth l12 TWS 5.0 tai nghe không ...              0   \n",
       "49  Tai Nghe Bluetooth P2 Cao Cấp Định Vị Đổi Tên ...         289000   \n",
       "50  Tai Nghe Bluetooth AMOI F9 TWS 5.0 Không Dây C...         300000   \n",
       "51  Tai Nghe Bluetooth Thể Thao Dẫn Truyền Âm Than...        2290000   \n",
       "52  Tai Nghe Bluetooth Bro TWS 5.0 Không Dây Bản Q...         499000   \n",
       "53  Tai nghe không dây l12 tai nghe bluetooth l12 ...         185000   \n",
       "54  Tai Nghe Bluetooth P2 Cao Cấp Định Vị Đổi Tên ...         340000   \n",
       "\n",
       "   selling_price_1 selling_price_2         location  \n",
       "0           129000               0           Hà Nội  \n",
       "1           244000          269000           Hà Nội  \n",
       "2           299000               0           Hà Nội  \n",
       "3           165000               0           Hà Nội  \n",
       "4           269000               0           Hà Nội  \n",
       "5           169000               0           Hà Nội  \n",
       "6           115000               0  TP. Hồ Chí Minh  \n",
       "7            79000               0  TP. Hồ Chí Minh  \n",
       "8            75000               0  TP. Hồ Chí Minh  \n",
       "9           129000               0           Hà Nội  \n",
       "10          299000               0           Hà Nội  \n",
       "11          279000               0           Hà Nội  \n",
       "12          139000               0           Hà Nội  \n",
       "13          139000               0           Hà Nội  \n",
       "14          249000               0           Hà Nội  \n",
       "15          139000               0           Hà Nội  \n",
       "16          249000               0           Hà Nội  \n",
       "17          269000               0           Hà Nội  \n",
       "18          249000               0           Hà Nội  \n",
       "19          299000               0           Hà Nội  \n",
       "20          269000               0           Hà Nội  \n",
       "21          169000               0           Hà Nội  \n",
       "22          244000          269000           Hà Nội  \n",
       "23          249000               0           Hà Nội  \n",
       "24          239000               0           Hà Nội  \n",
       "25          199900          279900       Nước ngoài  \n",
       "26          400000               0  TP. Hồ Chí Minh  \n",
       "27          320000               0  TP. Hồ Chí Minh  \n",
       "28          140000               0  TP. Hồ Chí Minh  \n",
       "29          250000               0  TP. Hồ Chí Minh  \n",
       "30           23000           27000           Hà Nội  \n",
       "31          250000               0           Hà Nội  \n",
       "32          129000               0           Hà Nội  \n",
       "33           16000           21000           Hà Nội  \n",
       "34          209000          299000       Nước ngoài  \n",
       "35           57500               0           Hà Nội  \n",
       "36           59000               0           Hà Nội  \n",
       "37           99000               0  TP. Hồ Chí Minh  \n",
       "38            2000               0           Hà Nội  \n",
       "39           79000          119000           Hà Nội  \n",
       "40            3000            6000           Hà Nội  \n",
       "41            4000           12000           Hà Nội  \n",
       "42          149000               0           Hà Nội  \n",
       "43           20000           33000       Nước ngoài  \n",
       "44          159000               0           Hà Nội  \n",
       "45          249000               0           Hà Nội  \n",
       "46            6000           18000           Hà Nội  \n",
       "47          165000               0           Hà Nội  \n",
       "48           79000          119000           Hà Nội  \n",
       "49          245000               0           Hà Nội  \n",
       "50          169000               0           Hà Nội  \n",
       "51         2290000               0  TP. Hồ Chí Minh  \n",
       "52          269000               0           Hà Nội  \n",
       "53          139000               0           Hà Nội  \n",
       "54          249000               0           Hà Nội  "
      ]
     },
     "execution_count": 7,
     "metadata": {},
     "output_type": "execute_result"
    }
   ],
   "source": [
    "df_shopee_crawl = []\n",
    "page = 0\n",
    "while True:\n",
    "    try:\n",
    "        df = crawl_page(page)\n",
    "        df_shopee_crawl.append(df)\n",
    "        print(f'Page {page} done!')\n",
    "        page += 1\n",
    "    except:\n",
    "        break\n",
    "\n",
    "df_shopee_crawl = pd.concat(df_shopee_crawl)\n",
    "df_shopee_crawl"
   ]
  },
  {
   "cell_type": "code",
   "execution_count": 5,
   "metadata": {},
   "outputs": [],
   "source": [
    "# df_shopee_crawl.to_csv('raw.csv')"
   ]
  },
  {
   "cell_type": "code",
   "execution_count": 30,
   "metadata": {},
   "outputs": [],
   "source": [
    "df_shopee_crawl['selling_price_1'] = pd.to_numeric(df_shopee_crawl['selling_price_1'])\n",
    "df_shopee_crawl['selling_price_2'] = pd.to_numeric(df_shopee_crawl['selling_price_2'])\n",
    "\n",
    "con = [df_shopee_crawl['selling_price_2'] == 0, df_shopee_crawl['selling_price_2'] != 0]\n",
    "val = [df_shopee_crawl['selling_price_1'] , (df_shopee_crawl['selling_price_1'] + df_shopee_crawl['selling_price_2'])/2]\n",
    "\n",
    "df_shopee_crawl['selling_price'] = np.select(con,val,0)"
   ]
  },
  {
   "cell_type": "code",
   "execution_count": 31,
   "metadata": {},
   "outputs": [
    {
     "data": {
      "application/vnd.plotly.v1+json": {
       "config": {
        "plotlyServerURL": "https://plot.ly"
       },
       "data": [
        {
         "alignmentgroup": "True",
         "bingroup": "x",
         "histnorm": "probability",
         "hovertemplate": "selling_price=%{x}<br>probability=%{y}<extra></extra>",
         "legendgroup": "",
         "marker": {
          "color": "#636efa",
          "pattern": {
           "shape": ""
          }
         },
         "name": "",
         "offsetgroup": "",
         "orientation": "v",
         "showlegend": false,
         "type": "histogram",
         "x": [
          165000,
          125000,
          115000,
          108000,
          120000,
          88000,
          235000,
          279000,
          149000,
          294000,
          249000,
          139000,
          269000,
          85500,
          169000,
          139000,
          299000,
          129000,
          189000,
          169000,
          224000,
          239000,
          239000,
          129000,
          299000,
          4000,
          260000,
          284000,
          238000,
          49000,
          245000,
          400000,
          320000,
          265000,
          185750,
          135000,
          139000,
          245000,
          24500,
          223000,
          18500,
          18500,
          57500,
          245000,
          4000,
          99000,
          155000,
          1000,
          239000,
          99000,
          26500,
          8000,
          230000,
          249000,
          59000,
          120000,
          607500,
          99000,
          49000,
          159000,
          35000,
          6000,
          67400,
          14000,
          12000,
          239000,
          3000,
          299000,
          17500,
          570000,
          20000,
          355499.5,
          29000,
          144000,
          707500,
          144000,
          165000,
          50000,
          249000,
          6000,
          158000,
          129000,
          117500,
          26500,
          40900,
          20000,
          609000,
          108000,
          85000,
          290000,
          96495,
          139000,
          75000,
          107000,
          88000,
          105000,
          160000,
          280000,
          320000,
          279000,
          299000,
          107100,
          320000,
          10500,
          134250,
          309000,
          79000,
          319000,
          249000,
          160000,
          78000,
          635000,
          28000,
          355000,
          269000,
          99000,
          42500,
          92000,
          65500,
          319000,
          249000,
          117500,
          160000,
          125000,
          78000,
          635000,
          28000,
          355000,
          269000,
          99000,
          42500,
          92000,
          65500,
          29000,
          189000,
          129000,
          279000,
          279000,
          268000,
          8000,
          6500,
          59000,
          99000,
          374000,
          219000,
          81000,
          233000,
          179000,
          28000,
          220000,
          190000,
          22000,
          57000,
          18905,
          61500,
          165000,
          26008,
          169000,
          79500,
          101500,
          292000,
          525000,
          12000,
          28000,
          69000,
          64500,
          28000,
          89000,
          35000,
          105000,
          205000,
          119000,
          43900,
          22000,
          104000,
          139000,
          6000,
          28000,
          139000,
          27500,
          68500,
          102000,
          69750,
          92000,
          34000,
          149000,
          3000,
          125000,
          109000,
          607500,
          109000,
          15000,
          244000,
          52000,
          6000,
          10500,
          299000,
          143000,
          6000,
          129000,
          7500,
          169000,
          69000,
          179000,
          198000,
          224500,
          29000,
          104000,
          199000,
          239500,
          19450,
          99000,
          200000,
          52950,
          154000,
          197000,
          38000,
          274000,
          43000,
          77500,
          93000,
          59000,
          289000,
          125000,
          270000,
          319000,
          489000,
          399000,
          907500,
          185000,
          169000,
          38025,
          285000,
          282000,
          45500,
          65000,
          220000,
          48500,
          495000,
          71889.5,
          154000,
          249000,
          60950,
          177500,
          102000,
          47000,
          73800,
          154500,
          45000,
          24000,
          2250,
          6000,
          99880,
          20805,
          59000,
          439000,
          36000,
          1002,
          64010,
          65000,
          34105,
          229000,
          299000,
          79000,
          769000,
          951000,
          145000,
          759500,
          127000,
          13252.5,
          27000,
          299000,
          459000,
          299000,
          115000,
          283500,
          99000,
          208950,
          429000,
          12000,
          129000,
          108000,
          499000,
          106000,
          168000,
          28000,
          25555,
          359000,
          159000,
          1199000,
          239000,
          13950,
          169000,
          145000,
          9900,
          16000,
          12000,
          101000,
          299000,
          79000,
          299000,
          349000,
          97495,
          119000,
          209000,
          89000,
          147400,
          229000,
          486000,
          229000,
          149000,
          122500,
          369000,
          680500,
          179000,
          195000,
          269000,
          390000,
          315000,
          101500,
          129000,
          149900,
          147000,
          109000,
          105000,
          299000,
          73900,
          279000,
          79880,
          249000,
          489000,
          169000,
          59000,
          79000,
          62500,
          165000,
          192000,
          71467,
          349000,
          59000,
          133750,
          47000,
          132000,
          549000,
          521000,
          782500,
          119000,
          79000,
          155000,
          174000,
          248000,
          300000,
          329000,
          189500,
          102500,
          319000,
          155000,
          219000,
          90000,
          88000,
          264000,
          273000,
          23450,
          65899,
          559500,
          64000,
          125000,
          600000,
          30780,
          99500,
          104000,
          3900,
          28000,
          149000,
          445000,
          549000,
          135000,
          18000,
          99000,
          29000,
          12000,
          294000,
          409000,
          289000,
          40300,
          585000,
          232000,
          14060,
          24000,
          47000,
          161000,
          5558,
          289000,
          67000,
          89100,
          38000,
          149500,
          63950,
          66000,
          99500,
          289000,
          269000,
          47500,
          93000,
          239000,
          176000,
          375000,
          225000,
          324050,
          38000,
          19000,
          28000,
          98000,
          89500,
          500000,
          42040,
          20790,
          149000,
          172500,
          89100,
          38000,
          149500,
          63950,
          66000,
          99500,
          289000,
          269000,
          47500,
          93000,
          239000,
          176000,
          375000,
          225000,
          324050,
          38000,
          19000,
          28000,
          98000,
          89500,
          500000,
          42040,
          20790,
          149000,
          172500,
          7800,
          299000,
          136700,
          139000,
          84300,
          70000,
          28000,
          66500,
          379000,
          3000,
          63899,
          145500,
          67500,
          195000,
          225000,
          14000,
          299000,
          309000,
          39000,
          99000,
          115000,
          60450,
          375000,
          97000,
          25220,
          325000,
          455000,
          319000,
          48000,
          279000,
          160000,
          275000,
          200000,
          200000,
          155000,
          155000,
          245000,
          132500,
          210000,
          165000,
          250000,
          210000,
          350000,
          210000,
          64500,
          24000,
          105000,
          12000,
          149000,
          9500,
          129000,
          172000,
          449000,
          24950,
          15900
         ],
         "xaxis": "x",
         "yaxis": "y"
        }
       ],
       "layout": {
        "autosize": true,
        "barmode": "relative",
        "legend": {
         "tracegroupgap": 0
        },
        "margin": {
         "t": 60
        },
        "template": {
         "data": {
          "bar": [
           {
            "error_x": {
             "color": "#2a3f5f"
            },
            "error_y": {
             "color": "#2a3f5f"
            },
            "marker": {
             "line": {
              "color": "#E5ECF6",
              "width": 0.5
             },
             "pattern": {
              "fillmode": "overlay",
              "size": 10,
              "solidity": 0.2
             }
            },
            "type": "bar"
           }
          ],
          "barpolar": [
           {
            "marker": {
             "line": {
              "color": "#E5ECF6",
              "width": 0.5
             },
             "pattern": {
              "fillmode": "overlay",
              "size": 10,
              "solidity": 0.2
             }
            },
            "type": "barpolar"
           }
          ],
          "carpet": [
           {
            "aaxis": {
             "endlinecolor": "#2a3f5f",
             "gridcolor": "white",
             "linecolor": "white",
             "minorgridcolor": "white",
             "startlinecolor": "#2a3f5f"
            },
            "baxis": {
             "endlinecolor": "#2a3f5f",
             "gridcolor": "white",
             "linecolor": "white",
             "minorgridcolor": "white",
             "startlinecolor": "#2a3f5f"
            },
            "type": "carpet"
           }
          ],
          "choropleth": [
           {
            "colorbar": {
             "outlinewidth": 0,
             "ticks": ""
            },
            "type": "choropleth"
           }
          ],
          "contour": [
           {
            "colorbar": {
             "outlinewidth": 0,
             "ticks": ""
            },
            "colorscale": [
             [
              0,
              "#0d0887"
             ],
             [
              0.1111111111111111,
              "#46039f"
             ],
             [
              0.2222222222222222,
              "#7201a8"
             ],
             [
              0.3333333333333333,
              "#9c179e"
             ],
             [
              0.4444444444444444,
              "#bd3786"
             ],
             [
              0.5555555555555556,
              "#d8576b"
             ],
             [
              0.6666666666666666,
              "#ed7953"
             ],
             [
              0.7777777777777778,
              "#fb9f3a"
             ],
             [
              0.8888888888888888,
              "#fdca26"
             ],
             [
              1,
              "#f0f921"
             ]
            ],
            "type": "contour"
           }
          ],
          "contourcarpet": [
           {
            "colorbar": {
             "outlinewidth": 0,
             "ticks": ""
            },
            "type": "contourcarpet"
           }
          ],
          "heatmap": [
           {
            "colorbar": {
             "outlinewidth": 0,
             "ticks": ""
            },
            "colorscale": [
             [
              0,
              "#0d0887"
             ],
             [
              0.1111111111111111,
              "#46039f"
             ],
             [
              0.2222222222222222,
              "#7201a8"
             ],
             [
              0.3333333333333333,
              "#9c179e"
             ],
             [
              0.4444444444444444,
              "#bd3786"
             ],
             [
              0.5555555555555556,
              "#d8576b"
             ],
             [
              0.6666666666666666,
              "#ed7953"
             ],
             [
              0.7777777777777778,
              "#fb9f3a"
             ],
             [
              0.8888888888888888,
              "#fdca26"
             ],
             [
              1,
              "#f0f921"
             ]
            ],
            "type": "heatmap"
           }
          ],
          "heatmapgl": [
           {
            "colorbar": {
             "outlinewidth": 0,
             "ticks": ""
            },
            "colorscale": [
             [
              0,
              "#0d0887"
             ],
             [
              0.1111111111111111,
              "#46039f"
             ],
             [
              0.2222222222222222,
              "#7201a8"
             ],
             [
              0.3333333333333333,
              "#9c179e"
             ],
             [
              0.4444444444444444,
              "#bd3786"
             ],
             [
              0.5555555555555556,
              "#d8576b"
             ],
             [
              0.6666666666666666,
              "#ed7953"
             ],
             [
              0.7777777777777778,
              "#fb9f3a"
             ],
             [
              0.8888888888888888,
              "#fdca26"
             ],
             [
              1,
              "#f0f921"
             ]
            ],
            "type": "heatmapgl"
           }
          ],
          "histogram": [
           {
            "marker": {
             "pattern": {
              "fillmode": "overlay",
              "size": 10,
              "solidity": 0.2
             }
            },
            "type": "histogram"
           }
          ],
          "histogram2d": [
           {
            "colorbar": {
             "outlinewidth": 0,
             "ticks": ""
            },
            "colorscale": [
             [
              0,
              "#0d0887"
             ],
             [
              0.1111111111111111,
              "#46039f"
             ],
             [
              0.2222222222222222,
              "#7201a8"
             ],
             [
              0.3333333333333333,
              "#9c179e"
             ],
             [
              0.4444444444444444,
              "#bd3786"
             ],
             [
              0.5555555555555556,
              "#d8576b"
             ],
             [
              0.6666666666666666,
              "#ed7953"
             ],
             [
              0.7777777777777778,
              "#fb9f3a"
             ],
             [
              0.8888888888888888,
              "#fdca26"
             ],
             [
              1,
              "#f0f921"
             ]
            ],
            "type": "histogram2d"
           }
          ],
          "histogram2dcontour": [
           {
            "colorbar": {
             "outlinewidth": 0,
             "ticks": ""
            },
            "colorscale": [
             [
              0,
              "#0d0887"
             ],
             [
              0.1111111111111111,
              "#46039f"
             ],
             [
              0.2222222222222222,
              "#7201a8"
             ],
             [
              0.3333333333333333,
              "#9c179e"
             ],
             [
              0.4444444444444444,
              "#bd3786"
             ],
             [
              0.5555555555555556,
              "#d8576b"
             ],
             [
              0.6666666666666666,
              "#ed7953"
             ],
             [
              0.7777777777777778,
              "#fb9f3a"
             ],
             [
              0.8888888888888888,
              "#fdca26"
             ],
             [
              1,
              "#f0f921"
             ]
            ],
            "type": "histogram2dcontour"
           }
          ],
          "mesh3d": [
           {
            "colorbar": {
             "outlinewidth": 0,
             "ticks": ""
            },
            "type": "mesh3d"
           }
          ],
          "parcoords": [
           {
            "line": {
             "colorbar": {
              "outlinewidth": 0,
              "ticks": ""
             }
            },
            "type": "parcoords"
           }
          ],
          "pie": [
           {
            "automargin": true,
            "type": "pie"
           }
          ],
          "scatter": [
           {
            "fillpattern": {
             "fillmode": "overlay",
             "size": 10,
             "solidity": 0.2
            },
            "type": "scatter"
           }
          ],
          "scatter3d": [
           {
            "line": {
             "colorbar": {
              "outlinewidth": 0,
              "ticks": ""
             }
            },
            "marker": {
             "colorbar": {
              "outlinewidth": 0,
              "ticks": ""
             }
            },
            "type": "scatter3d"
           }
          ],
          "scattercarpet": [
           {
            "marker": {
             "colorbar": {
              "outlinewidth": 0,
              "ticks": ""
             }
            },
            "type": "scattercarpet"
           }
          ],
          "scattergeo": [
           {
            "marker": {
             "colorbar": {
              "outlinewidth": 0,
              "ticks": ""
             }
            },
            "type": "scattergeo"
           }
          ],
          "scattergl": [
           {
            "marker": {
             "colorbar": {
              "outlinewidth": 0,
              "ticks": ""
             }
            },
            "type": "scattergl"
           }
          ],
          "scattermapbox": [
           {
            "marker": {
             "colorbar": {
              "outlinewidth": 0,
              "ticks": ""
             }
            },
            "type": "scattermapbox"
           }
          ],
          "scatterpolar": [
           {
            "marker": {
             "colorbar": {
              "outlinewidth": 0,
              "ticks": ""
             }
            },
            "type": "scatterpolar"
           }
          ],
          "scatterpolargl": [
           {
            "marker": {
             "colorbar": {
              "outlinewidth": 0,
              "ticks": ""
             }
            },
            "type": "scatterpolargl"
           }
          ],
          "scatterternary": [
           {
            "marker": {
             "colorbar": {
              "outlinewidth": 0,
              "ticks": ""
             }
            },
            "type": "scatterternary"
           }
          ],
          "surface": [
           {
            "colorbar": {
             "outlinewidth": 0,
             "ticks": ""
            },
            "colorscale": [
             [
              0,
              "#0d0887"
             ],
             [
              0.1111111111111111,
              "#46039f"
             ],
             [
              0.2222222222222222,
              "#7201a8"
             ],
             [
              0.3333333333333333,
              "#9c179e"
             ],
             [
              0.4444444444444444,
              "#bd3786"
             ],
             [
              0.5555555555555556,
              "#d8576b"
             ],
             [
              0.6666666666666666,
              "#ed7953"
             ],
             [
              0.7777777777777778,
              "#fb9f3a"
             ],
             [
              0.8888888888888888,
              "#fdca26"
             ],
             [
              1,
              "#f0f921"
             ]
            ],
            "type": "surface"
           }
          ],
          "table": [
           {
            "cells": {
             "fill": {
              "color": "#EBF0F8"
             },
             "line": {
              "color": "white"
             }
            },
            "header": {
             "fill": {
              "color": "#C8D4E3"
             },
             "line": {
              "color": "white"
             }
            },
            "type": "table"
           }
          ]
         },
         "layout": {
          "annotationdefaults": {
           "arrowcolor": "#2a3f5f",
           "arrowhead": 0,
           "arrowwidth": 1
          },
          "autotypenumbers": "strict",
          "coloraxis": {
           "colorbar": {
            "outlinewidth": 0,
            "ticks": ""
           }
          },
          "colorscale": {
           "diverging": [
            [
             0,
             "#8e0152"
            ],
            [
             0.1,
             "#c51b7d"
            ],
            [
             0.2,
             "#de77ae"
            ],
            [
             0.3,
             "#f1b6da"
            ],
            [
             0.4,
             "#fde0ef"
            ],
            [
             0.5,
             "#f7f7f7"
            ],
            [
             0.6,
             "#e6f5d0"
            ],
            [
             0.7,
             "#b8e186"
            ],
            [
             0.8,
             "#7fbc41"
            ],
            [
             0.9,
             "#4d9221"
            ],
            [
             1,
             "#276419"
            ]
           ],
           "sequential": [
            [
             0,
             "#0d0887"
            ],
            [
             0.1111111111111111,
             "#46039f"
            ],
            [
             0.2222222222222222,
             "#7201a8"
            ],
            [
             0.3333333333333333,
             "#9c179e"
            ],
            [
             0.4444444444444444,
             "#bd3786"
            ],
            [
             0.5555555555555556,
             "#d8576b"
            ],
            [
             0.6666666666666666,
             "#ed7953"
            ],
            [
             0.7777777777777778,
             "#fb9f3a"
            ],
            [
             0.8888888888888888,
             "#fdca26"
            ],
            [
             1,
             "#f0f921"
            ]
           ],
           "sequentialminus": [
            [
             0,
             "#0d0887"
            ],
            [
             0.1111111111111111,
             "#46039f"
            ],
            [
             0.2222222222222222,
             "#7201a8"
            ],
            [
             0.3333333333333333,
             "#9c179e"
            ],
            [
             0.4444444444444444,
             "#bd3786"
            ],
            [
             0.5555555555555556,
             "#d8576b"
            ],
            [
             0.6666666666666666,
             "#ed7953"
            ],
            [
             0.7777777777777778,
             "#fb9f3a"
            ],
            [
             0.8888888888888888,
             "#fdca26"
            ],
            [
             1,
             "#f0f921"
            ]
           ]
          },
          "colorway": [
           "#636efa",
           "#EF553B",
           "#00cc96",
           "#ab63fa",
           "#FFA15A",
           "#19d3f3",
           "#FF6692",
           "#B6E880",
           "#FF97FF",
           "#FECB52"
          ],
          "font": {
           "color": "#2a3f5f"
          },
          "geo": {
           "bgcolor": "white",
           "lakecolor": "white",
           "landcolor": "#E5ECF6",
           "showlakes": true,
           "showland": true,
           "subunitcolor": "white"
          },
          "hoverlabel": {
           "align": "left"
          },
          "hovermode": "closest",
          "mapbox": {
           "style": "light"
          },
          "paper_bgcolor": "white",
          "plot_bgcolor": "#E5ECF6",
          "polar": {
           "angularaxis": {
            "gridcolor": "white",
            "linecolor": "white",
            "ticks": ""
           },
           "bgcolor": "#E5ECF6",
           "radialaxis": {
            "gridcolor": "white",
            "linecolor": "white",
            "ticks": ""
           }
          },
          "scene": {
           "xaxis": {
            "backgroundcolor": "#E5ECF6",
            "gridcolor": "white",
            "gridwidth": 2,
            "linecolor": "white",
            "showbackground": true,
            "ticks": "",
            "zerolinecolor": "white"
           },
           "yaxis": {
            "backgroundcolor": "#E5ECF6",
            "gridcolor": "white",
            "gridwidth": 2,
            "linecolor": "white",
            "showbackground": true,
            "ticks": "",
            "zerolinecolor": "white"
           },
           "zaxis": {
            "backgroundcolor": "#E5ECF6",
            "gridcolor": "white",
            "gridwidth": 2,
            "linecolor": "white",
            "showbackground": true,
            "ticks": "",
            "zerolinecolor": "white"
           }
          },
          "shapedefaults": {
           "line": {
            "color": "#2a3f5f"
           }
          },
          "ternary": {
           "aaxis": {
            "gridcolor": "white",
            "linecolor": "white",
            "ticks": ""
           },
           "baxis": {
            "gridcolor": "white",
            "linecolor": "white",
            "ticks": ""
           },
           "bgcolor": "#E5ECF6",
           "caxis": {
            "gridcolor": "white",
            "linecolor": "white",
            "ticks": ""
           }
          },
          "title": {
           "x": 0.05
          },
          "xaxis": {
           "automargin": true,
           "gridcolor": "white",
           "linecolor": "white",
           "ticks": "",
           "title": {
            "standoff": 15
           },
           "zerolinecolor": "white",
           "zerolinewidth": 2
          },
          "yaxis": {
           "automargin": true,
           "gridcolor": "white",
           "linecolor": "white",
           "ticks": "",
           "title": {
            "standoff": 15
           },
           "zerolinecolor": "white",
           "zerolinewidth": 2
          }
         }
        },
        "xaxis": {
         "anchor": "y",
         "autorange": true,
         "domain": [
          0,
          1
         ],
         "range": [
          0,
          1200000
         ],
         "title": {
          "text": "selling_price"
         },
         "type": "linear"
        },
        "yaxis": {
         "anchor": "x",
         "autorange": true,
         "domain": [
          0,
          1
         ],
         "range": [
          0,
          0.2404809619238477
         ],
         "title": {
          "text": "probability"
         }
        }
       }
      },
      "image/png": "[encoded data removed]"
     },
     "metadata": {},
     "output_type": "display_data"
    }
   ],
   "source": [
    "import plotly.express as px\n",
    "fig = px.histogram(df_shopee_crawl, x='selling_price', histnorm='probability')\n",
    "fig.show()"
   ]
  },
  {
   "cell_type": "code",
   "execution_count": 32,
   "metadata": {},
   "outputs": [],
   "source": [
    "df_filter = df_shopee_crawl[(df_shopee_crawl['location'] == 'Hà Nội') | (df_shopee_crawl['location'] == 'TP. Hồ Chí Minh') |(df_shopee_crawl['location'] == 'Nước ngoài') ]"
   ]
  },
  {
   "cell_type": "code",
   "execution_count": 39,
   "metadata": {},
   "outputs": [
    {
     "data": {
      "application/vnd.plotly.v1+json": {
       "config": {
        "plotlyServerURL": "https://plot.ly"
       },
       "data": [
        {
         "alignmentgroup": "True",
         "bingroup": "x",
         "hovertemplate": "location=Hà Nội<br>selling_price=%{x}<br>count=%{y}<extra></extra>",
         "legendgroup": "",
         "marker": {
          "color": "#636efa",
          "pattern": {
           "shape": ""
          }
         },
         "name": "",
         "offsetgroup": "",
         "orientation": "v",
         "showlegend": false,
         "type": "histogram",
         "x": [
          165000,
          235000,
          279000,
          149000,
          294000,
          249000,
          139000,
          269000,
          85500,
          169000,
          139000,
          299000,
          129000,
          189000,
          169000,
          239000,
          239000,
          129000,
          299000,
          4000,
          260000,
          238000,
          139000,
          245000,
          24500,
          18500,
          18500,
          57500,
          245000,
          4000,
          99000,
          1000,
          239000,
          8000,
          230000,
          249000,
          59000,
          607500,
          99000,
          159000,
          35000,
          6000,
          14000,
          12000,
          239000,
          3000,
          570000,
          20000,
          29000,
          144000,
          707500,
          144000,
          165000,
          50000,
          6000,
          129000,
          26500,
          609000,
          139000,
          107000,
          279000,
          299000,
          10500,
          309000,
          319000,
          249000,
          635000,
          28000,
          355000,
          99000,
          65500,
          319000,
          249000,
          635000,
          28000,
          355000,
          99000,
          65500,
          29000,
          189000,
          6500,
          59000,
          99000,
          374000,
          28000,
          220000,
          57000,
          165000,
          169000,
          101500,
          292000,
          525000,
          12000,
          28000,
          64500,
          28000,
          89000,
          35000,
          105000,
          119000,
          43900,
          22000,
          104000,
          139000,
          6000,
          28000,
          68500,
          102000,
          34000,
          3000,
          109000,
          607500,
          109000,
          15000,
          244000,
          6000,
          10500,
          299000,
          143000,
          6000,
          179000,
          198000,
          224500,
          29000,
          104000,
          199000,
          239500,
          99000,
          154000,
          197000,
          274000,
          59000,
          289000,
          270000,
          319000,
          489000,
          399000,
          907500,
          169000,
          285000,
          282000,
          65000,
          495000,
          154000,
          249000,
          177500,
          154500,
          24000,
          2250,
          6000,
          59000,
          439000,
          36000,
          1002,
          65000,
          229000,
          299000,
          145000,
          759500,
          299000,
          459000,
          299000,
          283500,
          99000,
          429000,
          12000,
          129000,
          499000,
          168000,
          28000,
          359000,
          159000,
          1199000,
          239000,
          13950,
          169000,
          145000,
          9900,
          12000,
          299000,
          79000,
          299000,
          349000,
          119000,
          209000,
          89000,
          229000,
          229000,
          149000,
          179000,
          195000,
          129000,
          109000,
          105000,
          279000,
          59000,
          165000,
          349000,
          59000,
          47000,
          119000,
          79000,
          174000,
          300000,
          329000,
          102500,
          319000,
          155000,
          264000,
          125000,
          600000,
          3900,
          18000,
          99000,
          12000,
          289000,
          585000,
          232000,
          14060,
          47000,
          161000,
          289000,
          149500,
          63950,
          66000,
          289000,
          239000,
          375000,
          225000,
          324050,
          28000,
          98000,
          500000,
          20790,
          172500,
          149500,
          63950,
          66000,
          289000,
          239000,
          375000,
          225000,
          324050,
          28000,
          98000,
          500000,
          20790,
          172500,
          299000,
          136700,
          139000,
          70000,
          28000,
          3000,
          195000,
          225000,
          14000,
          299000,
          309000,
          325000,
          64500,
          105000,
          12000,
          172000
         ],
         "xaxis": "x",
         "yaxis": "y"
        },
        {
         "alignmentgroup": "True",
         "customdata": [
          [
           "Tai nghe bluetooth AMOI F9 TWS 5.0 tai nghe không dây AMOI F9 TWS 5.0 cảm ứng chống nước IPX5",
           "300000",
           165000,
           0,
           "Hà Nội"
          ],
          [
           "Tai Nghe Bluetooth QP2 TWS Không Dây Bản Quốc Tế Định Vị Đổi Tên Tự Động Kết Nối Chạm Cảm Ứng Dùng Cho ĐT",
           "360000",
           235000,
           0,
           "Hà Nội"
          ],
          [
           "Tai Nghe Bluetooth HOCO PRO Bản Cao Cấp Định Vị Đổi Tên Tai Nghe Không Dây Tự Động Kết Nối Dùng Cho IOS Và Android",
           "380000",
           279000,
           0,
           "Hà Nội"
          ],
          [
           "Tai nghe không dây l12 tai nghe bluetooth l12 âm thanh chuẩn HIFI chạm cảm ứng có mic dùng cho IOS và Android",
           "185000",
           149000,
           0,
           "Hà Nội"
          ],
          [
           "[Mã ELHA9 giảm 15% đơn 50K] Tai Nghe Bluetooth Không Dây Bản Quốc Tế Âm Thanh Chuẩn Dùng Cho Android Và IOS Cao cấp",
           "400000",
           294000,
           0,
           "Hà Nội"
          ],
          [
           "Tai Nghe Bluetooth P2 Cao Cấp Định Vị Đổi Tên Tai Nghe Không Dây Tự Động Kết Nối Chạm Cảm Ứng Dùng Cho IOS Và Android",
           "350000",
           249000,
           0,
           "Hà Nội"
          ],
          [
           "Tai nghe bluetooth l12 TWS 5.0 tai nghe l12 không dây âm thanh chuẩn HIFI chạm cảm ứng có mic dùng cho IOS và Android",
           "190000",
           139000,
           0,
           "Hà Nội"
          ],
          [
           "Tai Nghe Bluetooth QP2 TWS Không Dây Bản Quốc Tế Định Vị Đổi Tên Tự Động Kết Nối Chạm Cảm Ứng Dùng Cho ĐT",
           "400000",
           269000,
           0,
           "Hà Nội"
          ],
          [
           "[Mã ELHA9 giảm 15% đơn 50K] Tai nghe bluetooth i12 bản mới nhất tự động kết nối đầy đủ tính năng âm thanh chuẩn",
           "0",
           71000,
           100000,
           "Hà Nội"
          ],
          [
           "[Mã ELHA9 giảm 15% đơn 50K] Tai Nghe Bluetooth 5.0 Không Dây Mini Pro 4/5 Tws Tiện Dụng",
           "299000",
           169000,
           0,
           "Hà Nội"
          ],
          [
           "Tai Nghe Bluetooth Không Dây i12 TWS 5.0 Âm Thanh HIFI, Cửa Sổ Tự Động Kết Nối, Hỗ Trợ Nhiều Dòng Máy",
           "179000",
           139000,
           0,
           "Hà Nội"
          ],
          [
           "Tai Nghe Bluetooth Không Dây TWS 5.0 Bản Cao Cấp Định Vị Đổi Tên Cảm Ứng Vân Tay Có Mic Dùng Cho IOS Và Android",
           "450000",
           299000,
           0,
           "Hà Nội"
          ],
          [
           "Tai Nghe Bluetooth i12 TWS 5.0 Không Dây Cảm Ứng Cực Nhạy Tăng Chỉnh Âm Lượng 1 Đổi 1 Trong 30 Ngày",
           "200000",
           129000,
           0,
           "Hà Nội"
          ],
          [
           "Tai Nghe Bluetooth Amoi F9 Pro Bản Quốc Tế Cao Cấp, Cảm Biến Vân Tay, Sạc Dự Phòng - Amoi F9 Pro Max",
           "300000",
           189000,
           0,
           "Hà Nội"
          ],
          [
           "Tai Nghe Bluetooth AMOI F9 TWS 5.0 Không Dây Cao Cấp Chạm Cảm Ứng Pin 2500mAh Chống Nước IPX5 Dùng Cho IOS Và Android",
           "300000",
           169000,
           0,
           "Hà Nội"
          ],
          [
           "Tai Nghe Bluetooth Q2 Cao Cấp Định Vị Đổi Tên Tai Nghe Không Dây Tự Động Kết Nối Chạm Cảm Ứng Dùng Cho IOS Và Android",
           "399000",
           239000,
           0,
           "Hà Nội"
          ],
          [
           "Tai Nghe Bluetooth TWS 2 Bản Cao Cấp Định Vị Đổi Tên Bản Full Chức Năng Dùng Cho điện thoại và laptop",
           "280000",
           239000,
           0,
           "Hà Nội"
          ],
          [
           "Tai nghe bluetooth l12 TWS 5.0 tai nghe l12 không dây âm thanh chuẩn HIFI chạm cảm ứng có mic dùng cho mọi điện thoại",
           "200000",
           129000,
           0,
           "Hà Nội"
          ],
          [
           "Tai Nghe Bluetooth PRO Bản Cao Cấp Định Vị Đổi Tên Tai Nghe Không Dây Tự Động Kết Nối Dùng Cho IOS Và Android",
           "400000",
           299000,
           0,
           "Hà Nội"
          ],
          [
           "Phụ Kiện Bảo Vệ Chống Đứt Gãy Dây Sạc Cho Điện Thoại Phụ Kiện Tai Nghe Bluetooth Cáp Sạc Pin Dự Phòng Vỏ Case Ốp",
           "0",
           3000,
           5000,
           "Hà Nội"
          ],
          [
           "Tai nghe bluetooth PR, Tai nghe không dây Full Chức Năng, Đổi Tên, Định Vị, Pin trâu dùng cho mọi dòng máy",
           "350000",
           260000,
           0,
           "Hà Nội"
          ],
          [
           "Tai Nghe Bluetooth A2, Không Dây Bản Cao Cấp, Sạc Không Dây, Định Vị, Đổi Tên,Cảm Ứng Chạm,Có Mic Đàm Thoại, Pin 4-5H",
           "300000",
           238000,
           0,
           "Hà Nội"
          ],
          [
           "Tai nghe bluetooth l12 TWS 5.0 tai nghe l12 không dây âm thanh chuẩn HIFI chạm cảm ứng có mic dùng cho IOS và Android",
           "190000",
           139000,
           0,
           "Hà Nội"
          ],
          [
           "Tai Nghe Bluetooth EP2, Không Dây Bản Cao Cấp, Sạc Không Dây, Định Vị, Đổi Tên,Cảm Ứng Dùng Cho Tất Cả Các Máy",
           "350000",
           245000,
           0,
           "Hà Nội"
          ],
          [
           "Dây Cáp Sạc X14 Cho ĐT Pin Dự Phòng Tai nghe Bluetooth Case pro Vỏ Ốp lưng",
           "0",
           22000,
           27000,
           "Hà Nội"
          ],
          [
           "Dây Cáp Sạc Dây Dù Cho ĐT Tai nghe Bluetooth ko dây Pin Dự Phòng Case",
           "0",
           16000,
           21000,
           "Hà Nội"
          ],
          [
           "Dây Cáp Sạc Dây Dù dài 1m và 3m Cho Phụ Kiện Tai nghe Bluetooth Pin Dự Phòng Awifi L2-3",
           "0",
           16000,
           21000,
           "Hà Nội"
          ],
          [
           "[Mã ELHA9 giảm 15% đơn 50K] Tai nghe bluetooth không dây TWS13 V5.0 cảm biến âm thanh HIFI có mic đàm thoại",
           "99000",
           57500,
           0,
           "Hà Nội"
          ],
          [
           "Tai nghe bluetooth EP2, Tai nghe không dây Full Chức Năng, Đổi Tên, Định Vị, Pin Trâu dùng cho mọi dòng máy",
           "320000",
           245000,
           0,
           "Hà Nội"
          ],
          [
           "Phụ Kiện Bảo Vệ Chống Đứt Gãy Dây Sạc Cho Tai Nghe Bluetooth Không Dây Cáp Sạc Vỏ Case - Awifi H3-6",
           "0",
           3000,
           5000,
           "Hà Nội"
          ],
          [
           "Tai Nghe Bluetooth Không Dây i12 inpods12 TWS 5.0 Âm Thanh HIFI, Cửa Sổ Tự Động Kết Nối, Hỗ Trợ Nhiều Dòng Máy",
           "0",
           79000,
           119000,
           "Hà Nội"
          ],
          [
           "Giá Đỡ Chống Lưng Cho Phụ Kiện pop Điện Thoại Tai Nghe Bluetooth, Pin Hình Giá Tựa - AWiFi Case L3-6",
           "2000",
           1000,
           0,
           "Hà Nội"
          ],
          [
           "Tai Nghe Bluetooth P2 Cao Cấp Định Vị Đổi Tên Tai Nghe Không Dây Tự Động Kết Nối Chạm Cảm Ứng Dùng Cho IOS Và Android",
           "289000",
           239000,
           0,
           "Hà Nội"
          ],
          [
           "Giá Đỡ Chống Lưng Cho Phụ Kiện pop Điện Thoại Tai Nghe Bluetooth Pin Dự Phòng Shin Case",
           "0",
           4000,
           12000,
           "Hà Nội"
          ],
          [
           "Tai nghe bluetooth AP2 Bản Cao Cấp 2022 Full chức năng- Đàm Thoại- Cảm Ứng- Đổi Tên- Định Vị- Dùng cho IOS và Androi",
           "440000",
           230000,
           0,
           "Hà Nội"
          ],
          [
           "Tai Nghe Bluetooth M10 Pro Tai Nghe Không M10 Pro Phiên Bản Nâng Cấp Pin Trâu, Nút Cảm Ứng Tự Động Kết Nối",
           "346000",
           249000,
           0,
           "Hà Nội"
          ],
          [
           "Tai Nghe i12 TWS Bluetooth 5.0 Chính Hãng Nghe Nhạc Không Dây Kết Nối Thiệt Bị Nhanh Dễ Sử Dụng",
           "100000",
           59000,
           0,
           "Hà Nội"
          ],
          [
           "Tai Nghe Bluetooth Không Dây TWS Air2 Cao Cấp Tích Hợp Micro, Định Vị GPS, Đổi Tên - Dùng Cho iOS và Android",
           "0",
           565000,
           650000,
           "Hà Nội"
          ],
          [
           "Tai nghe bluetooth l12 TWS 5.0 tai nghe không dây âm thanh chuẩn HIFI chạm cảm ứng có mic dùng cho IOS và Android",
           "0",
           79000,
           119000,
           "Hà Nội"
          ],
          [
           "Tai Nghe Mèo 23M Chụp Tai Bluetooth Không Dây, Đáng Yêu Có Đèn LED Sử Dụng Cho Mọi Thiết Bị Điện Thoại, Laptop",
           "181656",
           159000,
           0,
           "Hà Nội"
          ],
          [
           "Vỏ Ốp Case bảo vệ bao đựng tai nghe không dây bluetooth chống va đập - Awifi F1-6",
           "39000",
           35000,
           0,
           "Hà Nội"
          ],
          [
           "Giá Đỡ Chống Lưng Cho Phụ Kiện Điện Thoại Tai Nghe Bluetooth Không Dây Ôp 2 Pro Pin Dự Phòng Case",
           "0",
           4000,
           8000,
           "Hà Nội"
          ],
          [
           "Giá Đỡ Kẹp Đa Năng Cho Phụ Kiện Điện Thoại Tai Nghe Bluetooth Cáp Sạc Pin Dự Phòng - Shin Case",
           "0",
           12000,
           16000,
           "Hà Nội"
          ],
          [
           "Phụ Kiện Hình Thú Bảo Vệ Chống Đứt Gãy Dây Sạc Cho Điện Thoại Phụ Kiện Tai Nghe Bluetooth Cáp Sạc Pin Dự Phòng",
           "0",
           6000,
           18000,
           "Hà Nội"
          ],
          [
           "Tai nghe bluetooth AP2, Tai nghe không dây Full Chức Năng, Đổi Tên, Định Vị, Pin trâu dùng cho mọi dòng máy",
           "400000",
           239000,
           0,
           "Hà Nội"
          ],
          [
           "Giá đỡ điện thoại, Iring hỗ trợ xem phim gắn Tai Nghe Bluetooth pro Pin Dự Phòng Shin Case",
           "3000",
           3000,
           0,
           "Hà Nội"
          ],
          [
           "Tai Nghe Bluetooth Không Dây A2, Tai Nghe Không Dây Bản Cao Cấp Nhất, Nghe Gọi Cực Đỉnh, Có Mic, Đổi Tên-Định Vị",
           "0",
           546000,
           594000,
           "Hà Nội"
          ],
          [
           "Dây Cáp Sạc Cho Điện Thoại Phụ Kiện Tai Nghe Bluetooth Cáp Sạc Pin Dự Phòng - Shin Case",
           "39000",
           20000,
           0,
           "Hà Nội"
          ],
          [
           "Củ sạc UH102 Chính Hãng Hỗ trợ sạc nhanh cho Cho Điện Thoại Phụ Kiện Tai Nghe Bluetooth Cáp Sạc Pin Dự Phòng",
           "50000",
           29000,
           0,
           "Hà Nội"
          ],
          [
           "Tai nghe bluetooth không dây inpods i13 TWS gaming nhét tai, tai phone bluetooth giá rẻ cho IP, Android/iOs Sagopy",
           "0",
           129000,
           159000,
           "Hà Nội"
          ],
          [
           "Tai nghe Bluetooth TWS không dây AirPR0 cao cấp Tích hợp Micro, có Chống ồn - Xuyên âm - Dùng Cho iOS Và Android",
           "0",
           665000,
           750000,
           "Hà Nội"
          ],
          [
           "Tai nghe bluetooth không dây inpods Pro TWS gaming nhét tai, tai phone bluetooth giá rẻ cho IP, Android/iOs Sagopy",
           "0",
           129000,
           159000,
           "Hà Nội"
          ],
          [
           "Tai nghe bluetooth AMOI F9 TWS 5.0 bản Quốc tế không dây cảm ứng chống nước IPX5, chống ồn tích hợp sạc dự",
           "300000",
           165000,
           0,
           "Hà Nội"
          ],
          [
           "Tai Nghe Mèo Bluetooth P47M MZ47 Tai Mèo Dễ Thương Có Mic, Âm Bass Mạnh Mẽ Nghe Nhạc Cực Hay FullBox",
           "0",
           25000,
           75000,
           "Hà Nội"
          ],
          [
           "Giá Đỡ Chống Lưng Cho Phụ Kiện pop Điện Thoại Tai Nghe Bluetooth Pin Dự Phòng Hình Kwas - Awifi T3-5",
           "15000",
           6000,
           0,
           "Hà Nội"
          ],
          [
           "Tai Nghe Bluetooth F9 Pro Cảm Ứng Thông Minh Playtime Đến 22H Chống Nước Hàng Chính Hãng Bảo Hành 12 Tháng- LINKEETECH",
           "300000",
           129000,
           0,
           "Hà Nội"
          ],
          [
           "Bộ Bọc Củ Sạc Phụ Kiện Bảo Vệ Chống Đứt Gãy Dây Sạc Cho Điện Thoại Phụ Kiện Tai Nghe Bluetooth Cáp Sạc Pin Dự Phòng",
           "0",
           19000,
           34000,
           "Hà Nội"
          ],
          [
           "Tai Nghe Bluetooth PRO, Không Dây Bản Cao Cấp,Sạc Không Dây, Định Vị, Đổi Tên,Cảm Ứng Dùng Cho Tất Cả Các Máy Điện Thoại",
           "0",
           588000,
           630000,
           "Hà Nội"
          ],
          [
           "Tai nghe bluetooth l12 TWS 5.0 tai nghe l12 không dây âm thanh chuẩn HIFI chạm cảm ứng có mic dùng cho IOS và Android",
           "190000",
           139000,
           0,
           "Hà Nội"
          ],
          [
           "Bộ Dụng Cụ Vệ Sinh Bàn Phím, Tai Nghe Bluetooth Đa Chức Năng Siêu Tiện Lợi",
           "0",
           105000,
           109000,
           "Hà Nội"
          ],
          [
           "Tai Nghe Bluetooth Không Dây Bản Quốc Tế Âm Thanh Chuẩn HIFI Dùng Cho Android Và IOS Cao t63",
           "0",
           259000,
           299000,
           "Hà Nội"
          ],
          [
           "Tai Nghe Bluetooth JBL H6 Pro 🌈Chống ồn🌈3 Micro🌈Pin 20H - Bảo Hành 6 Tháng",
           "598000",
           299000,
           0,
           "Hà Nội"
          ],
          [
           "Miếng Dán Bảo Vệ Kim Loại Mạ Vàng Chống Bụi Cho airpods Tai Nghe Bluetooth Không Dây Ốp Lưng 2 Pro Vỏ Case",
           "0",
           6000,
           15000,
           "Hà Nội"
          ],
          [
           "Tai Nghe Bluetooth không dây AP3 Cảm Biến Đa Điểm Không Dây 5.0 Định Vị - Đổi Tên - Sạc Không Dây",
           "400000",
           309000,
           0,
           "Hà Nội"
          ],
          [
           "Tai nghe bluetooth không dây đeo cổ BH100 thiết kế thể thao ôm sát cổ giúp vận động thể thoải mái hơn",
           "600000",
           319000,
           0,
           "Hà Nội"
          ],
          [
           "Tai nghe bluetooth đeo cổ Earldom BH 66 âm thanh đỉnh cao âm bass cực sâu thiết kế ôm cổ vận động dễ dàng thoải mái",
           "500000",
           249000,
           0,
           "Hà Nội"
          ],
          [
           "Tai Nghe Bluetooth A3, Không Dây Bản Cao Cấp, Sạc Không Dây, Định Vị, Đổi Tên,Cảm Ứng Dùng Cho Tất Cả Các Máy Điện Thoại",
           "0",
           610000,
           660000,
           "Hà Nội"
          ],
          [
           "Vỏ ốp case bảo vệ bao đựng cho airpods tai nghe không dây bluetooth chống va đập",
           "0",
           21000,
           35000,
           "Hà Nội"
          ],
          [
           "Tai nghe bluetooth 1 tai chính hãng Earldom ET - BH65 chất âm rõ ràng chi tiết thiết kế ôm tai cố định",
           "600000",
           355000,
           0,
           "Hà Nội"
          ],
          [
           "Tai nghe Bluetooth AMOI F9 TWS 5.0 bản QUỐC TẾ không dây cảm ứng chống nước IPX5, chống ồn tích hợp sạc dự phòng 2500mAh",
           "180000",
           99000,
           0,
           "Hà Nội"
          ],
          [
           "Tai Nghe Chụp Tai Bluetooth P47 - P47M Tai Mèo - Có Khe Cắm Thẻ Nhớ - Có Mic",
           "0",
           62000,
           69000,
           "Hà Nội"
          ],
          [
           "Tai nghe bluetooth không dây đeo cổ BH100 thiết kế thể thao ôm sát cổ giúp vận động thể thoải mái hơn",
           "600000",
           319000,
           0,
           "Hà Nội"
          ],
          [
           "Tai nghe bluetooth đeo cổ Earldom BH 66 âm thanh đỉnh cao âm bass cực sâu thiết kế ôm cổ vận động dễ dàng thoải mái",
           "500000",
           249000,
           0,
           "Hà Nội"
          ],
          [
           "Tai Nghe Bluetooth A3, Không Dây Bản Cao Cấp, Sạc Không Dây, Định Vị, Đổi Tên,Cảm Ứng Dùng Cho Tất Cả Các Máy Điện Thoại",
           "0",
           610000,
           660000,
           "Hà Nội"
          ],
          [
           "Vỏ ốp case bảo vệ bao đựng cho airpods tai nghe không dây bluetooth chống va đập",
           "0",
           21000,
           35000,
           "Hà Nội"
          ],
          [
           "Tai nghe bluetooth 1 tai chính hãng Earldom ET - BH65 chất âm rõ ràng chi tiết thiết kế ôm tai cố định",
           "600000",
           355000,
           0,
           "Hà Nội"
          ],
          [
           "Tai nghe Bluetooth AMOI F9 TWS 5.0 bản QUỐC TẾ không dây cảm ứng chống nước IPX5, chống ồn tích hợp sạc dự phòng 2500mAh",
           "180000",
           99000,
           0,
           "Hà Nội"
          ],
          [
           "Tai Nghe Chụp Tai Bluetooth P47 - P47M Tai Mèo - Có Khe Cắm Thẻ Nhớ - Có Mic",
           "0",
           62000,
           69000,
           "Hà Nội"
          ],
          [
           "Củ sạc HC UH102 Chính Hãng Hỗ trợ sạc nhanh Cho Pin Dự Phòng Cáp Sạc Tai nghe Bluetooth Case AWiFi - L2-4",
           "50000",
           29000,
           0,
           "Hà Nội"
          ],
          [
           "Tai Nghe Bluetooth M10 Pro Tai Nghe Không M10 Pro Phiên Bản Nâng Cấp Pin Trâu, Nút Cảm Ứng Tự Động Kết Nối",
           "299000",
           189000,
           0,
           "Hà Nội"
          ],
          [
           "Giá Đỡ Chống Lưng Cho Phụ Kiện Tai Nghe Bluetooth Pin Dự Phòng Quấn cáp sạc (Mẫu 20 hình) -Awifi L1-5",
           "0",
           5000,
           8000,
           "Hà Nội"
          ],
          [
           "Tai Nghe Bluetooth i12 - Táo Xanh Phụ Kiện [i12.Trắng]",
           "99000",
           59000,
           0,
           "Hà Nội"
          ],
          [
           "Tai nghe không dây Bluetooth TWS AMoi F9 Pro - Chống nước IP67 - Pin 2000maH - Dùng 600 tiếng",
           "200000",
           99000,
           0,
           "Hà Nội"
          ],
          [
           "Tai nghe chụp tai bluetooth PLEXTONE G5 chống ồn Headphone có mic gaming độ trễ thấp 45ms - PLEXTONE G800",
           "0",
           299000,
           449000,
           "Hà Nội"
          ],
          [
           "Vỏ ốp case bảo vệ bao đựng cho airpods tai nghe không dây bluetooth 1/2/Pro - Shin Case",
           "0",
           21000,
           35000,
           "Hà Nội"
          ],
          [
           "Tai Nghe Bluetooth A2 Cao Cấp Định Vị Đổi Tên Tai Nghe Không Dây Tự Động Kết Nối Chạm Cảm Ứng Dùng Cho IOS Và Android",
           "0",
           215000,
           225000,
           "Hà Nội"
          ],
          [
           "Tai nghe bluetooth không dây TWS cảm ứng điều khiển cảm biến âm thanh HIFI cho tất cả điện thoại",
           "95000",
           57000,
           0,
           "Hà Nội"
          ],
          [
           "Tai nghe bluetooth gaming S10 Pro cao cấp, cảm ứng, hỗ trợ đàm thoại, nghe nhạc, kiêm sạc dự phòng",
           "300000",
           165000,
           0,
           "Hà Nội"
          ],
          [
           "Tai nghe bluetooth F9 TWS 5.0 bản Quốc tế không dây cảm ứng chống nước IPX5, chống ồn tích hợp sạc dự phòng 2500mAh",
           "300000",
           169000,
           0,
           "Hà Nội"
          ],
          [
           "Tai nghe mèo Bluetooth, tai mèo dễ thương có mic, âm bass mạnh mẽ nghe nhạc cực hay bảo hành 1 năm",
           "0",
           75000,
           128000,
           "Hà Nội"
          ],
          [
           "Tai Nghe Bluetooth không dây AP3 Cảm Biến Đa Điểm Không Dây 5.0 Định Vị - Đổi Tên - Sạc Không Dây",
           "550000",
           292000,
           0,
           "Hà Nội"
          ],
          [
           "Tai nghe bluetooth Hổ vằn Bản Cao Cấp, Full chức năng, Âm thanh cực hay, Pin trâu dùng cho IOS Và Android",
           "735000",
           525000,
           0,
           "Hà Nội"
          ],
          [
           "Phụ kiện bảo vệ đầu dây Cho Điện Thoại Phụ Kiện Tai Nghe Bluetooth Cáp Sạc Pin Dự Phòng đầu kết nối - Shin Case",
           "0",
           9000,
           15000,
           "Hà Nội"
          ],
          [
           "Vỏ Ốp Case bảo vệ bao đựng cho airpods tai nghe không dây bluetooth 1/2/Pro chống va đập - Shin Case",
           "0",
           21000,
           35000,
           "Hà Nội"
          ],
          [
           "Tai nghe Bluetooth AMOI F9 Phiên Bản PRO Quốc Tế Nâng Cấp Pin Trâu 3000 maH, Nút Cảm Ứng Kiêm Sạc Dự Phòng",
           "0",
           30000,
           99000,
           "Hà Nội"
          ],
          [
           "Vỏ Ốp Case bảo vệ bao đựng cho airpods tai nghe không dây bluetooth 1/2/Pro chống va đập - Shin Case",
           "0",
           21000,
           35000,
           "Hà Nội"
          ],
          [
           "[Mã ELHA9 giảm 15% đơn 50K] Tai Nghe Nhét Tai Inpods Pro4 Suntaiho TWS Bluetooth 5.1 Mini Cho Điện Thoại, Máy tính bảng",
           "119000",
           89000,
           0,
           "Hà Nội"
          ],
          [
           "Vỏ ốp case bảo vệ bao đựng tai nghe không dây bluetooth (2) chống va đập - AWiFi F1-7",
           "39000",
           35000,
           0,
           "Hà Nội"
          ],
          [
           "Tai nghe bluetooth Amoi F9 Pro bản quốc tế cao cấp, cảm biến vân tay, kiêm sạc dự phòng - Audio365",
           "200000",
           105000,
           0,
           "Hà Nội"
          ],
          [
           "Tai nghe bluetooth tws Inp12/13 không dây mini âm thanh hifi cảm ứng thông minh- LinkeeTech",
           "0",
           99000,
           139000,
           "Hà Nội"
          ],
          [
           "Thiết bị thu phát âm thanh Usb bluetooth 5.0 âm thanh đa chức năng jack cắm 3.5mm cho loa, ô tô tai nghe blue",
           "54000",
           43900,
           0,
           "Hà Nội"
          ],
          [
           "Vỏ Ốp Case bảo vệ bao đựng cho airpods tai nghe không dây bluetooth 1/2/Pro chống va đập - Shin case",
           "0",
           9000,
           35000,
           "Hà Nội"
          ],
          [
           "[Mã BMINC50] Tai Nghe Bluetooth Không Dây i12 TWS 5.0 Âm Thanh HIFI Hỗ Trợ Nhiều Dòng Máy- LC DESIGN",
           "0",
           79000,
           129000,
           "Hà Nội"
          ],
          [
           "Tai nghe bluetooth l12 TWS 5.0 tai nghe l12 không dây âm thanh chuẩn HIFI chạm cảm ứng có mic dùng cho IOS và Android",
           "190000",
           139000,
           0,
           "Hà Nội"
          ],
          [
           "Giá Đỡ Chống Lưng Cho Phụ Kiện pop điện thoại Tai Nghe Bluetooth – Shin Case",
           "0",
           4000,
           8000,
           "Hà Nội"
          ],
          [
           "Vỏ ốp case bảo vệ bao đựng cho airpods tai nghe không dây bluetooth - Shin Case",
           "0",
           21000,
           35000,
           "Hà Nội"
          ],
          [
           "Tai nghe bluetooth không dây Gutek inpods i12 v5.0 nút cảm ứng âm thanh HiFi",
           "0",
           68000,
           69000,
           "Hà Nội"
          ],
          [
           "Tai nghe bluetooth 5.0 True Wireless Amoi F9 Pro bản quốc tế cao cấp cảm biến vân tay , kiêm sạc dự phòng",
           "0",
           75000,
           129000,
           "Hà Nội"
          ],
          [
           "Vỏ bảo vệ bao đựng tai nghe bluetooth i12 - Case inpods cao cấp chống va đập",
           "50000",
           34000,
           0,
           "Hà Nội"
          ],
          [
           "Giá Đỡ Chống Lưng Cho Phụ Kiện pop Điện Thoại Tai Nghe Bluetooth Pin Dự Phòng Hình Gấu - Awifi Case T3-4",
           "4000",
           3000,
           0,
           "Hà Nội"
          ],
          [
           "Tai nghe bluetooth không dây P6 Pro cảm ứng mic đàm thoại chống ồn tốt âm thanh HIFI- LinkeeTech",
           "180000",
           109000,
           0,
           "Hà Nội"
          ],
          [
           "Tai Nghe Bluetooth TWS AirP 3 Cao Cấp Không Dây Tích Hợp Micro, Định Vị, Đổi Tên, Cảm Biến Chạm, Dùng Cho iOS và Android",
           "0",
           565000,
           650000,
           "Hà Nội"
          ],
          [
           "Tai nghe bluetooth P6 chính hãng âm thanh Superbass cảm biến vân tay 1 chạm- Linkeetech",
           "180000",
           109000,
           0,
           "Hà Nội"
          ],
          [
           "[ Full Hộp ] Phụ Kiện Bảo Vệ Chống Gãy Đầu Sạc Cho Phụ Kiện Tai Nghe, Tai Nghe Bluetooth - Awifi Case T1-11",
           "19000",
           15000,
           0,
           "Hà Nội"
          ],
          [
           "Tai Nghe Bluetooth A2 Plus Không Dây Tự Động Kết Nối Chạm Cảm Thông Minh Ứng Dùng Cho Mọi Dòng ĐT- LC DESIGN",
           "0",
           229000,
           259000,
           "Hà Nội"
          ],
          [
           "Giá Đỡ Chống Lưng Cho Phụ Kiện pop Điện Thoại Tai Nghe Bluetooth Pin Dự Phòng Shin Case",
           "0",
           4000,
           8000,
           "Hà Nội"
          ],
          [
           "Bao Đựng Cho Phụ Kiện Tai Nghe Bluetooth Dây Cáp Sạc Pin Dự Phòng – Shin Case",
           "0",
           7000,
           14000,
           "Hà Nội"
          ],
          [
           "Tai nghe bluetooth ap3 âm thanh hay pin 5h sạc không dây (bh 3 tháng)",
           "315000",
           299000,
           0,
           "Hà Nội"
          ],
          [
           "Tai nghe bluetooth y12 TWS 5.0 tai nghe không dây âm thanh chuẩn HIFI chạm cảm ứng có mic nghe được 2 bên",
           "180000",
           143000,
           0,
           "Hà Nội"
          ],
          [
           "Giá Đỡ Chống Lưng Cho Phụ Kiện pop Điện Thoại Tai Nghe Bluetooth Pin Dự Phòng Shin Case",
           "0",
           4000,
           8000,
           "Hà Nội"
          ],
          [
           "Tai Nghe Bluetooth Không Dây AP2 Cao Cấp Full Chức Năng Định Vị - Đổi Tên - Bluetooth Tai Nghe Dùng được tất cả dòng máy",
           "300000",
           179000,
           0,
           "Hà Nội"
          ],
          [
           "Tai Nghe Bluetooth F9 Plus Cảm Ứng Thông Minh Playtime Đến 22H Chống Nước Hàng Chính Hãng Bảo Hành 12 Tháng- LINKEETECH",
           "400000",
           198000,
           0,
           "Hà Nội"
          ],
          [
           "[Mã BMBAU50] Tai Nghe Bluetooth Không Dây U18 ProTWS 5.0 Âm Thanh HIFI Hỗ Trợ Nhiều Dòng Máy- LC DESIGN",
           "0",
           199000,
           250000,
           "Hà Nội"
          ],
          [
           "[Mã BMINC50 giảm đến 50K đơn 99K] Vỏ bảo vệ tai nghe bluetooth i12/ap2/ap3/pro- LC DESIGN",
           "0",
           19000,
           39000,
           "Hà Nội"
          ],
          [
           "Tai nghe bluetooth F9/ F9 Pro V5.0 cảm biến vân tay, tai nghe không dây nhét tai âm thanh Hifi chống nước chuẩn IPX7 đen",
           "0",
           99000,
           109000,
           "Hà Nội"
          ],
          [
           "[Mã BMINC50] Tai nghe Bluetooth A3 Mini 5.0 Nhỏ Gọn Tiện Lợi Âm Thanh HIfi Hàng Chính Hãng LC DESIGN",
           "400000",
           199000,
           0,
           "Hà Nội"
          ],
          [
           "Tai Nghe Bluetooth F9 Plus Không Dây Gaming Cảm Ứng Thông Minh Chơi Nhạc Đến 12H Dock Sạc 3500MAH- LC DESIGN",
           "0",
           229000,
           250000,
           "Hà Nội"
          ],
          [
           "Tai nghe Không dây Amoi F9 - Bluetooth 5.0 - Pin 280 giờ - Chống nước IPX7",
           "200000",
           99000,
           0,
           "Hà Nội"
          ],
          [
           "Tai Nghe Không Dây PRO5 TWS 5.2 Âm Thanh Sống Động Bluetooth Kết Nối Nhanh Đời Mới Nhất Bảo Hành 12TH - BENKA",
           "179000",
           154000,
           0,
           "Hà Nội"
          ],
          [
           "Tai nghe bluetooth mini xiaomi model 2020 True Wireless Bass khoẻ - BH 1 năm",
           "197000",
           197000,
           0,
           "Hà Nội"
          ],
          [
           "Tai Nghe Bluetooth Không Dây 5.1 TWS Gaming K86 - Có Mic - Độ Trễ Thấp - Pin Trâu - Chính Hãng HD DESIGN",
           "0",
           259000,
           289000,
           "Hà Nội"
          ],
          [
           "Vỏ ốp case airpod 2 slicon bảo vệ tai nghe bluetooth chống va đập",
           "0",
           39000,
           79000,
           "Hà Nội"
          ],
          [
           "Tai Nghe Bluetooth AP Pro TWS 5.0 Pin Dung Lượng Cao Âm Thanh Nghe Nhạc Chất Lượng BH 12Th",
           "289000",
           289000,
           0,
           "Hà Nội"
          ],
          [
           "Tai nghe không dây bluetooth ap pro âm thanh đa chiều dùng cho các dòng điện thoại (bh lỗi 1 đổi 1)",
           "320000",
           270000,
           0,
           "Hà Nội"
          ],
          [
           "Tai Nghe Bluetooth Pin Trâu Benka 08 Thời Gian Đàm Thoại 12h Tai Nghe Không Dây Thể Thao Phù Hợp Nghe Nhạc Chơi Game",
           "529000",
           319000,
           0,
           "Hà Nội"
          ],
          [
           "Tai Nghe Bluetooth GORSUN E98 TWS Âm Trầm Cao Cấp Micro Tích Hợp Bảo Vệ Thính Giác Pin Khủng 12h Chính Hãng BH 12Th",
           "559000",
           489000,
           0,
           "Hà Nội"
          ],
          [
           "Tai Nghe Bluetooth 5.0 GORSUN E61 TWS Âm Thanh Nổi Trùm Đầu Bảo Vệ Thính Giác Tiêu Chuẩn Quốc Tế BH 12Th - BENKA",
           "459000",
           399000,
           0,
           "Hà Nội"
          ],
          [
           "Tai Nghe Bluetooth GEN 3 1562E l Âm Thanh Hay l Định vị - Đổi tên l Tháo Tai Ngắt Kết Nối l Chuyển Đổi Đa Thiết Bị",
           "0",
           880000,
           935000,
           "Hà Nội"
          ],
          [
           "Tai Nghe Bluetooth Không Dây PRO 3 TWS 5.0 Pin Dung Lượng Cao Âm Thanh Nghe Nhạc Chất Lượng BH 12Th - BENKA",
           "279000",
           169000,
           0,
           "Hà Nội"
          ],
          [
           "Tai Nghe Bluetooth HOCO PRO Bản Cao Cấp Định Vị Đổi Tên Tai Nghe Không Dây Tự Động Kết Nối Dùng Cho IOS Và Android",
           "398000",
           285000,
           0,
           "Hà Nội"
          ],
          [
           "Tai Nghe Nhét Tai Không Dây Baseus Bowie WM02 Bluetooth 5.3 TWS / EncokWM01 Bluetooth 5.0 TWS Dùng Cho IOS Android",
           "0",
           246000,
           318000,
           "Hà Nội"
          ],
          [
           "Tai nghe Blutooth S12 nhiều màu không dây nút cảm ứng âm thanh HIFI có mic đàm thoại kết nối mọi điện thoại",
           "99000",
           65000,
           0,
           "Hà Nội"
          ],
          [
           "Headphone Tai nghe bluetooth chụp tai Rockspace O2 có micro nghe nhạc liên tục 15h hàng chính hãng Bảo Hành 1 năm",
           "590000",
           495000,
           0,
           "Hà Nội"
          ],
          [
           "Tai Nghe Bluetooth Mini Tws 5.0 Không Dây Tiện Dụng Pin Trâu Kiểu Dáng Thế Thao | free ship toàn quốc",
           "154000",
           154000,
           0,
           "Hà Nội"
          ],
          [
           "Tai nghe bluetooth không dây True WireLess Thế Hệ 3 Pro - Tai Nghe Không Dây Thể Thao TWS Chơi Game Có Mic",
           "0",
           239000,
           259000,
           "Hà Nội"
          ],
          [
           "Tai Nghe Bluetooth APP 3/Pro Thế Hệ Mới Bass Căng kết nối Bluetooth 5.2 Dùng cho IOS, ANDROID",
           "0",
           80000,
           275000,
           "Hà Nội"
          ],
          [
           "Tai nghe bluetooth amoi F9 TM Shop không dây true wireless chống ồn dành cho samsung IP chính hãng giá rẻ",
           "0",
           99000,
           210000,
           "Hà Nội"
          ],
          [
           "Bộ dán decal full phụ kiện dây cáp sạc kết nối tai nghe bluetooth - Shin case",
           "24000",
           24000,
           0,
           "Hà Nội"
          ],
          [
           "Phụ Kiện Bảo Vệ Chống Đứt Gãy Đầu Sạc Cho Phụ Kiện Tai Nghe Bluetooth Airpod i12 Cáp Sạc Iphone Pin Dự Phòng Thú Cắn Cáp",
           "0",
           1000,
           3500,
           "Hà Nội"
          ],
          [
           "Giá Đỡ Chống Lưng Cho Phụ Kiện pop Điện Thoại Tai Nghe Bluetooth Pin Dự Phòng Shin Case",
           "0",
           4000,
           8000,
           "Hà Nội"
          ],
          [
           "[Tai Nghe i12 ]Tai Nghe Bluetooth i12 Loại tốt không dây i12 TWS - Loại 2 tai Cảm ứng vân tay Pin khỏe Dễ Sử Dụng",
           "100000",
           59000,
           0,
           "Hà Nội"
          ],
          [
           "Tai Nghe Bluetooth Không Dây Buds Pro TWS 5.0 Âm Thanh Nổi Nghe Nhạc Chất Lượng Cao Bảo Hành 12 Tháng - BENKA",
           "719000",
           439000,
           0,
           "Hà Nội"
          ],
          [
           "Tai nghe bluetooth i12 không dây inpods tws cảm ứng vân tay âm thanh hifi 5.0 tai nghe nhét tai giá rẻ",
           "0",
           12000,
           60000,
           "Hà Nội"
          ],
          [
           "Hộp carton đóng hàng Tai Nghe Bluetooth APP 3/Pro Thế Hệ Mới Bass Căng kết nối Bluetooth 5.2 Dùng cho IOS, ANDROID",
           "1002",
           1002,
           0,
           "Hà Nội"
          ],
          [
           "Tai Nghe Bluetooth TWS, Tai Nghe I12 Cảm Ứng Âm Thanh Có Mic Đàm Thoại Bảo Hành 6 Tháng 1 Đổi 1",
           "100000",
           65000,
           0,
           "Hà Nội"
          ],
          [
           "Tai Nghe Bluetooth BT03 Âm Thanh Nổi Giảm Tiếng Ồn Thiết Kế Đẹp Mắt Bảo Hành 12TH",
           "399000",
           229000,
           0,
           "Hà Nội"
          ],
          [
           "Tai Nghe Bluetooth Pin Khủng Benka 05 Thời Gian Đàm Thoại Lên Đến 10 Tiếng Tai Nghe Không Dây Tích Hợp Âm Trầm Êm Dịu",
           "499000",
           299000,
           0,
           "Hà Nội"
          ],
          [
           "Tai Nghe Bluetooth XiaoMi Mini A6s MiPods True Wireless - Bass Cực Mạnh,Công nghệ 5.0 - BẢO HÀNH ĐỔI MỚI",
           "145000",
           145000,
           0,
           "Hà Nội"
          ],
          [
           "Tai Nghe Blutooth Hổ Vằn 1562E Gen 3 Dòng Tai Nghe Không Dây Cao Cấp Nhất Thế Hệ 3 Chip Louda Âm Thanh Không Gian Cực Đã",
           "0",
           619000,
           900000,
           "Hà Nội"
          ],
          [
           "Tai nghe bluetooth không dây TWS Magicsee R11 - Âm Bass to - Âm Treble Trong - Pin Trâu - Sạc Type-C",
           "400000",
           299000,
           0,
           "Hà Nội"
          ],
          [
           "Tai Nghe Bluetooth Không Dây Galaxy Buds Live SM-R180 TWS Âm Thanh Êm Dịu Thiết Kế Thời Thượng Bảo Hành12th-BENKA",
           "699000",
           459000,
           0,
           "Hà Nội"
          ],
          [
           "Tai nghe Bluetooth Không dây Thế hệ 2 New, Tai phone bluetooth Cao cấp nhất Chính hãng Junior09 dành cho IOS và Android",
           "550000",
           299000,
           0,
           "Hà Nội"
          ],
          [
           "Tai Nghe Nhét Tai Không Dây Baseus Bowie WM02 Bluetooth 5.3 TWS/ Baseus WM01 TWS Chống Ồn Bluetooth 5.0",
           "0",
           248000,
           319000,
           "Hà Nội"
          ],
          [
           "Tai Nghe Bluetooth Không Dây i12 5.0 TWS. Âm Thanh HIFI, Cửa Sổ Tự Động Kết Nối, Cảm Ứng.",
           "170000",
           99000,
           0,
           "Hà Nội"
          ],
          [
           "Tai Nghe Bluetooth Không Dây Galaxy Buds Plus R175 TWS 5.0 Nghe Nhạc Êm Nhẹ Tai Nghe Không Dây Pin 2h BH 12T - BENKA",
           "599000",
           429000,
           0,
           "Hà Nội"
          ],
          [
           "Phụ Kiện Bảo Vệ Đầu Sạc Cho Điện Thoại Phụ Kiện Tai Nghe Bluetooth Cáp Sạc Pin Dự Phòng Vỏ Case Ốp Lưng - Shin Case",
           "0",
           9000,
           15000,
           "Hà Nội"
          ],
          [
           "Tai nghe Bluetooth Y12 TWS 5.0 cao cấp tai nghe không dây âm thanh chuẩn HIF, cửa sổ tự động kết nối, tai nghe Y12 trắng",
           "172000",
           129000,
           0,
           "Hà Nội"
          ],
          [
           "Tai Nghe Bluetooth Không Dây Galaxy Buds 2 TWS 5.0 Thiết Kế Nhỏ Gọn Âm Thanh Chất Lượng Cao BH 12Th - BENKA",
           "739000",
           499000,
           0,
           "Hà Nội"
          ],
          [
           "Tai nghe xiaomi bluetooth không dây giá rẻ true wireless gaming android nhét tai in ear có mic",
           "168000",
           168000,
           0,
           "Hà Nội"
          ],
          [
           "Vỏ Ốp Case bảo vệ bao đựng cho airpods tai nghe không dây bluetooth 1/2/Pro chống va đập - Shin Case",
           "0",
           21000,
           35000,
           "Hà Nội"
          ],
          [
           "Tai phone bluetooth không dây Junior09 Pro - Tai nghe không dây - Bản Cao cấp Nhất - Đầy Đủ Tính Năng Micro Chống ồn",
           "650000",
           359000,
           0,
           "Hà Nội"
          ],
          [
           "Tai Nghe Bluetooth PULIERDE Y08 Chip 5.2 TOPSTORE ,Tai Nghe Chụp Tai Âm Thanh HiFi Có Mic,Chống Ồn Hiệu Quả",
           "200000",
           159000,
           0,
           "Hà Nội"
          ],
          [
           "Tai Nghe Chụp Tai Không Dây GORSUN M98 Bluetooth TWS Chống Ồn Cao Cấp Có Mic Bảo Vệ Thính Giác Pin Khủng BH 12Th - BENKA",
           "1599000",
           1199000,
           0,
           "Hà Nội"
          ],
          [
           "Tai Nghe Gaming Apro366 Tws Bluetooth 5.0 - Không Dây Có Mic Với Độ Trễ Thấp - Chính Hãng HD DESIGN",
           "389000",
           239000,
           0,
           "Hà Nội"
          ],
          [
           "Vỏ Ốp Case airpods airpod bảo vệ bao đựng tai nghe không dây bluetooth Pro/1/2/i12/i9/tws chống va đập - lala17",
           "0",
           8900,
           19000,
           "Hà Nội"
          ],
          [
           "Tai Nghe Bluetooth 5.0 PRO6 Âm Thanh Siêu Nổi Nghe Nhạc Công Nghệ Cao TWS Khoảng Cách Tới 15m Bảo Hành 12 Tháng - BENKA",
           "219000",
           169000,
           0,
           "Hà Nội"
          ],
          [
           "Tai Nghe PRO4 Bluetooth TWS 5.0 Không Dây Cao Cấp Giảm Tiếng Ồn Pin Khủng 10h Bảo Hành 12 Tháng - BENKA",
           "169000",
           145000,
           0,
           "Hà Nội"
          ],
          [
           "[GIẢM GIÁ SỐC 3 NGÀY] Dây cáp sạc samsung micro usb dùng cho điện thoại-sạc dự phòng-tai nghe bluetooth....",
           "19000",
           9900,
           0,
           "Hà Nội"
          ],
          [
           "Miếng Dán Bảo Vệ Kim Loại Mạ Vàng Chống Bụi Cho Tai Nghe Bluetooth Không Dây Ốp Lưng Vỏ Case - Awifi L2-6",
           "0",
           9000,
           15000,
           "Hà Nội"
          ],
          [
           "Tai nghe bluetooth Beartek Bearpods B68 có đổi tên, chạm cảm ứng, bass mạnh",
           "598000",
           299000,
           0,
           "Hà Nội"
          ],
          [
           "Tai Nghe Không Dây Hoàn Toàn Inpods I12 Thế Hệ Mới Nhất Bảo Hành 12 Tháng, Tai Nghe TWS Cực Đẹp 2022",
           "139000",
           79000,
           0,
           "Hà Nội"
          ],
          [
           "Tai Nghe Bluetooth Pin Khủng Bentex J05 Thời Gian Đàm Thoại Lên Đến 10 Tiếng Tai Nghe Không Dây Tích Hợp Âm Trầm Êm Dịu",
           "499000",
           299000,
           0,
           "Hà Nội"
          ],
          [
           "Tai Nghe Bluetooth Pin Trâu Bentex J08 Thời Gian Đàm Thoại 12h Tai Nghe Không Dây Gaming Thể Thao Nghe Nhạc Chơi Game",
           "0",
           319000,
           379000,
           "Hà Nội"
          ],
          [
           "Tai nghe bluetooth không dây inpods i13 cảm ứng đổi tên định vị chống ồn âm thanh HIFI",
           "220000",
           119000,
           0,
           "Hà Nội"
          ],
          [
           "Tai Nghe Bluetooth Không Dây Bentex J01 Âm Thanh Nổi Giảm Tiếng Ồn Chơi Game Thể Thao Có Đèn Cảnh Báo Bảo Hành 12 Tháng",
           "349000",
           209000,
           0,
           "Hà Nội"
          ],
          [
           "Tai nghe bluetooth AMOI F9 TWS 5.0 bản Quốc tế không dây cảm ứng chống nước IPX5, chống ồn tích hợp sạc dự phòng 2500mAH",
           "150000",
           89000,
           0,
           "Hà Nội"
          ],
          [
           "Tai Nghe Bluetooth Không Dây Bentex J03 Âm Thanh Nổi Phiên Bản 2022 Giảm Tiếng Ồn Thiết Kế Đẹp Mắt Bảo Hành 12 Tháng",
           "399000",
           229000,
           0,
           "Hà Nội"
          ],
          [
           "Tai Nghe Bluetooth Không Dây True Wireless Bentex J11 Phiên Bản 2022 Tai Nghe Thể Thao Âm Thanh Chất Lượng Cao BH 12Th",
           "0",
           219000,
           239000,
           "Hà Nội"
          ],
          [
           "Tai Nghe Không Dây P4 Bluetooth TWS 5.0 Giảm Tiếng Ồn Pin Tới 10h Bảo Hành 12 Tháng - BENTEX",
           "169000",
           149000,
           0,
           "Hà Nội"
          ],
          [
           "Tai Nghe Bluetooth Không Dây Ai3 TWS 5.0 Pin Dung Lượng Cao Âm Thanh Nghe Nhạc Chất Lượng BH 12Th - BENTEX",
           "279000",
           179000,
           0,
           "Hà Nội"
          ],
          [
           "Tai nghe bluetooth 5.2 Gaming P36, P30 TWS, Âm thanh HIFI cao cấp, Bluetooth 5.0, Chống ồn ANC",
           "0",
           175000,
           215000,
           "Hà Nội"
          ],
          [
           "Tai nghe bluetooth Holo Pro 6 TWS kết nối không dây có cảm biến, đổi tên, định vị, âm thanh nổi và bass trầm",
           "259000",
           129000,
           0,
           "Hà Nội"
          ],
          [
           "Tai nghe bluetooth Amoi F9 bản quốc tế, nút cảm ứng, Pin 280 giờ, Kèm sạc dự phòng, chống nước IPX7",
           "199000",
           109000,
           0,
           "Hà Nội"
          ],
          [
           "Tai Nghe Dây H8 Chính Hãng SD DESIGN dùng cho điện thoại 7 đến 13 Pro Max - Kết Nối Bluetooth Mới Dùng Được",
           "165000",
           105000,
           0,
           "Hà Nội"
          ],
          [
           "Tai Nghe Bluetooth Không Dây JBL Live+ TWS Tai Nghe Nhét Tai Bản Quốc Tế Đỉnh Cao Chống Ồn Cho Tất Cả Dòng Máy",
           "500000",
           279000,
           0,
           "Hà Nội"
          ],
          [
           "Tai nghe bluetooth không dây i12 TWS5.0, thiết kế nhỏ gọn, chất lượng âm thanh nổi HIFI, chức năng giảm tạp âm",
           "100000",
           59000,
           0,
           "Hà Nội"
          ],
          [
           "Tai Nghe Bluetooth Gaming 5.2 TWS ,Tai Nghe Không Dây Độ Trễ Cực Thấp Cách Âm Chống Ồn Chuyên Dụng Gaming Hi-Fi Stereo,",
           "0",
           145000,
           185000,
           "Hà Nội"
          ],
          [
           "Tai Nghe Bluetooth Samsung Galaxy Buds 2 R177 Tai Nghe Không Dây Nhỏ Gọn Âm Thanh Chất Lượng Cao 1 Đổi 1 BH 12T - BENTEX",
           "739000",
           349000,
           0,
           "Hà Nội"
          ],
          [
           "Tai nghe bluetooth i12 cảm ứng vân tay 5.0, âm thanh cực chuẩn, màu sắc sang chảnh pin Bền",
           "100000",
           59000,
           0,
           "Hà Nội"
          ],
          [
           "Tai nghe bluetooth không dây inpods 12 tws v5.0 nút cảm ứng âm thanh HIFI có mic chống ồn",
           "0",
           32000,
           62000,
           "Hà Nội"
          ],
          [
           "Tai nghe bluetooth không dây bass mạnh M10 TWS v5.1 3500mah nút chạm cảm ứng âm thanh HIFI",
           "190000",
           119000,
           0,
           "Hà Nội"
          ],
          [
           "Tai nghe bluetooth không dây inpods nút cảm ứng âm thanh hifi mic đàm thoại kèm vỏ bảo vệ bao đựng case",
           "0",
           63000,
           95000,
           "Hà Nội"
          ],
          [
           "Tai Nghe Bluetooth PRO5 TWS Pin Dung Lượng Cao Tới 10h Âm Thanh Nghe Nhạc Chất Lượng Cao Bảo Hành 12 Tháng - BENTEX",
           "0",
           159000,
           189000,
           "Hà Nội"
          ],
          [
           "Tai nghe bluetooth AMOI F9 TWS 5.0 bản Quốc tế không dây cảm ứng chống nước IPX5, chống ồn tích hợp sạc dự phòng 2500mAh",
           "300000",
           300000,
           0,
           "Hà Nội"
          ],
          [
           "Tai Nghe Bluetooth Samsung Galaxy Buds Live R180 Tai Nghe Không Dây Nghe Nhạc Êm Nhẹ Pin 5h Bảo Hành 12 Tháng - BENTEX",
           "699000",
           329000,
           0,
           "Hà Nội"
          ],
          [
           "Tai Nghe Không Dây Kết Nối Bluetooth P47 Có Khe Cắm Thẻ Nhớ",
           "0",
           75000,
           130000,
           "Hà Nội"
          ],
          [
           "AUKEY EP-T31 Earphone bluetooth 5.0 wireless charging Earbuds battery life 30 hours IPX5 waterproof MEMS for clear calls",
           "690000",
           319000,
           0,
           "Hà Nội"
          ],
          [
           "Tai nghe gaming bluetooth Apro366 5.0 TWS, bass mạnh mẽ, độ trễ cực thấp khi chơi game - Audio365",
           "300000",
           155000,
           0,
           "Hà Nội"
          ],
          [
           "Tai nghe Bluetooth chụp tai không dây XBass T7,headphone bluetooth có mic đàm thoại cực hot với chip bluetooth 5.0 mới",
           "439000",
           264000,
           0,
           "Hà Nội"
          ],
          [
           "Tai nghe bluetooth true Wireless F9 PRO Bluetooth 5.0 Bản Quốc Tế Cảm Ứng Chống Nước Công nghệ âm thanh vovc 8D",
           "190000",
           125000,
           0,
           "Hà Nội"
          ],
          [
           "[Mã BMINC50 giảm đến 50K đơn 99K] Tai Nghe 1562M LOU.DA Bluetooth 5.3 - Tai Nghe Chơi Game, Tai Nghe Không Dây",
           "0",
           525000,
           675000,
           "Hà Nội"
          ],
          [
           "[ Giá Sỉ ] Phụ Kiện Bảo Vệ Chống Đứt Gãy Đầu Sạc Cho Phụ Kiện Tai Nghe Bluetooth Airpod i12 Cáp Sạc Iphone Pin Dự Phòng",
           "3900",
           3900,
           0,
           "Hà Nội"
          ],
          [
           "Tai Nghe Bluetooth Giá Rẻ - Hàng Đóng Hộp Đẹp",
           "35000",
           18000,
           0,
           "Hà Nội"
          ],
          [
           "Tai nghe mèo chụp tai bluetooth không dây có mic TUEMAN, Tai phone bluetooth không dây gaming có đèn led đổi màu cute",
           "200000",
           99000,
           0,
           "Hà Nội"
          ],
          [
           "Cáp Sạc Màu Trắng Cho Pin Dự Phòng Cáp Sạc Tai nghe Bluetooth - Awifi Case L3-2",
           "20000",
           12000,
           0,
           "Hà Nội"
          ],
          [
           "Tai nghe Bluetooth Chụp Tai Có Mic Xbass T7 Chống Ồn, Headphone Không Dây Có Thể Gấp Gọn Có Khe Thẻ Nhớ Dây Cắm Máy Tính",
           "578000",
           289000,
           0,
           "Hà Nội"
          ],
          [
           "[Mã INCU300 giảm đến 300K đơn 499K] Gen2 LOU.DA 1562M - Tai Nghe Bluetooth iRock Store - Tai Nghe Không Dây",
           "0",
           510000,
           660000,
           "Hà Nội"
          ],
          [
           "Tai nghe bluetooth không dây JBL HQ 15 hàng cao cấp âm thanh trầm ấm có mic đàm thoại bảo hành lỗi 1 đổi 1",
           "400000",
           232000,
           0,
           "Hà Nội"
          ],
          [
           "Vỏ Ốp Case airpod airpods pro bảo vệ, bao đựng tai nghe không dây bluetooth Tặng kèm móc",
           "0",
           9120,
           19000,
           "Hà Nội"
          ],
          [
           "Jack hỗ trợ tai nghe bà bầu dùng cho iphone 7, 8 ,X, 11,12..v..v. - Bật bluetooth khi sử dụng - JACK",
           "80000",
           47000,
           0,
           "Hà Nội"
          ],
          [
           "Tai nghe IP 7 Hoco L7,chân cắm cáp sạc dẹt hỗ trợ mic đàm thoại dành cho IP 7,8,X,11,12,13 tự động kết nối bluetooth",
           "259000",
           161000,
           0,
           "Hà Nội"
          ],
          [
           "Tai nghe chụp tai bluetooth có mic Xbass T7 độ trễ cực thấp-Tai nghe chùm Tai bass mạnh pin trâu chống ồn hiệu quả",
           "492000",
           289000,
           0,
           "Hà Nội"
          ],
          [
           "Tai Nghe Mèo Bluetooth Chụp Tai ,Headphone Stn-28 Dễ Thương Có Mic,Âm Bass Mạnh Mẽ Dung Lượng Pin Trâu[Bảo Hành 12tháng",
           "0",
           119000,
           180000,
           "Hà Nội"
          ],
          [
           "Tai nghe bluetooth AMOI F9 TWS 5.0 bản Quốc tế không dây cảm ứng chống nước IPX5, chống ồn tích hợp sạc dự phòng 2500mAh",
           "0",
           22000,
           105900,
           "Hà Nội"
          ],
          [
           "Tai nghe bluetooth Chụp Tai Headphone P47 ⚡Âm Thanh Đỉnh Cao⚡",
           "0",
           65000,
           67000,
           "Hà Nội"
          ],
          [
           "Tai Nghe Bluetooth AP3 Chính Hãng NAHU Giá rẻ Không Dây Nhét Tai Có Mic Chống Ồn Dây Nguyên Seal Bảo Hành Lỗi 1 Đổi 1",
           "430000",
           289000,
           0,
           "Hà Nội"
          ],
          [
           "Tai nghe Bluetooth AP2 hàng chính hãng NAHU nguyên seal đầy đủ phụ kiên Bảo hành 3 tháng 1 đổi 1 trong 7 ngày",
           "320000",
           239000,
           0,
           "Hà Nội"
          ],
          [
           "Tai nghe dạng Gài (2 tai)-Bluetooth Aiplus 12",
           "375000",
           375000,
           0,
           "Hà Nội"
          ],
          [
           "Tai nghe Bluetooth nhét tai không dây AP2 thế hệ 2 âm trong bass mạnh kết nối TWS 5.1 định vị đổi tên BH 6 tháng",
           "0",
           195000,
           255000,
           "Hà Nội"
          ],
          [
           "Tai Nghe Bluetooth Gaming Bass Mạnh TWS-02 - Tai nghe Không Dây Pin Trâu, Độ Trễ Thấp, Nghe Nhạc Chơi Game Phê",
           "0",
           319100,
           329000,
           "Hà Nội"
          ],
          [
           "Vỏ ốp case bảo vệ bao đựng cho airpods tai nghe không dây bluetooth 1/2/Pro - Shin Case",
           "0",
           21000,
           35000,
           "Hà Nội"
          ],
          [
           "Tai Nghe Bluetooth ko dây,inpods i12,TWS cảm ứng Thích Hợp Tất Cả Các Dòng táo,android,bắt",
           "196000",
           98000,
           0,
           "Hà Nội"
          ],
          [
           "Tai Nghe Bluetooth Gaming A10 TWS bluetooth V5.2, Tai Nghe TWS Gaming Pro,Có Mic , Độ Trễ Cực Thấp 0.045s Bass mạnh mẽ",
           "500000",
           500000,
           0,
           "Hà Nội"
          ],
          [
           "Pin chuyên tai nghe 3.7V 30-40-50-53 mAh (Lithium Polyme) cho tai nghe Bluetooth hổ vằn - ipod",
           "0",
           16830,
           24750,
           "Hà Nội"
          ],
          [
           "Tai Nghe Bluetooth Không Dây Bản Pro Thế Hệ Mới Bass Căng kết nối Bluetooth 5.2 Dùng cho IOS, ANDROID",
           "0",
           70000,
           275000,
           "Hà Nội"
          ],
          [
           "Tai Nghe Mèo Bluetooth Chụp Tai ,Headphone Stn-28 Dễ Thương Có Mic,Âm Bass Mạnh Mẽ Dung Lượng Pin Trâu[Bảo Hành 12tháng",
           "0",
           119000,
           180000,
           "Hà Nội"
          ],
          [
           "Tai nghe bluetooth AMOI F9 TWS 5.0 bản Quốc tế không dây cảm ứng chống nước IPX5, chống ồn tích hợp sạc dự phòng 2500mAh",
           "0",
           22000,
           105900,
           "Hà Nội"
          ],
          [
           "Tai nghe bluetooth Chụp Tai Headphone P47 ⚡Âm Thanh Đỉnh Cao⚡",
           "0",
           65000,
           67000,
           "Hà Nội"
          ],
          [
           "Tai Nghe Bluetooth AP3 Chính Hãng NAHU Giá rẻ Không Dây Nhét Tai Có Mic Chống Ồn Dây Nguyên Seal Bảo Hành Lỗi 1 Đổi 1",
           "430000",
           289000,
           0,
           "Hà Nội"
          ],
          [
           "Tai nghe Bluetooth AP2 hàng chính hãng NAHU nguyên seal đầy đủ phụ kiên Bảo hành 3 tháng 1 đổi 1 trong 7 ngày",
           "320000",
           239000,
           0,
           "Hà Nội"
          ],
          [
           "Tai nghe dạng Gài (2 tai)-Bluetooth Aiplus 12",
           "375000",
           375000,
           0,
           "Hà Nội"
          ],
          [
           "Tai nghe Bluetooth nhét tai không dây AP2 thế hệ 2 âm trong bass mạnh kết nối TWS 5.1 định vị đổi tên BH 6 tháng",
           "0",
           195000,
           255000,
           "Hà Nội"
          ],
          [
           "Tai Nghe Bluetooth Gaming Bass Mạnh TWS-02 - Tai nghe Không Dây Pin Trâu, Độ Trễ Thấp, Nghe Nhạc Chơi Game Phê",
           "0",
           319100,
           329000,
           "Hà Nội"
          ],
          [
           "Vỏ ốp case bảo vệ bao đựng cho airpods tai nghe không dây bluetooth 1/2/Pro - Shin Case",
           "0",
           21000,
           35000,
           "Hà Nội"
          ],
          [
           "Tai Nghe Bluetooth ko dây,inpods i12,TWS cảm ứng Thích Hợp Tất Cả Các Dòng táo,android,bắt",
           "196000",
           98000,
           0,
           "Hà Nội"
          ],
          [
           "Tai Nghe Bluetooth Gaming A10 TWS bluetooth V5.2, Tai Nghe TWS Gaming Pro,Có Mic , Độ Trễ Cực Thấp 0.045s Bass mạnh mẽ",
           "500000",
           500000,
           0,
           "Hà Nội"
          ],
          [
           "Pin chuyên tai nghe 3.7V 30-40-50-53 mAh (Lithium Polyme) cho tai nghe Bluetooth hổ vằn - ipod",
           "0",
           16830,
           24750,
           "Hà Nội"
          ],
          [
           "Tai Nghe Bluetooth Không Dây Bản Pro Thế Hệ Mới Bass Căng kết nối Bluetooth 5.2 Dùng cho IOS, ANDROID",
           "0",
           70000,
           275000,
           "Hà Nội"
          ],
          [
           "Tai nghe bluetooth A II Bản nâng cấp 2022 Full chức năng- Định vị- Cảm ứng- Đàm thoại- Đổi tên- Dùng cho mọi dòng máy",
           "299000",
           299000,
           0,
           "Hà Nội"
          ],
          [
           "Tai Nghe Không Dây Bluetooth X15 TWS 5.0 Cảm Biến Chạm Âm Thanh Hifi Sống Động",
           "0",
           128900,
           144500,
           "Hà Nội"
          ],
          [
           "Tai nghe bluetooth tws Pro 6 không dây mini âm thanh hifi cảm ứng thông minh phong cách thể thao- LinkeeTech",
           "250000",
           139000,
           0,
           "Hà Nội"
          ],
          [
           "Vỏ đựng ốp CASE AIRPOD bảo vệ tai nghe không dây bluetooth airpods 2/1",
           "0",
           60000,
           80000,
           "Hà Nội"
          ],
          [
           "Vỏ ốp case bảo vệ bao đựng cho airpods tai nghe không dây bluetooth 1/2/Pro - Shin Case",
           "0",
           21000,
           35000,
           "Hà Nội"
          ],
          [
           "Giá Đỡ Chống Lưng Cho Phụ Kiện pop Điện Thoại Tai Nghe Bluetooth Pin Dự Phòng Hình Tròn - Awifi Case T3-3",
           "4000",
           3000,
           0,
           "Hà Nội"
          ],
          [
           "Tai nghe bluetooth xiaomi airdots 2 không dây giá rẻ android true wireless blutooth ko dây mini tws chống ồn với bass ấm",
           "0",
           155000,
           235000,
           "Hà Nội"
          ],
          [
           "Tai nghe bluetooth nhét tai AP PRO công nghệ TWS Chuẩn 5.0 âm thanh vòm hỗ trợ sạc không dây Kháng Nước BH 6 tháng",
           "0",
           195000,
           255000,
           "Hà Nội"
          ],
          [
           "Dây Cáp Sạc SD-L6 Micro Cho ĐT SamSung Androi Pin Dự Phòng Tai nghe Bluetooth Case pro Vỏ Ốp lưng",
           "28000",
           14000,
           0,
           "Hà Nội"
          ],
          [
           "[Mã ELHA9 giảm 15% đơn 50K] tai nghe nhét tai bluetooth Ap2 nghe gọi định vị đổi tên chính hãng eshuan",
           "299000",
           299000,
           0,
           "Hà Nội"
          ],
          [
           "Tai Nghe Bluetooth không dây AP3 Cảm Biến Đa Điểm Không Dây 5.0 Định Vị - Đổi Tên - Sạc Không Dây",
           "349000",
           309000,
           0,
           "Hà Nội"
          ],
          [
           "Tai Nghe Không Dây Bluetooth Nhét Tai HOCO ES56 NEW - Bảo hành 12 tháng",
           "500000",
           325000,
           0,
           "Hà Nội"
          ],
          [
           "Tai nghe bluetooth không dây inpods i12 tws v5.0 cảm ứng âm thanh HIFI micro đàm thoại",
           "0",
           64000,
           65000,
           "Hà Nội"
          ],
          [
           "Tai nghe bluetooth Amoi F9 bản quốc tế, nút cảm ứng, pin 280 giờ, kèm sạc dự phòng, chống nước IPX7 - Audio365",
           "200000",
           105000,
           0,
           "Hà Nội"
          ],
          [
           "🌳 AIRPODS 1 2 3 PRO 2021 🌳 Skin Miếng Dán Kim Loại PPF Bảo Vệ Hộp sạc Tai Nghe Bluetooth Airpod Tính Năng Chống Bụi Bẩn",
           "15000",
           12000,
           0,
           "Hà Nội"
          ],
          [
           "[Mã ELHACE giảm 4% đơn 300K] Tai Nghe Bluetooth TWS Cực Đỉnh Sử dụng Chip Bluetooth 5.0 mạnh mẽ",
           "0",
           95000,
           249000,
           "Hà Nội"
          ]
         ],
         "hovertemplate": "location=%{customdata[4]}<br>selling_price=%{x}<br>name=%{customdata[0]}<br>original_price=%{customdata[1]}<br>selling_price_1=%{customdata[2]}<br>selling_price_2=%{customdata[3]}<extra></extra>",
         "legendgroup": "",
         "marker": {
          "color": "#636efa"
         },
         "name": "",
         "notched": true,
         "offsetgroup": "",
         "showlegend": false,
         "type": "box",
         "x": [
          165000,
          235000,
          279000,
          149000,
          294000,
          249000,
          139000,
          269000,
          85500,
          169000,
          139000,
          299000,
          129000,
          189000,
          169000,
          239000,
          239000,
          129000,
          299000,
          4000,
          260000,
          238000,
          139000,
          245000,
          24500,
          18500,
          18500,
          57500,
          245000,
          4000,
          99000,
          1000,
          239000,
          8000,
          230000,
          249000,
          59000,
          607500,
          99000,
          159000,
          35000,
          6000,
          14000,
          12000,
          239000,
          3000,
          570000,
          20000,
          29000,
          144000,
          707500,
          144000,
          165000,
          50000,
          6000,
          129000,
          26500,
          609000,
          139000,
          107000,
          279000,
          299000,
          10500,
          309000,
          319000,
          249000,
          635000,
          28000,
          355000,
          99000,
          65500,
          319000,
          249000,
          635000,
          28000,
          355000,
          99000,
          65500,
          29000,
          189000,
          6500,
          59000,
          99000,
          374000,
          28000,
          220000,
          57000,
          165000,
          169000,
          101500,
          292000,
          525000,
          12000,
          28000,
          64500,
          28000,
          89000,
          35000,
          105000,
          119000,
          43900,
          22000,
          104000,
          139000,
          6000,
          28000,
          68500,
          102000,
          34000,
          3000,
          109000,
          607500,
          109000,
          15000,
          244000,
          6000,
          10500,
          299000,
          143000,
          6000,
          179000,
          198000,
          224500,
          29000,
          104000,
          199000,
          239500,
          99000,
          154000,
          197000,
          274000,
          59000,
          289000,
          270000,
          319000,
          489000,
          399000,
          907500,
          169000,
          285000,
          282000,
          65000,
          495000,
          154000,
          249000,
          177500,
          154500,
          24000,
          2250,
          6000,
          59000,
          439000,
          36000,
          1002,
          65000,
          229000,
          299000,
          145000,
          759500,
          299000,
          459000,
          299000,
          283500,
          99000,
          429000,
          12000,
          129000,
          499000,
          168000,
          28000,
          359000,
          159000,
          1199000,
          239000,
          13950,
          169000,
          145000,
          9900,
          12000,
          299000,
          79000,
          299000,
          349000,
          119000,
          209000,
          89000,
          229000,
          229000,
          149000,
          179000,
          195000,
          129000,
          109000,
          105000,
          279000,
          59000,
          165000,
          349000,
          59000,
          47000,
          119000,
          79000,
          174000,
          300000,
          329000,
          102500,
          319000,
          155000,
          264000,
          125000,
          600000,
          3900,
          18000,
          99000,
          12000,
          289000,
          585000,
          232000,
          14060,
          47000,
          161000,
          289000,
          149500,
          63950,
          66000,
          289000,
          239000,
          375000,
          225000,
          324050,
          28000,
          98000,
          500000,
          20790,
          172500,
          149500,
          63950,
          66000,
          289000,
          239000,
          375000,
          225000,
          324050,
          28000,
          98000,
          500000,
          20790,
          172500,
          299000,
          136700,
          139000,
          70000,
          28000,
          3000,
          195000,
          225000,
          14000,
          299000,
          309000,
          325000,
          64500,
          105000,
          12000,
          172000
         ],
         "xaxis": "x4",
         "yaxis": "y4"
        },
        {
         "alignmentgroup": "True",
         "bingroup": "x",
         "hovertemplate": "location=TP. Hồ Chí Minh<br>selling_price=%{x}<br>count=%{y}<extra></extra>",
         "legendgroup": "",
         "marker": {
          "color": "#636efa",
          "pattern": {
           "shape": ""
          }
         },
         "name": "",
         "offsetgroup": "",
         "orientation": "v",
         "showlegend": false,
         "type": "histogram",
         "x": [
          125000,
          115000,
          108000,
          120000,
          88000,
          49000,
          245000,
          400000,
          320000,
          265000,
          135000,
          155000,
          99000,
          17500,
          355499.5,
          249000,
          117500,
          108000,
          290000,
          75000,
          88000,
          105000,
          160000,
          280000,
          320000,
          107100,
          320000,
          134250,
          160000,
          78000,
          42500,
          117500,
          160000,
          125000,
          78000,
          42500,
          190000,
          18905,
          69000,
          205000,
          149000,
          52000,
          169000,
          19450,
          200000,
          38000,
          125000,
          185000,
          38025,
          45500,
          220000,
          60950,
          73800,
          45000,
          20805,
          34105,
          79000,
          769000,
          951000,
          13252.5,
          108000,
          106000,
          25555,
          147400,
          486000,
          680500,
          269000,
          315000,
          62500,
          521000,
          248000,
          90000,
          273000,
          23450,
          559500,
          30780,
          99500,
          104000,
          149000,
          445000,
          549000,
          29000,
          5558,
          67000,
          38000,
          99500,
          149000,
          38000,
          99500,
          149000,
          39000,
          99000,
          115000,
          375000,
          97000,
          455000,
          160000,
          275000,
          200000,
          200000,
          155000,
          155000,
          245000,
          132500,
          210000,
          165000,
          250000,
          210000,
          350000,
          210000,
          149000,
          24950
         ],
         "xaxis": "x2",
         "yaxis": "y2"
        },
        {
         "alignmentgroup": "True",
         "customdata": [
          [
           "Tai Nghe Bluetooth J12 TWS 5.0 Có Micro Không Dây Nghe Gọi Cảm Ứng Chạm Âm Thanh Sống Động - J12_Trang",
           "150000",
           125000,
           0,
           "TP. Hồ Chí Minh"
          ],
          [
           "Tai Nghe Bluetooth Công Nghệ Mới Âm Thanh Sống Động Không Dây J12 Phiên Chuẩn Bản Quốc Tế - J12_Trang- Dongocdanymzx9599",
           "150000",
           115000,
           0,
           "TP. Hồ Chí Minh"
          ],
          [
           "Tai Nghe Bluetooth J12 TWS 5.0 Có Micro Không Dây Nghe Gọi Thanh Sống Động Kết Nối Mạnh Mẽ - J12_Trang",
           "150000",
           108000,
           0,
           "TP. Hồ Chí Minh"
          ],
          [
           "Tai Nghe Bluetooth J12 TWS 5.0 Có Micro Không Dây Nghe Gọi Thanh Sống Động Kết Nối Mạnh Mẽ - J12_Mau",
           "148000",
           120000,
           0,
           "TP. Hồ Chí Minh"
          ],
          [
           "Tai Nghe Không Dây Bluetooth Thể Thao J12 TWS 5.0 Nghe Nhạc, Chơi Game Độ Trể Thấp damis_official - J12_Trang",
           "150000",
           88000,
           0,
           "TP. Hồ Chí Minh"
          ],
          [
           "Vỏ đựng ốp CASE AIRPOD 3 bảo vệ tai nghe không dây bluetooth airpods 2/1/Pro - Jerry Shop",
           "0",
           39000,
           59000,
           "TP. Hồ Chí Minh"
          ],
          [
           "Tai Nghe Bluetooth A2, Không Dây Bản Cao Cấp, Sạc Không Dây, Định Vị, Đổi Tên,Cảm Ứng Dùng Cho Tất Cả Các Máy",
           "245000",
           245000,
           0,
           "TP. Hồ Chí Minh"
          ],
          [
           "Tai nghe bluetooth sgc pro chống ồn cảm ứng cao cấp thế hệ mới dùng cho cả ios và android",
           "400000",
           400000,
           0,
           "TP. Hồ Chí Minh"
          ],
          [
           "Tai Nghe Bluetooth Công Nghệ Mới Âm Thanh Sống Động Không Dây F9 Phiên Chuẩn Bản Quốc Tế - F9 - Nhuvubfbll",
           "320000",
           320000,
           0,
           "TP. Hồ Chí Minh"
          ],
          [
           "Tai Nghe Bluetooth không dây APPRO Cảm Biến Đa Điểm Không Dây 5.0 Định Vị - Đổi Tên - Sạc Không Dây",
           "265000",
           265000,
           0,
           "TP. Hồ Chí Minh"
          ],
          [
           "Tai Nghe Bluetooth True Wireless F9 PRO Bluetooth 5.0 | Bản Quốc Tế | Cảm Ứng | Chống Nước(Loại mới)",
           "200000",
           135000,
           0,
           "TP. Hồ Chí Minh"
          ],
          [
           "Tai Nghe Bluetooth không dây S10 Pro True Wireless TWS Chống Ồn Bản Quốc Tế Cao Cấp, Kiêm Sạc Dự Phòng",
           "155000",
           155000,
           0,
           "TP. Hồ Chí Minh"
          ],
          [
           "Tai Nghe Bluetooth True Wireless F9 PRO Bluetooth 5.0 | Bản Quốc Tế | Cảm Ứng | Chống Nước(Loại mới)",
           "170000",
           99000,
           0,
           "TP. Hồ Chí Minh"
          ],
          [
           "Skin Miếng Dán Kim Loại Bảo Vệ Hộp sạc Tai Nghe Bluetooth Airpod khả năng Chống Bụi Bẩn",
           "0",
           17000,
           18000,
           "TP. Hồ Chí Minh"
          ],
          [
           "Tai nghe không dây Disney D10 LK-10 bluetooth 5.0 âm thanhHD độ trễ thấp kèm micro hỗ trợ phát nhạc/chơi game chống nướC",
           "0",
           311000,
           399999,
           "TP. Hồ Chí Minh"
          ],
          [
           "[Mã ELHA9 giảm 15% đơn 50K] [Loại tốt] Tai nghe Bluetooth không dây đời mới Âm thanh hay- Cảm ứng - đổi tên cao cấp",
           "500000",
           249000,
           0,
           "TP. Hồ Chí Minh"
          ],
          [
           "Tai Nghe Không Dây Bluetooth Thể Thao TWS 5.0 Nghe Nhạc, Chơi Game Độ Trể Thấp - PR04 - Tungtungpkey",
           "0",
           110000,
           125000,
           "TP. Hồ Chí Minh"
          ],
          [
           "Tai Nghe Không Dây Bluetooth Thể Thao J12 TWS 5.0 Nghe Nhạc, Chơi Game Độ Trể Thấp J12_Mau - Tungtungpkey",
           "150000",
           108000,
           0,
           "TP. Hồ Chí Minh"
          ],
          [
           "Tai Nghe Bluetooth không dây Air 3 Cảm Biến Đa Điểm Không Dây 5.0 Định Vị - Đổi Tên - Sạc Không Dây",
           "290000",
           290000,
           0,
           "TP. Hồ Chí Minh"
          ],
          [
           "Tai Nghe Bluetooth J12 TWS 5.0 Có Micro Không Dây Nghe Gọi Thanh Sống Động Kết Nối Mạnh Mẽ J12_Mau - Quachthongplva",
           "150000",
           75000,
           0,
           "TP. Hồ Chí Minh"
          ],
          [
           "Tai Nghe Bluetooth Công Nghệ Mới Âm Thanh Sống Động Không Dây J12 Phiên Chuẩn Bản Quốc Tế J12_Mau - Dongocdanymzx9599",
           "150000",
           88000,
           0,
           "TP. Hồ Chí Minh"
          ],
          [
           "[Mã ELHA9 giảm 15% đơn 50K] Tai nghe Bluetooth F9 Pro Phiên Bản Không Dây Cao Cấp Cảm Ứng Sạc Dự Phòng - Amoi Loại Mới",
           "199000",
           105000,
           0,
           "TP. Hồ Chí Minh"
          ],
          [
           "Tai Nghe Bluetooth Không Dây TWS 5.0 Có Micro Nghe Gọi Cảm Ứng Chạm Chơi Game Giảm Tiếng Ồn - PR04- Lamnhuclankdfg4284",
           "320000",
           160000,
           0,
           "TP. Hồ Chí Minh"
          ],
          [
           "Tai Nghe Bluetooth AP Pro , Định Vị, Đổi Tên, Sạc Không Dây, Dùng Cho Tất cả Điện Thoại có Buletooth",
           "280000",
           280000,
           0,
           "TP. Hồ Chí Minh"
          ],
          [
           "Tai Nghe Bluetooth TWS 5.0 Có Micro Không Dây Nghe Gọi Thanh Sống Động Kết Nối Mạnh Mẽ - PR05- Dongocdanymzx9599",
           "320000",
           320000,
           0,
           "TP. Hồ Chí Minh"
          ],
          [
           "Bộ Dụng Cụ Vệ Sinh Bàn Phím, Tai Nghe Bluetooth Đa Chức Năng Siêu Tiện Lợi",
           "0",
           105300,
           108900,
           "TP. Hồ Chí Minh"
          ],
          [
           "Tai Nghe Bluetooth Công Nghệ Mới Âm Thanh Sống Động Không Dây F9 Pro Phiên Chuẩn Bản Quốc Tế - F9Pro- Nhuvubfbll",
           "320000",
           320000,
           0,
           "TP. Hồ Chí Minh"
          ],
          [
           "Tai nghe Bluetooth Gaming Không dây X15 TWS công nghệ Bluetooth 5.0 cảm biến chạm, không có độ trễ âm (Bản Quốc tế 2022)",
           "0",
           119000,
           149500,
           "TP. Hồ Chí Minh"
          ],
          [
           "Tai Nghe Bluetooth F9 Không Dây TWS Cảm Ứng Chạm Khử Tiếng Ồn Dùng Chơi Game, Nghe Nhạc - PR05 - Lamnhuclankdfg4284",
           "320000",
           160000,
           0,
           "TP. Hồ Chí Minh"
          ],
          [
           "Tai Nghe Bluetooth Không Dây j12 TWS 5.0 Có Micro Nghe Gọi Cảm Ứng Chạm Chơi Game Giảm Tiếng Ồn J12_Mau - Lamnhuclankdfg",
           "150000",
           78000,
           0,
           "TP. Hồ Chí Minh"
          ],
          [
           "Vỏ đựng ốp CASE AIRPODS 3 bảo vệ tai nghe không dây bluetooth 1/2/Pro - Jerry Shop",
           "0",
           35000,
           50000,
           "TP. Hồ Chí Minh"
          ],
          [
           "Tai Nghe Không Dây Bluetooth Thể Thao TWS 5.0 Nghe Nhạc, Chơi Game Độ Trể Thấp - PR05- Quachthongplva",
           "0",
           110000,
           125000,
           "TP. Hồ Chí Minh"
          ],
          [
           "Tai Nghe Bluetooth F9 Không Dây TWS Cảm Ứng Chạm Khử Tiếng Ồn Dùng Chơi Game, Nghe Nhạc - PR05 - Lamnhuclankdfg4284",
           "320000",
           160000,
           0,
           "TP. Hồ Chí Minh"
          ],
          [
           "Tai Nghe Bluetooth J12 TWS 5.0 Có Micro Không Dây Nghe Gọi Cảm Ứng Chạm Âm Thanh Sống Động J12_Mau - Julythaoircy3395",
           "150000",
           125000,
           0,
           "TP. Hồ Chí Minh"
          ],
          [
           "Tai Nghe Bluetooth Không Dây j12 TWS 5.0 Có Micro Nghe Gọi Cảm Ứng Chạm Chơi Game Giảm Tiếng Ồn J12_Mau - Lamnhuclankdfg",
           "150000",
           78000,
           0,
           "TP. Hồ Chí Minh"
          ],
          [
           "Vỏ đựng ốp CASE AIRPODS 3 bảo vệ tai nghe không dây bluetooth 1/2/Pro - Jerry Shop",
           "0",
           35000,
           50000,
           "TP. Hồ Chí Minh"
          ],
          [
           "Tai Nghe Bluetooth TWS 5.0 Có Micro Không Dây Nghe Gọi Thanh Sống Động Kết Nối Mạnh Mẽ - PR04 - Colras2010",
           "0",
           155000,
           225000,
           "TP. Hồ Chí Minh"
          ],
          [
           "Giá đỡ kẹp đa năng điện thoại đt , kẹp đuôi khỉ xoay 360 độ cho xe máy ô tô, tai nghe bluetooth Sagopy",
           "25000",
           18905,
           0,
           "TP. Hồ Chí Minh"
          ],
          [
           "[Mã ELHA9 giảm 15% đơn 50K] Tai Nghe Bluetooth i12 Inpods TWS - Cảm Biến Vân Tay Âm Thanh Hifi - Bảo Hành Chính Hãng",
           "133000",
           69000,
           0,
           "TP. Hồ Chí Minh"
          ],
          [
           "Tai Nghe Bluetooth Công Nghệ Mới Âm Thanh Sống Động Không Dây Phiên Chuẩn Bản Quốc Tế - PR04",
           "0",
           185000,
           225000,
           "TP. Hồ Chí Minh"
          ],
          [
           "(Loại 1)Tai nghe Bluetooth i12 TWS 5.0 tai nghe i12 không dây bản Quốc tế âm thanh chuẩn HIFI dùng cho IOS Android",
           "149000",
           149000,
           0,
           "TP. Hồ Chí Minh"
          ],
          [
           "Vỏ đựng case Ốp AIRPODS 3 bảo vệ tai nghe không dây bluetooth airpod 1/2/Pro - Jerry Shop",
           "0",
           39000,
           65000,
           "TP. Hồ Chí Minh"
          ],
          [
           "Tai nghe Bluetooth Gaming 5.1 Tai nghe không dây Âm trầm đầy đủ Loại bỏ tiếng ồn HiFi Stereo",
           "250000",
           169000,
           0,
           "TP. Hồ Chí Minh"
          ],
          [
           "Vỏ ốp case bảo vệ bao đựng tai nghe không dây bluetooth 1/2/Pro chống va đập - Jerry Shop",
           "0",
           9000,
           29900,
           "TP. Hồ Chí Minh"
          ],
          [
           "Tai Nghe Bluetooth F9 Không Dây Cảm Ứng Chạm Khử Tiếng Ồn Dùng Chơi Game, Nghe Nhạc - Trannhatlihglwq",
           "300000",
           200000,
           0,
           "TP. Hồ Chí Minh"
          ],
          [
           "Vỏ đựng ốp case airpods bảo vệ tai nghe không dây bluetooth airpod 1/2/3/Pro - Jerry Shop",
           "0",
           37000,
           39000,
           "TP. Hồ Chí Minh"
          ],
          [
           "Tai nghe không dây F9 Tws 5.0 bản quốc tế không dây cảm ứng, tai nghe bluetooth f9 chống nước (ma f9)",
           "220000",
           125000,
           0,
           "TP. Hồ Chí Minh"
          ],
          [
           "Tai nghe bluetooth SGC SM10 Pin Trâu 3500maH âm thanh trung thực, đèn Led đẹp mắt, hộp sạc có màn hình",
           "350000",
           185000,
           0,
           "TP. Hồ Chí Minh"
          ],
          [
           "Vỏ đựng ốp case airpod bảo vệ tai nghe không dây bluetooth airpod 1/2/Pro - chống va đập bám bụi",
           "0",
           37050,
           39000,
           "TP. Hồ Chí Minh"
          ],
          [
           "Jack Chuyển đổi tai nghe sang 3.5mm có mic kèm chân sạc CẦN bật blutooth PHỤ KIỆN CHẤN THIÊN",
           "0",
           42000,
           49000,
           "TP. Hồ Chí Minh"
          ],
          [
           "Tai Nghe Bluetooth F9 Pro Không Dây TWS Cảm Ứng Chạm Khử Tiếng Ồn Dùng Chơi Game, Nghe Nhạc -F9Pro- Trannhatlihglwq",
           "300000",
           220000,
           0,
           "TP. Hồ Chí Minh"
          ],
          [
           "Tai nghe bluetooth không dây inpods i12 TWS gaming nhét tai, tai phone bluetooth giá rẻ cho IP, Android/iOs Sagopy",
           "0",
           32900,
           89000,
           "TP. Hồ Chí Minh"
          ],
          [
           "[Mã ELHA9 giảm 15% đơn 50K] Tai Nghe Bluetooth I12 Inpods TWS - Cảm Biến Siêu Nhạy - Âm Thanh True Wireless",
           "82000",
           73800,
           0,
           "TP. Hồ Chí Minh"
          ],
          [
           "Tai nghe chân ip kết nối bluetooth tự động hiển thị cửa sổ dành cho IP 7/7plus/8/8plus/x/xs/xsmax/11/11promax",
           "70000",
           45000,
           0,
           "TP. Hồ Chí Minh"
          ],
          [
           "Dây cáp sạc nhanh IP, type c,micro usb android, dây cáp sạc 3 đầu tai nghe bluetooth pin dự phòng giá rẻ Sagopy",
           "29000",
           20805,
           0,
           "TP. Hồ Chí Minh"
          ],
          [
           "Dây sạc IP, type c,micro usb android, cáp sạc điện thoại nam châm đèn Led cho tai nghe bluetooth pin dự phòng giá rẻ",
           "0",
           27455,
           40755,
           "TP. Hồ Chí Minh"
          ],
          [
           "sạc nhanh (Củ PD 20W + Cáp Type-C to Lai ning) cho ĐT tai nghe Bluetooth pin dự phòng - Orio PW-C",
           "0",
           49000,
           109000,
           "TP. Hồ Chí Minh"
          ],
          [
           "[Mã ELMALL10 giảm 10% đơn 500K] Tai nghe True Wireless SoundPEATS TrueAir2 (New Version) Mirroring Bluetooth 5.2",
           "1300000",
           769000,
           0,
           "TP. Hồ Chí Minh"
          ],
          [
           "[Mã ELMALL10 giảm 10% đơn 500K] Tai nghe True Wireless SoundPEATS Air3 (bản nâng cấp TrueAir2) Bluetooth 5.2",
           "1500000",
           951000,
           0,
           "TP. Hồ Chí Minh"
          ],
          [
           "Dây sạc IP, Type c,micro usb android, cáp sạc điện thoại 1m dây dù cho tai nghe bluetooth pin dự phòng giá rẻ Sagopy",
           "0",
           12350,
           14155,
           "TP. Hồ Chí Minh"
          ],
          [
           "Tai Nghe Bluetooth Chính Hãng I12 Không Dây Nhét Tai Phụ Kiện Tai Nghe Điện Thoại IOS Và Android phanduyen25",
           "150000",
           108000,
           0,
           "TP. Hồ Chí Minh"
          ],
          [
           "[Mã ELHA9 giảm 15% đơn 50K] Tai Nghe Bluetooth I13 TWS Inpods - Phiên Bản Quốc Tế - Âm Thanh Sống Động 1 Đổi 1 6 Tháng",
           "199000",
           106000,
           0,
           "TP. Hồ Chí Minh"
          ],
          [
           "Ốp Airpod, vỏ ipod 1/2/i12/i11 tws bảo vệ tai nghe không dây bluetooth, case airpod, hộp đựng tai nghe cute Sagopy",
           "39000",
           25555,
           0,
           "TP. Hồ Chí Minh"
          ],
          [
           "[Mã ELHA9 giảm 15% đơn 50K] Tai Nghe Bluetooth 5.0 Không Dây Mini Pro4 Tws Tiện Dụng",
           "220000",
           147400,
           0,
           "TP. Hồ Chí Minh"
          ],
          [
           "Tai nghe truewireless Hoco E.S.39, nghe nhạc liên tục trong 3.5 giờ, công nghệ Bluetooth 5.0, hỗ trợ sạc không dây",
           "899000",
           486000,
           0,
           "TP. Hồ Chí Minh"
          ],
          [
           "Tai nghe bluetooth SOUNDCORE (by ANKER) R100 True Wireless, 25 giờ nghe nhạc, chống nước IPX5, tích hợp 2 mic - A3981",
           "0",
           561000,
           800000,
           "TP. Hồ Chí Minh"
          ],
          [
           "Tai Nghe Bluetooth không Dây True Wireless Magicsee R11 TWS - Chống nước IP67, Khử ồn - Nghe nhạc liên tục 5h",
           "400000",
           269000,
           0,
           "TP. Hồ Chí Minh"
          ],
          [
           "Tai nghe Bluetooth True Wireless Hoco ES39 Original series V5.0 (Trắng) - Hãng phân phối chính thức",
           "600000",
           315000,
           0,
           "TP. Hồ Chí Minh"
          ],
          [
           "[Mã ELHA9 giảm 15% đơn 50K] Tai Nghe Bluetooth i12 Pro Inpods TWS- Cảm Biến Vân Tay Giá Rẻ Hot Tiktok Hàn Quốc",
           "125000",
           62500,
           0,
           "TP. Hồ Chí Minh"
          ],
          [
           "[Mã ELMALL10 giảm 10% đơn 500K] Tai nghe True Wireless SoundPEATS Free2 Classic Bluetooth 5.1 - Hàng chính hãng",
           "690000",
           521000,
           0,
           "TP. Hồ Chí Minh"
          ],
          [
           "[Mã ELHA9 giảm 15% đơn 50K] Tai nghe Bluetooth không dây Lenovo LP40S 2022 5.1 có Mic, Chống nước, có Hộp đựng tai nghe",
           "0",
           247000,
           249000,
           "TP. Hồ Chí Minh"
          ],
          [
           "Tai nghe Bluetooth Không Tai nghe Bluetooth Không Dây TWS 5.0 với Sạc Dự Phòng 2200mAh Tai Nghe Amoi F9 - 5",
           "185000",
           90000,
           0,
           "TP. Hồ Chí Minh"
          ],
          [
           "Tai nghe bluetooth Hoco (es)ES39 phiên bản đặc biệt, kết nối không dây hỗ trợ định vị, đổi tên - BH 12 thang",
           "390000",
           273000,
           0,
           "TP. Hồ Chí Minh"
          ],
          [
           "Ốp Airpod, vỏ tai nghe ipod không dây bluetooth i12/i11/i9 tws, case hộp đựng bảo vệ tai nghe Sagopy",
           "0",
           9000,
           37900,
           "TP. Hồ Chí Minh"
          ],
          [
           "[ Pre Order Độc Quyền Giá Nhà Máy ] Tai Nghe Bluetooth Tsum Tsum x Disney Chính Hãng Nhiều Mẫu",
           "0",
           299000,
           820000,
           "TP. Hồ Chí Minh"
          ],
          [
           "Dây sạc nhanh Hoco X14 IP X/Xs/11 Promax/12/12 Promax/13/13 Promax, type C, Micro, cáp sạc nhanh tai nghe bluetooth pin",
           "0",
           25555,
           36005,
           "TP. Hồ Chí Minh"
          ],
          [
           "Tai nghe bluetooth AMOI F9 TWS 5.0 bản Quốc tế không dây cảm ứng chống nước IPX5, chống ồn tích hợp sạc dự phòng 2500mAh",
           "199000",
           99500,
           0,
           "TP. Hồ Chí Minh"
          ],
          [
           "Tai nghe bluetooth không dây Inpods Pro i13 TWS gaming nhét tai, tai phone blutooth giá rẻ cho IP, Android/iOs Sagopy",
           "0",
           89000,
           119000,
           "TP. Hồ Chí Minh"
          ],
          [
           "(LOẠI 1 ) Tai Nghe Chụp Tai Bluetooth P47 - P47M Tai Mèo - Có Khe Cắm Thẻ Nhớ - Có Mic A23",
           "149000",
           149000,
           0,
           "TP. Hồ Chí Minh"
          ],
          [
           "[Mã 99ELHA giảm 7% đơn 300K] Tai nghe Bluetooth không dây Redmi Buds 3 Lite",
           "590000",
           445000,
           0,
           "TP. Hồ Chí Minh"
          ],
          [
           "Tai Nghe TWS Defunc True Basic, Bluetooth 5.2, Cảm Ứng, Kháng Nước IPX4, Nghe Đến 22H - Chính Hãng BH 12 Tháng Dizigear",
           "690000",
           549000,
           0,
           "TP. Hồ Chí Minh"
          ],
          [
           "[Mã ELHACE giảm 4% đơn 300K] Tai Nghe Bluetooth Sport S8 – Âm Thanh Siêu Bass (ĐEN, ĐỎ)",
           "29900",
           29000,
           0,
           "TP. Hồ Chí Minh"
          ],
          [
           "Giá đỡ điện thoại Iring chống lưng để bàn, ô tô, xe máy, phụ kiện cho iphone tai nghe bluetooth nhiều hình cute giá rẻ",
           "0",
           5216,
           5900,
           "TP. Hồ Chí Minh"
          ],
          [
           "[Mã ELHA9 giảm 15% đơn 50K] [Video] Tai Nghe Không Dây Kết Nối Bluetooth P47 Có Khe Cắm Thẻ Nhớ",
           "120000",
           67000,
           0,
           "TP. Hồ Chí Minh"
          ],
          [
           "Vỏ ốp case bảo vệ bao đựng tai nghe không dây bluetooth 3/2/1/Pro Cá Áo Khoác - Jerry Shop",
           "0",
           37000,
           39000,
           "TP. Hồ Chí Minh"
          ],
          [
           "[CHỐNG NƯỚC] Tai nghe Bluetooth 5.0 AMOI F9 PRO - Bản Quốc Tế 2020 Nút Cảm Ứng Chống Nước - Pin Sạc 2000mah",
           "199000",
           99500,
           0,
           "TP. Hồ Chí Minh"
          ],
          [
           "(Loại 1)(Tai Nghe Mèo Bluetooth P47M PKH470 Chụp Tai, Tai Mèo Dễ Thương Có Mic, Âm Bass Mạnh Mẽ Bảo Hành 12 ThángBH 24T",
           "149000",
           149000,
           0,
           "TP. Hồ Chí Minh"
          ],
          [
           "Vỏ ốp case bảo vệ bao đựng tai nghe không dây bluetooth 3/2/1/Pro Cá Áo Khoác - Jerry Shop",
           "0",
           37000,
           39000,
           "TP. Hồ Chí Minh"
          ],
          [
           "[CHỐNG NƯỚC] Tai nghe Bluetooth 5.0 AMOI F9 PRO - Bản Quốc Tế 2020 Nút Cảm Ứng Chống Nước - Pin Sạc 2000mah",
           "199000",
           99500,
           0,
           "TP. Hồ Chí Minh"
          ],
          [
           "(Loại 1)(Tai Nghe Mèo Bluetooth P47M PKH470 Chụp Tai, Tai Mèo Dễ Thương Có Mic, Âm Bass Mạnh Mẽ Bảo Hành 12 ThángBH 24T",
           "149000",
           149000,
           0,
           "TP. Hồ Chí Minh"
          ],
          [
           "Vỏ đựng case CASE AIRPODS 3/2/1/Pro bảo vệ tai nghe không dây bluetooth,hình Chó HIPHOP - Jerry Shop",
           "50000",
           39000,
           0,
           "TP. Hồ Chí Minh"
          ],
          [
           "Tai Nghe Bluetooth Âm Thanh Sống Động Hay Không Dây J12 Phiên Bản Quốc Tế Có Mic Nghe Gọi Tốt - J12_Trang- Datoo_shop",
           "120000",
           99000,
           0,
           "TP. Hồ Chí Minh"
          ],
          [
           "[Mã ELHA9 giảm 15% đơn 50K] Tai Nghe Chụp Tai Bluetooth Không Dây Tai Mèo Đáng Yêu Có Đèn LED 23M",
           "0",
           85000,
           145000,
           "TP. Hồ Chí Minh"
          ],
          [
           "[SẴN HÀNG] Tai Nghe Bluetooth Tsum Lotso Hồng x Disney Chính Hãng [GIÁ RẺ NHẤT]",
           "385000",
           375000,
           0,
           "TP. Hồ Chí Minh"
          ],
          [
           "Tai Nghe Bluetooth True Wireless F9 PRO Bluetooth 5.0 | Cảm Ứng | Bản Quốc Tế 2022 Nút Cảm Ứng Chống Nước IP67",
           "135000",
           97000,
           0,
           "TP. Hồ Chí Minh"
          ],
          [
           "Tai nghe Bluetooth TWS Wireless Hoco DES03 Pro, định vị tai nghe, đổi tên ,nghe nhạc liên tục trong 3-5 giờ, Bluetooth 5",
           "632000",
           455000,
           0,
           "TP. Hồ Chí Minh"
          ],
          [
           "Tai nghe bluetooth S10 Pro V5.2 Quốc Tế kiêm sạc dự phòng chống nước tiêu chuẩn IPX7 nghe nhạc 10 giờ chính hãng Vupa",
           "300000",
           160000,
           0,
           "TP. Hồ Chí Minh"
          ],
          [
           "Tai Nghe Chơi Game Không Dây Bluetooth 5.3 K12 TWS cảm biến chạm, không có độ trễ âm bản Quốc Tế chính hãng Vupa Tech",
           "450000",
           275000,
           0,
           "TP. Hồ Chí Minh"
          ],
          [
           "Tai nghe Bluetooth không dây Gaming P36 TWS Công nghệ Âm Thanh độ trễ cực thấp mic HD khử tiếng ồn bản quốc tế Vupa Tech",
           "350000",
           200000,
           0,
           "TP. Hồ Chí Minh"
          ],
          [
           "Tai Nghe Chơi Game Không Dây Bluetooth 5.2 P30 Pro Tws Có Mic Độ Trễ 0.045s - Bản quốc tế 2022 Chính Hãng Vupa Tech",
           "350000",
           200000,
           0,
           "TP. Hồ Chí Minh"
          ],
          [
           "Tai nghe không dây bluetooth Gaming M10 âm trầm đầy đủ Chống ồn chủ động HiFi Stereo bản Quốc Tế Chính Hãng Vupa Tech",
           "300000",
           155000,
           0,
           "TP. Hồ Chí Minh"
          ],
          [
           "Tai nghe bluetooth M5 Autobot- tai nghe Gaming bass mạnh mẽ có mic bản quốc tế 2022 chính Hãng Vupa Tech",
           "300000",
           155000,
           0,
           "TP. Hồ Chí Minh"
          ],
          [
           "Tai Nghe Bluetooth Không Dây 5.1 TWS Gaming K86 - Có Mic - Độ Trễ Thấp - Pin Trâu -Bản Quốc Tế 2022 Chính Hãng Vupa Tech",
           "400000",
           245000,
           0,
           "TP. Hồ Chí Minh"
          ],
          [
           "Tai nghe Bluetooth Gaming Không dây X15 TWS Bluetooth 5.0 cảm biến chạm,độ trễ ít Bản Quốc tế 2022 Chính Hãng Vupa Tech",
           "0",
           115000,
           150000,
           "TP. Hồ Chí Minh"
          ],
          [
           "Tai nghe bluetooth không dây tai nghe chơi game K9 chuyên game PUBG FREEFIRE LIÊN QUÂN bản quốc tế chính hãng Vupa Tech",
           "400000",
           210000,
           0,
           "TP. Hồ Chí Minh"
          ],
          [
           "Tai nghe bluetooth không dây Tws LB8, Tai nghe lb 8 giá rẻ cảm ứng chống nước hiệu quả bản quốc tế 2022 chính hãng Vupa",
           "300000",
           165000,
           0,
           "TP. Hồ Chí Minh"
          ],
          [
           "Tai nghe bluetooth không dây gaming K55 nhét tai chống nước, âm thanh HD, chuyên chơi game bản quốc tế Chính Hãng Vupa",
           "400000",
           250000,
           0,
           "TP. Hồ Chí Minh"
          ],
          [
           "Tai nghe bluetooth gaming AMOI K8 PUBG, FREEFIRE,LIÊN QUÂN chuyên game độ trễ cực thấp bản quốc tế chính hãng Vupa Tech",
           "380000",
           210000,
           0,
           "TP. Hồ Chí Minh"
          ],
          [
           "Tai Nghe Bluetooth Gaming K98 , Tai Nghe Chơi Game Không Dây - Pin Trâu - Có Míc - Độ Trễ Cực Thấp Chính hãng Vupa Tech",
           "500000",
           350000,
           0,
           "TP. Hồ Chí Minh"
          ],
          [
           "Tai Nghe Bluetooth S11 kiêm sạc dự phòng 4800 mAh - Tai Nghe Không Dây Amoi bản Quốc Tế chính hãng Vupa Tech",
           "350000",
           210000,
           0,
           "TP. Hồ Chí Minh"
          ],
          [
           "(Loại 1)Tai nghe Bluetooth i12 TWS 5.0 tai nghe i12 không dây bản Quốc tế âm thanh chuẩn HIFI dùng cho IOS Android",
           "149000",
           149000,
           0,
           "TP. Hồ Chí Minh"
          ],
          [
           "Ốp Airpod, vỏ tai nghe ipod i12/i11/i9 tws Silicon có hình cute tai nghe bluetooth, case airpod,hộp đựng tai nghe Sagopy",
           "0",
           10900,
           39000,
           "TP. Hồ Chí Minh"
          ]
         ],
         "hovertemplate": "location=%{customdata[4]}<br>selling_price=%{x}<br>name=%{customdata[0]}<br>original_price=%{customdata[1]}<br>selling_price_1=%{customdata[2]}<br>selling_price_2=%{customdata[3]}<extra></extra>",
         "legendgroup": "",
         "marker": {
          "color": "#636efa"
         },
         "name": "",
         "notched": true,
         "offsetgroup": "",
         "showlegend": false,
         "type": "box",
         "x": [
          125000,
          115000,
          108000,
          120000,
          88000,
          49000,
          245000,
          400000,
          320000,
          265000,
          135000,
          155000,
          99000,
          17500,
          355499.5,
          249000,
          117500,
          108000,
          290000,
          75000,
          88000,
          105000,
          160000,
          280000,
          320000,
          107100,
          320000,
          134250,
          160000,
          78000,
          42500,
          117500,
          160000,
          125000,
          78000,
          42500,
          190000,
          18905,
          69000,
          205000,
          149000,
          52000,
          169000,
          19450,
          200000,
          38000,
          125000,
          185000,
          38025,
          45500,
          220000,
          60950,
          73800,
          45000,
          20805,
          34105,
          79000,
          769000,
          951000,
          13252.5,
          108000,
          106000,
          25555,
          147400,
          486000,
          680500,
          269000,
          315000,
          62500,
          521000,
          248000,
          90000,
          273000,
          23450,
          559500,
          30780,
          99500,
          104000,
          149000,
          445000,
          549000,
          29000,
          5558,
          67000,
          38000,
          99500,
          149000,
          38000,
          99500,
          149000,
          39000,
          99000,
          115000,
          375000,
          97000,
          455000,
          160000,
          275000,
          200000,
          200000,
          155000,
          155000,
          245000,
          132500,
          210000,
          165000,
          250000,
          210000,
          350000,
          210000,
          149000,
          24950
         ],
         "xaxis": "x5",
         "yaxis": "y5"
        },
        {
         "alignmentgroup": "True",
         "bingroup": "x",
         "hovertemplate": "location=Nước ngoài<br>selling_price=%{x}<br>count=%{y}<extra></extra>",
         "legendgroup": "",
         "marker": {
          "color": "#636efa",
          "pattern": {
           "shape": ""
          }
         },
         "name": "",
         "offsetgroup": "",
         "orientation": "v",
         "showlegend": false,
         "type": "histogram",
         "x": [
          224000,
          284000,
          185750,
          223000,
          26500,
          49000,
          299000,
          40900,
          20000,
          85000,
          96495,
          92000,
          92000,
          129000,
          8000,
          219000,
          81000,
          233000,
          22000,
          61500,
          26008,
          27500,
          92000,
          125000,
          7500,
          52950,
          43000,
          77500,
          48500,
          71889.5,
          47000,
          99880,
          64010,
          127000,
          27000,
          208950,
          16000,
          101000,
          97495,
          122500,
          369000,
          390000,
          149900,
          73900,
          79880,
          249000,
          71467,
          133750,
          132000,
          549000,
          155000,
          189500,
          88000,
          65899,
          28000,
          294000,
          409000,
          40300,
          24000,
          89100,
          269000,
          47500,
          93000,
          38000,
          19000,
          42040,
          89100,
          269000,
          47500,
          93000,
          38000,
          19000,
          42040,
          7800,
          84300,
          379000,
          63899,
          145500,
          60450,
          25220,
          319000,
          48000,
          279000,
          24000,
          9500,
          449000
         ],
         "xaxis": "x3",
         "yaxis": "y3"
        },
        {
         "alignmentgroup": "True",
         "customdata": [
          [
           "[Mã ELBMO99 giảm 12% đơn 500K] Tai Nghe Bluetooth 5.3 Baseus WM01 TWS Chống Ồn",
           "531667",
           224000,
           0,
           "Nước ngoài"
          ],
          [
           "[Mã ELBMO99 giảm 12% đơn 500K] Tai nghe nhét tai không dây BASEUS WM02 bluetooth 5.3 TWS chống ồn",
           "615000",
           284000,
           0,
           "Nước ngoài"
          ],
          [
           "Tai nghe bluetooth Lenovo LP40 Pro Không Dây Bluetooth 5.1 chất lượng âm thanh trầm tuyệt vời tích hợp micro",
           "0",
           157500,
           214000,
           "Nước ngoài"
          ],
          [
           "Tai nghe bluetooth Lenovo LP40 PRO 2021 mới bản LP40 không dây Bluetooth 5.1 tws IPX5 chống ồn TWS 300mah",
           "0",
           183000,
           263000,
           "Nước ngoài"
          ],
          [
           "Vỏ Bảo Vệ Hộp Sạc Tai Nghe airpods 1 2 i12 / i9s tws bluetooth Không Dây Chống Sốc",
           "0",
           20000,
           33000,
           "Nước ngoài"
          ],
          [
           "Tai Nghe Bluetooth 5.0 I7S Thiết Kế ko dây Tws Kèm Hộp Sạc Cao Cấp",
           "0",
           28000,
           70000,
           "Nước ngoài"
          ],
          [
           "Tai nghe không dây Lenovo LK-10 TWS HIFI Bluetooth 5.2 giảm ồn kiểu thể thao chống nước có micro pin mạnh",
           "600000",
           299000,
           0,
           "Nước ngoài"
          ],
          [
           "Tai nghe Nkodok nhét tai không dây bluetooth mini",
           "0",
           23000,
           58800,
           "Nước ngoài"
          ],
          [
           "Vỏ Bảo Vệ Hộp Sạc Tai Nghe Kết Nối Bluetooth Bằng Silicon Kèm Móc Khóa Tiện Dụng Cho Airpods 1 / 2 / 3 / Pro",
           "0",
           15000,
           25000,
           "Nước ngoài"
          ],
          [
           "Tai Nghe Nhét Tai Không Dây Vitog Airdots A6S Bluetooth 5.0 Chống Tiếng Ồn Cho Điện Thoại",
           "182160",
           85000,
           0,
           "Nước ngoài"
          ],
          [
           "tws inpods i12 tai nghe bluetooth không dây mini nhét tai phong cách hoạt hình dễ thương phù hợp với hệ Android và iOS",
           "0",
           83000,
           109990,
           "Nước ngoài"
          ],
          [
           "Tai Nghe bluetooth Không Dây TZUZL TWS Chống Thấm Nước",
           "0",
           85000,
           99000,
           "Nước ngoài"
          ],
          [
           "Tai Nghe bluetooth Không Dây TZUZL TWS Chống Thấm Nước",
           "0",
           85000,
           99000,
           "Nước ngoài"
          ],
          [
           "Tai nghe không dây X15 Bluetooth âm thanh hifi sống động điều khiển cảm ứng không trễ cao cấp",
           "240000",
           129000,
           0,
           "Nước ngoài"
          ],
          [
           "Phụ Kiện Vỏ Bảo Vệ Cáp Sạc Tai Nghe Bluetooth Chống Gãy Cho Điện Thoại",
           "15000",
           8000,
           0,
           "Nước ngoài"
          ],
          [
           "Tai nghe nhét tai Lenovo disney f9 bluetooth không dây âm thanh hifi có micro màn hình hd 5.2",
           "0",
           200000,
           238000,
           "Nước ngoài"
          ],
          [
           "Tai nghe gaming k15 bluetooth không dây điều khiển cảm ứng chất lượng cao 5.0 TWS có đèn led siêu đỉnh",
           "150995",
           81000,
           0,
           "Nước ngoài"
          ],
          [
           "Tai nghe không dây bluetooth Lenovo LP5 âm trầm tuyệt vời chống thấm nước tích hợp micro tiện dụng",
           "0",
           214000,
           252000,
           "Nước ngoài"
          ],
          [
           "Vỏ Bảo Vệ Hộp Sạc Tai Nghe Bluetooth Trong Suốt Họa Tiết Hoạt Hình Dễ Thương Cho Airpods 1 2 3 Pro Inpods 12 I12",
           "22000",
           22000,
           0,
           "Nước ngoài"
          ],
          [
           "tai nghe bluetooth không dây tai nghe i12 chính hãng dùng được cho ios và tai nghe bluetooth android i12 tai nghe",
           "0",
           59000,
           64000,
           "Nước ngoài"
          ],
          [
           "Vỏ Bảo Vệ Hộp Sạc Tai Nghe Bluetooth Airpods 1 2 3 PRO 3 Bằng TPU Màu Trong Suốt Hình Gấu Dễ Thương",
           "0",
           24649,
           27367,
           "Nước ngoài"
          ],
          [
           "Vỏ Bảo Vệ Hộp Sạc Tai Nghe Bluetooth Airpods 3 2021 Bằng Silicon Mềm Hình Hoạt Hình Dễ Thương",
           "0",
           20000,
           35000,
           "Nước ngoài"
          ],
          [
           "Tai Nghe Chụp Tai Bluetooth Không Dây M6 Có Thể Gấp Gọn Tiện Lợi",
           "0",
           86000,
           98000,
           "Nước ngoài"
          ],
          [
           "Tai nghe không dây TWS Bluetooth 5.0 âm thanh stereo 9D thông minh có màn hình LED chống thấm nước",
           "0",
           81000,
           169000,
           "Nước ngoài"
          ],
          [
           "Ốp Bảo Vệ Cáp Sạc Tai Nghe Bluetooth Chống Gãy Điện Thoại",
           "15000",
           7500,
           0,
           "Nước ngoài"
          ],
          [
           "Lenovo LP40 and LP40S ( LP40PRO ) Hộp bảo vệ tai nghe Bluetooth Phim hoạt hình dễ thương cặp đôi silicone bảo vệ chống rơi cho nam và nữ",
           "0",
           49000,
           56900,
           "Nước ngoài"
          ],
          [
           "Vỏ bảo vệ hộp sạc tai nghe Lenovo bluetooth LENOVO bằng silicon cho LP40\\LP40 pro",
           "82000",
           43000,
           0,
           "Nước ngoài"
          ],
          [
           "Tai nghe Bluetooth earphone GOOJODOQ không dây i7s Tws thiết kế thể thao mini tiện dụng kèm hộp sạc",
           "0",
           69000,
           86000,
           "Nước ngoài"
          ],
          [
           "Tai nghe Bluetooth mini không dây I7mini kèm hộp sạc chuyên dụng chất lượng cao",
           "85000",
           48500,
           0,
           "Nước ngoài"
          ],
          [
           "Tai nghe bluetooth không dây Tws Pro6 Pro 6 chống thấm nước tiện dụng",
           "0",
           63899,
           79880,
           "Nước ngoài"
          ],
          [
           "KUULAA Vỏ Bảo Vệ Hộp Sạc Tai Nghe Airpods 2 3 Pro Kết Nối Bluetooth Chất Liệu TPU Sợi Carbon Chống Sốc",
           "118000",
           47000,
           0,
           "Nước ngoài"
          ],
          [
           "Set tai nghe + vỏ bọc bảo vệ/Vỏ bọc bảo vệ hộp sạc tai nghe Bluetooth i12 cho Android",
           "100000",
           99880,
           0,
           "Nước ngoài"
          ],
          [
           "Tai nghe nhét tai không dây Bluetooth Y50 TWS 5.0 chống thấm nước chống ồn thể thao dành cho điện thoại Android",
           "0",
           58425,
           69595,
           "Nước ngoài"
          ],
          [
           "Tai Nghe Không Dây TZUZL TWS-201 Bluetooth 5.0 Điều Khiển Cảm Ứng Chơi Game Âm Thanh Nổi Chống Nước Kèm Hộp Sạc",
           "0",
           119000,
           135000,
           "Nước ngoài"
          ],
          [
           "Tai nghe Bluetooth mini không dây I7 âm thanh nổi tích hợp micro chất lượng cao cho Android",
           "0",
           25000,
           29000,
           "Nước ngoài"
          ],
          [
           "Tai nghe bluetooth không dây Lenovo XT95 Pro phong cách thể thao tích hợp micro âm trầm tuyệt thời gian sử dụng lâu",
           "0",
           183900,
           234000,
           "Nước ngoài"
          ],
          [
           "Vỏ Bảo Vệ Hộp Sạc Tai Nghe Bluetooth Mềm Trong Suốt Cho Airpods 1 2 3 Pro Inpods I12 I9s I11",
           "22000",
           16000,
           0,
           "Nước ngoài"
          ],
          [
           "Tai Nghe Không Dây X15 Bluetooth âm Thanh Hifi Sống động điều Khiển Cảm ứng Không Trễ Cao Cấp",
           "0",
           81000,
           121000,
           "Nước ngoài"
          ],
          [
           "Tai nghe bluetooth không dây TWS inpods i12 có vỏ bảo vệ cho ios và android chất lượng âm thanh trung thực cao",
           "0",
           85000,
           109990,
           "Nước ngoài"
          ],
          [
           "Tai nghe bluetooth 5.1 không dây Vitog TWS âm thanh nổi hifi chống thấm nước khử tiếng ồn",
           "0",
           118000,
           127000,
           "Nước ngoài"
          ],
          [
           "Tai nghe Bluetooth V5.1 QCY T13 TWS điều khiển cảm ứng",
           "600000",
           369000,
           0,
           "Nước ngoài"
          ],
          [
           "[Mã ELMALL10 giảm 10% đơn 500K] Tai nghe Bluetooth Redmi Buds 3 Lite",
           "590000",
           390000,
           0,
           "Nước ngoài"
          ],
          [
           "Tai Nghe Bluetooth M13 Tai Nghe Không Dây Bluetooth 5.2 Macaron Tích Hợp Mic Điều Khiển Cảm Ứng Tiếng Ồn",
           "0",
           139900,
           159900,
           "Nước ngoài"
          ],
          [
           "Đầu thu âm thanh không dây Essager kết nối Bluetooth 5.0 có cổng tai nghe 3.5mm chất lượng cao",
           "147800",
           73900,
           0,
           "Nước ngoài"
          ],
          [
           "Inpods Pro6 Tai nghe bluetooth không dây tws hoạt động với tất cả các thiết bị bluetooth",
           "119998",
           79880,
           0,
           "Nước ngoài"
          ],
          [
           "Tai Nghe Nhét Tai Bluetooth TOPK T30 ko dây BT 5.0 Chống Tiếng Ồn Cho ĐT táo Samsung Realme",
           "319000",
           249000,
           0,
           "Nước ngoài"
          ],
          [
           "Tai Nghe Bluetooth Âm Thanh Hifi ST2P G11",
           "102096",
           71467,
           0,
           "Nước ngoài"
          ],
          [
           "[Mã CBSW1109 giảm 12% đơn 150K] Tai nghe nhét tai không dây bluetooth TZUZL TWS 5.2 tích hợp mi cờ rô có kèm phụ kiện",
           "0",
           129000,
           138500,
           "Nước ngoài"
          ],
          [
           "Tai nghe thể thao không dây dạng đeo cổ thoải mái chất lượng cao",
           "235120",
           132000,
           0,
           "Nước ngoài"
          ],
          [
           "[Mã ELBMO99 giảm 12% đơn 500K] Tai Nghe Không Dây Baseus D02 Pro Bluetooth 5.0 Âm Lập Thể HIFIPhong Cách Thể Thao",
           "815000",
           549000,
           0,
           "Nước ngoài"
          ],
          [
           "[Mã CBSW1109 giảm 12% đơn 150K] Tai Nghe TWS Vitog M10 3500mah Kết Nối Bluetooth Không Dây Âm Thanh Nổi Điều Khiển Cả",
           "0",
           142000,
           168000,
           "Nước ngoài"
          ],
          [
           "Tai nghe Bluetooth 5.0 hình tai mèo phát sáng cá tính",
           "0",
           100000,
           279000,
           "Nước ngoài"
          ],
          [
           "Vỏ Bảo Vệ Hộp Sạc Tai Nghe Bluetooth AirPods 3 / Pro Họa Tiết Logo Gucci Hình Hổ Màu Xanh Lá Thời Trang",
           "100000",
           88000,
           0,
           "Nước ngoài"
          ],
          [
           "Tai nghe bluetooth không dây TWS A6s chống nước chất lượng cao",
           "129999",
           65899,
           0,
           "Nước ngoài"
          ],
          [
           "Bút vệ sinh tai nghe Bluetooth cho Airpods Pro 1 2 Pro Airpods 1 2 3 Pro",
           "66000",
           28000,
           0,
           "Nước ngoài"
          ],
          [
           "[Mã CBSW1109 giảm 12% đơn 150K] Tai Nghe Nhét Trong Không Dây Baseus Mini WM01 TWS Bluetooth 5.0",
           "0",
           259000,
           329000,
           "Nước ngoài"
          ],
          [
           "[Mã ELBMO99 giảm 12% đơn 500K] Tai nghe nhét tai Baseus W04 kết nối bluetooth 5.0",
           "909000",
           409000,
           0,
           "Nước ngoài"
          ],
          [
           "Tai Nghe Bluetooth Không Dây TWS 12 Màu Sắc Kèm Hộp Sạc",
           "0",
           13600,
           67000,
           "Nước ngoài"
          ],
          [
           "Vỏ Bảo Vệ Hộp Sạc Tai Nghe Bluetooth Airpods 1 2 3 Pro Bằng Tpu Hình Vuông Thời Trang",
           "0",
           23000,
           25000,
           "Nước ngoài"
          ],
          [
           "Tai nghe bluetooth không dây Lenovo QE03 có micro chất lượng cao tiện dụng khi tập thể thao kèm cáp/vỏ bọc",
           "229000",
           89100,
           0,
           "Nước ngoài"
          ],
          [
           "Tai nghe Disney LK-11 nhét tai không dây bluetooth 5.3 âm thanh nổi HD chống nước thời lượng pin siêu dài độ trễ thấp",
           "550000",
           269000,
           0,
           "Nước ngoài"
          ],
          [
           "Ele】⚡⚡Tai nghe Bluetooth mini không dây I7 kèm hộp sạc chuyên dụng chất lượng cao",
           "0",
           22000,
           73000,
           "Nước ngoài"
          ],
          [
           "Tai Nghe Thể Thao Lenovo He05 Bluetooth 5.0 Đeo Cổ Có Nam Châm Chống Nước",
           "220783",
           93000,
           0,
           "Nước ngoài"
          ],
          [
           "Tai nghe đeo cổ bluetooth 5.0 không dây chống tiếng ồn",
           "62000",
           38000,
           0,
           "Nước ngoài"
          ],
          [
           "Tai nghe Bluetooth nhét tai âm thanh chất lượng cao",
           "0",
           18000,
           20000,
           "Nước ngoài"
          ],
          [
           "Tai nghe Bluetooth có dây và mic cao cấp cho táo 7 8 Plus X XR XS Max 11 12 13 Pro SE",
           "0",
           30000,
           54080,
           "Nước ngoài"
          ],
          [
           "Tai nghe bluetooth không dây Lenovo QE03 có micro chất lượng cao tiện dụng khi tập thể thao kèm cáp/vỏ bọc",
           "229000",
           89100,
           0,
           "Nước ngoài"
          ],
          [
           "Tai nghe Disney LK-11 nhét tai không dây bluetooth 5.3 âm thanh nổi HD chống nước thời lượng pin siêu dài độ trễ thấp",
           "550000",
           269000,
           0,
           "Nước ngoài"
          ],
          [
           "Ele】⚡⚡Tai nghe Bluetooth mini không dây I7 kèm hộp sạc chuyên dụng chất lượng cao",
           "0",
           22000,
           73000,
           "Nước ngoài"
          ],
          [
           "Tai Nghe Thể Thao Lenovo He05 Bluetooth 5.0 Đeo Cổ Có Nam Châm Chống Nước",
           "220783",
           93000,
           0,
           "Nước ngoài"
          ],
          [
           "Tai nghe đeo cổ bluetooth 5.0 không dây chống tiếng ồn",
           "62000",
           38000,
           0,
           "Nước ngoài"
          ],
          [
           "Tai nghe Bluetooth nhét tai âm thanh chất lượng cao",
           "0",
           18000,
           20000,
           "Nước ngoài"
          ],
          [
           "Tai nghe Bluetooth có dây và mic cao cấp cho táo 7 8 Plus X XR XS Max 11 12 13 Pro SE",
           "0",
           30000,
           54080,
           "Nước ngoài"
          ],
          [
           "Vỏ Bảo Vệ Hộp Sạc Tai Nghe Bluetooth Không Dây Làm Từ Silicon Màu Xanh Lá Cho Airpods I9S / I10 / I11 / I12",
           "0",
           5000,
           10600,
           "Nước ngoài"
          ],
          [
           "[Mã CBSW1109 giảm 12% đơn 150K] Tai nghe không dây bluetooth 5.0 Inpods 13 tích hợp pin sạc 220mah kèm phụ kiện",
           "112358",
           84300,
           0,
           "Nước ngoài"
          ],
          [
           "[Mã ELBMO99 giảm 12% đơn 500K] Tai Nghe Không Dây Baseus Enock W3 TWS Bluetooth 5.0 Âm Thanh Nổi",
           "0",
           359000,
           399000,
           "Nước ngoài"
          ],
          [
           "Tai nghe không dây Mini Pro4 Bluetooth 5.0 TWS có hộp sạc dành cho điện thoại thông minh PK",
           "119998",
           63899,
           0,
           "Nước ngoài"
          ],
          [
           "Tai Nghe Bluetooth Lenovo HE05X II thể thao 5.0 không thấm nước IPX5 TWS nhét tai Không Dây Chất Âm Êm Lương Pin Tốt nhét tai chụp tai có micro ko dây",
           "0",
           142000,
           149000,
           "Nước ngoài"
          ],
          [
           "Tai Nghe Bluetooth 5.2 Không Dây V9 V9s Giảm Tiếng Ồn Có Màn Hình LED HD",
           "0",
           46900,
           74000,
           "Nước ngoài"
          ],
          [
           "Vỏ Bảo Vệ Hộp Sạc Tai Nghe Bluetooth Hoạt Hình 3D Cho Airpods3 Airpods 1 2 3 Pro Pro3 i12 i10 i11 i9s inpods 12 13 Pro i13",
           "0",
           18820,
           31620,
           "Nước ngoài"
          ],
          [
           "[Mã ELBMO99 giảm 12% đơn 500K] Tai nghe không dây bluetooth Baseus Bowie W15 TWS",
           "669000",
           319000,
           0,
           "Nước ngoài"
          ],
          [
           "Tương thích cho AirPods 1 2 3 Pro Inpods 12 i12 Pro Bao tai nghe Bluetooth Không dây Silicone mềm Bao tai nghe với Nắp bảo vệ Dây buộc Ngọc trai",
           "48000",
           48000,
           0,
           "Nước ngoài"
          ],
          [
           "[Mã ELBMO99 giảm 12% đơn 500K] Tai Nghe Không Dây Baseus WM01 Mini TWS Bluetooth 5.0 Cho compatible for Iphone Xiaomi",
           "576500",
           279000,
           0,
           "Nước ngoài"
          ],
          [
           "Vỏ Bảo Vệ Hộp Sạc Tai Nghe Bluetooth Baseus WM01 Bằng TPU Trong Suốt Chống Rơi Họa Tiết Hoạt Hình Dễ Thương",
           "40866",
           24000,
           0,
           "Nước ngoài"
          ],
          [
           "[Strongaroetu] 3,7v 30mah 401012 Pin Sạc Lithium Polymer Cho Tai Nghe Bluetooth",
           "11875",
           9500,
           0,
           "Nước ngoài"
          ],
          [
           "Tai nghe Bluetooth 5.0 DISNEY nhét tai không dây âm thanh nổi không thấm nước có thể gọi điện pin dài",
           "700000",
           449000,
           0,
           "Nước ngoài"
          ]
         ],
         "hovertemplate": "location=%{customdata[4]}<br>selling_price=%{x}<br>name=%{customdata[0]}<br>original_price=%{customdata[1]}<br>selling_price_1=%{customdata[2]}<br>selling_price_2=%{customdata[3]}<extra></extra>",
         "legendgroup": "",
         "marker": {
          "color": "#636efa"
         },
         "name": "",
         "notched": true,
         "offsetgroup": "",
         "showlegend": false,
         "type": "box",
         "x": [
          224000,
          284000,
          185750,
          223000,
          26500,
          49000,
          299000,
          40900,
          20000,
          85000,
          96495,
          92000,
          92000,
          129000,
          8000,
          219000,
          81000,
          233000,
          22000,
          61500,
          26008,
          27500,
          92000,
          125000,
          7500,
          52950,
          43000,
          77500,
          48500,
          71889.5,
          47000,
          99880,
          64010,
          127000,
          27000,
          208950,
          16000,
          101000,
          97495,
          122500,
          369000,
          390000,
          149900,
          73900,
          79880,
          249000,
          71467,
          133750,
          132000,
          549000,
          155000,
          189500,
          88000,
          65899,
          28000,
          294000,
          409000,
          40300,
          24000,
          89100,
          269000,
          47500,
          93000,
          38000,
          19000,
          42040,
          89100,
          269000,
          47500,
          93000,
          38000,
          19000,
          42040,
          7800,
          84300,
          379000,
          63899,
          145500,
          60450,
          25220,
          319000,
          48000,
          279000,
          24000,
          9500,
          449000
         ],
         "xaxis": "x6",
         "yaxis": "y6"
        }
       ],
       "layout": {
        "annotations": [
         {
          "font": {},
          "showarrow": false,
          "text": "location=Hà Nội",
          "x": 0.15999999999999998,
          "xanchor": "center",
          "xref": "paper",
          "y": 1,
          "yanchor": "bottom",
          "yref": "paper"
         },
         {
          "font": {},
          "showarrow": false,
          "text": "location=TP. Hồ Chí Minh",
          "x": 0.49999999999999994,
          "xanchor": "center",
          "xref": "paper",
          "y": 1,
          "yanchor": "bottom",
          "yref": "paper"
         },
         {
          "font": {},
          "showarrow": false,
          "text": "location=Nước ngoài",
          "x": 0.8399999999999999,
          "xanchor": "center",
          "xref": "paper",
          "y": 1,
          "yanchor": "bottom",
          "yref": "paper"
         }
        ],
        "autosize": true,
        "barmode": "relative",
        "legend": {
         "tracegroupgap": 0
        },
        "margin": {
         "t": 60
        },
        "template": {
         "data": {
          "bar": [
           {
            "error_x": {
             "color": "#2a3f5f"
            },
            "error_y": {
             "color": "#2a3f5f"
            },
            "marker": {
             "line": {
              "color": "#E5ECF6",
              "width": 0.5
             },
             "pattern": {
              "fillmode": "overlay",
              "size": 10,
              "solidity": 0.2
             }
            },
            "type": "bar"
           }
          ],
          "barpolar": [
           {
            "marker": {
             "line": {
              "color": "#E5ECF6",
              "width": 0.5
             },
             "pattern": {
              "fillmode": "overlay",
              "size": 10,
              "solidity": 0.2
             }
            },
            "type": "barpolar"
           }
          ],
          "carpet": [
           {
            "aaxis": {
             "endlinecolor": "#2a3f5f",
             "gridcolor": "white",
             "linecolor": "white",
             "minorgridcolor": "white",
             "startlinecolor": "#2a3f5f"
            },
            "baxis": {
             "endlinecolor": "#2a3f5f",
             "gridcolor": "white",
             "linecolor": "white",
             "minorgridcolor": "white",
             "startlinecolor": "#2a3f5f"
            },
            "type": "carpet"
           }
          ],
          "choropleth": [
           {
            "colorbar": {
             "outlinewidth": 0,
             "ticks": ""
            },
            "type": "choropleth"
           }
          ],
          "contour": [
           {
            "colorbar": {
             "outlinewidth": 0,
             "ticks": ""
            },
            "colorscale": [
             [
              0,
              "#0d0887"
             ],
             [
              0.1111111111111111,
              "#46039f"
             ],
             [
              0.2222222222222222,
              "#7201a8"
             ],
             [
              0.3333333333333333,
              "#9c179e"
             ],
             [
              0.4444444444444444,
              "#bd3786"
             ],
             [
              0.5555555555555556,
              "#d8576b"
             ],
             [
              0.6666666666666666,
              "#ed7953"
             ],
             [
              0.7777777777777778,
              "#fb9f3a"
             ],
             [
              0.8888888888888888,
              "#fdca26"
             ],
             [
              1,
              "#f0f921"
             ]
            ],
            "type": "contour"
           }
          ],
          "contourcarpet": [
           {
            "colorbar": {
             "outlinewidth": 0,
             "ticks": ""
            },
            "type": "contourcarpet"
           }
          ],
          "heatmap": [
           {
            "colorbar": {
             "outlinewidth": 0,
             "ticks": ""
            },
            "colorscale": [
             [
              0,
              "#0d0887"
             ],
             [
              0.1111111111111111,
              "#46039f"
             ],
             [
              0.2222222222222222,
              "#7201a8"
             ],
             [
              0.3333333333333333,
              "#9c179e"
             ],
             [
              0.4444444444444444,
              "#bd3786"
             ],
             [
              0.5555555555555556,
              "#d8576b"
             ],
             [
              0.6666666666666666,
              "#ed7953"
             ],
             [
              0.7777777777777778,
              "#fb9f3a"
             ],
             [
              0.8888888888888888,
              "#fdca26"
             ],
             [
              1,
              "#f0f921"
             ]
            ],
            "type": "heatmap"
           }
          ],
          "heatmapgl": [
           {
            "colorbar": {
             "outlinewidth": 0,
             "ticks": ""
            },
            "colorscale": [
             [
              0,
              "#0d0887"
             ],
             [
              0.1111111111111111,
              "#46039f"
             ],
             [
              0.2222222222222222,
              "#7201a8"
             ],
             [
              0.3333333333333333,
              "#9c179e"
             ],
             [
              0.4444444444444444,
              "#bd3786"
             ],
             [
              0.5555555555555556,
              "#d8576b"
             ],
             [
              0.6666666666666666,
              "#ed7953"
             ],
             [
              0.7777777777777778,
              "#fb9f3a"
             ],
             [
              0.8888888888888888,
              "#fdca26"
             ],
             [
              1,
              "#f0f921"
             ]
            ],
            "type": "heatmapgl"
           }
          ],
          "histogram": [
           {
            "marker": {
             "pattern": {
              "fillmode": "overlay",
              "size": 10,
              "solidity": 0.2
             }
            },
            "type": "histogram"
           }
          ],
          "histogram2d": [
           {
            "colorbar": {
             "outlinewidth": 0,
             "ticks": ""
            },
            "colorscale": [
             [
              0,
              "#0d0887"
             ],
             [
              0.1111111111111111,
              "#46039f"
             ],
             [
              0.2222222222222222,
              "#7201a8"
             ],
             [
              0.3333333333333333,
              "#9c179e"
             ],
             [
              0.4444444444444444,
              "#bd3786"
             ],
             [
              0.5555555555555556,
              "#d8576b"
             ],
             [
              0.6666666666666666,
              "#ed7953"
             ],
             [
              0.7777777777777778,
              "#fb9f3a"
             ],
             [
              0.8888888888888888,
              "#fdca26"
             ],
             [
              1,
              "#f0f921"
             ]
            ],
            "type": "histogram2d"
           }
          ],
          "histogram2dcontour": [
           {
            "colorbar": {
             "outlinewidth": 0,
             "ticks": ""
            },
            "colorscale": [
             [
              0,
              "#0d0887"
             ],
             [
              0.1111111111111111,
              "#46039f"
             ],
             [
              0.2222222222222222,
              "#7201a8"
             ],
             [
              0.3333333333333333,
              "#9c179e"
             ],
             [
              0.4444444444444444,
              "#bd3786"
             ],
             [
              0.5555555555555556,
              "#d8576b"
             ],
             [
              0.6666666666666666,
              "#ed7953"
             ],
             [
              0.7777777777777778,
              "#fb9f3a"
             ],
             [
              0.8888888888888888,
              "#fdca26"
             ],
             [
              1,
              "#f0f921"
             ]
            ],
            "type": "histogram2dcontour"
           }
          ],
          "mesh3d": [
           {
            "colorbar": {
             "outlinewidth": 0,
             "ticks": ""
            },
            "type": "mesh3d"
           }
          ],
          "parcoords": [
           {
            "line": {
             "colorbar": {
              "outlinewidth": 0,
              "ticks": ""
             }
            },
            "type": "parcoords"
           }
          ],
          "pie": [
           {
            "automargin": true,
            "type": "pie"
           }
          ],
          "scatter": [
           {
            "fillpattern": {
             "fillmode": "overlay",
             "size": 10,
             "solidity": 0.2
            },
            "type": "scatter"
           }
          ],
          "scatter3d": [
           {
            "line": {
             "colorbar": {
              "outlinewidth": 0,
              "ticks": ""
             }
            },
            "marker": {
             "colorbar": {
              "outlinewidth": 0,
              "ticks": ""
             }
            },
            "type": "scatter3d"
           }
          ],
          "scattercarpet": [
           {
            "marker": {
             "colorbar": {
              "outlinewidth": 0,
              "ticks": ""
             }
            },
            "type": "scattercarpet"
           }
          ],
          "scattergeo": [
           {
            "marker": {
             "colorbar": {
              "outlinewidth": 0,
              "ticks": ""
             }
            },
            "type": "scattergeo"
           }
          ],
          "scattergl": [
           {
            "marker": {
             "colorbar": {
              "outlinewidth": 0,
              "ticks": ""
             }
            },
            "type": "scattergl"
           }
          ],
          "scattermapbox": [
           {
            "marker": {
             "colorbar": {
              "outlinewidth": 0,
              "ticks": ""
             }
            },
            "type": "scattermapbox"
           }
          ],
          "scatterpolar": [
           {
            "marker": {
             "colorbar": {
              "outlinewidth": 0,
              "ticks": ""
             }
            },
            "type": "scatterpolar"
           }
          ],
          "scatterpolargl": [
           {
            "marker": {
             "colorbar": {
              "outlinewidth": 0,
              "ticks": ""
             }
            },
            "type": "scatterpolargl"
           }
          ],
          "scatterternary": [
           {
            "marker": {
             "colorbar": {
              "outlinewidth": 0,
              "ticks": ""
             }
            },
            "type": "scatterternary"
           }
          ],
          "surface": [
           {
            "colorbar": {
             "outlinewidth": 0,
             "ticks": ""
            },
            "colorscale": [
             [
              0,
              "#0d0887"
             ],
             [
              0.1111111111111111,
              "#46039f"
             ],
             [
              0.2222222222222222,
              "#7201a8"
             ],
             [
              0.3333333333333333,
              "#9c179e"
             ],
             [
              0.4444444444444444,
              "#bd3786"
             ],
             [
              0.5555555555555556,
              "#d8576b"
             ],
             [
              0.6666666666666666,
              "#ed7953"
             ],
             [
              0.7777777777777778,
              "#fb9f3a"
             ],
             [
              0.8888888888888888,
              "#fdca26"
             ],
             [
              1,
              "#f0f921"
             ]
            ],
            "type": "surface"
           }
          ],
          "table": [
           {
            "cells": {
             "fill": {
              "color": "#EBF0F8"
             },
             "line": {
              "color": "white"
             }
            },
            "header": {
             "fill": {
              "color": "#C8D4E3"
             },
             "line": {
              "color": "white"
             }
            },
            "type": "table"
           }
          ]
         },
         "layout": {
          "annotationdefaults": {
           "arrowcolor": "#2a3f5f",
           "arrowhead": 0,
           "arrowwidth": 1
          },
          "autotypenumbers": "strict",
          "coloraxis": {
           "colorbar": {
            "outlinewidth": 0,
            "ticks": ""
           }
          },
          "colorscale": {
           "diverging": [
            [
             0,
             "#8e0152"
            ],
            [
             0.1,
             "#c51b7d"
            ],
            [
             0.2,
             "#de77ae"
            ],
            [
             0.3,
             "#f1b6da"
            ],
            [
             0.4,
             "#fde0ef"
            ],
            [
             0.5,
             "#f7f7f7"
            ],
            [
             0.6,
             "#e6f5d0"
            ],
            [
             0.7,
             "#b8e186"
            ],
            [
             0.8,
             "#7fbc41"
            ],
            [
             0.9,
             "#4d9221"
            ],
            [
             1,
             "#276419"
            ]
           ],
           "sequential": [
            [
             0,
             "#0d0887"
            ],
            [
             0.1111111111111111,
             "#46039f"
            ],
            [
             0.2222222222222222,
             "#7201a8"
            ],
            [
             0.3333333333333333,
             "#9c179e"
            ],
            [
             0.4444444444444444,
             "#bd3786"
            ],
            [
             0.5555555555555556,
             "#d8576b"
            ],
            [
             0.6666666666666666,
             "#ed7953"
            ],
            [
             0.7777777777777778,
             "#fb9f3a"
            ],
            [
             0.8888888888888888,
             "#fdca26"
            ],
            [
             1,
             "#f0f921"
            ]
           ],
           "sequentialminus": [
            [
             0,
             "#0d0887"
            ],
            [
             0.1111111111111111,
             "#46039f"
            ],
            [
             0.2222222222222222,
             "#7201a8"
            ],
            [
             0.3333333333333333,
             "#9c179e"
            ],
            [
             0.4444444444444444,
             "#bd3786"
            ],
            [
             0.5555555555555556,
             "#d8576b"
            ],
            [
             0.6666666666666666,
             "#ed7953"
            ],
            [
             0.7777777777777778,
             "#fb9f3a"
            ],
            [
             0.8888888888888888,
             "#fdca26"
            ],
            [
             1,
             "#f0f921"
            ]
           ]
          },
          "colorway": [
           "#636efa",
           "#EF553B",
           "#00cc96",
           "#ab63fa",
           "#FFA15A",
           "#19d3f3",
           "#FF6692",
           "#B6E880",
           "#FF97FF",
           "#FECB52"
          ],
          "font": {
           "color": "#2a3f5f"
          },
          "geo": {
           "bgcolor": "white",
           "lakecolor": "white",
           "landcolor": "#E5ECF6",
           "showlakes": true,
           "showland": true,
           "subunitcolor": "white"
          },
          "hoverlabel": {
           "align": "left"
          },
          "hovermode": "closest",
          "mapbox": {
           "style": "light"
          },
          "paper_bgcolor": "white",
          "plot_bgcolor": "#E5ECF6",
          "polar": {
           "angularaxis": {
            "gridcolor": "white",
            "linecolor": "white",
            "ticks": ""
           },
           "bgcolor": "#E5ECF6",
           "radialaxis": {
            "gridcolor": "white",
            "linecolor": "white",
            "ticks": ""
           }
          },
          "scene": {
           "xaxis": {
            "backgroundcolor": "#E5ECF6",
            "gridcolor": "white",
            "gridwidth": 2,
            "linecolor": "white",
            "showbackground": true,
            "ticks": "",
            "zerolinecolor": "white"
           },
           "yaxis": {
            "backgroundcolor": "#E5ECF6",
            "gridcolor": "white",
            "gridwidth": 2,
            "linecolor": "white",
            "showbackground": true,
            "ticks": "",
            "zerolinecolor": "white"
           },
           "zaxis": {
            "backgroundcolor": "#E5ECF6",
            "gridcolor": "white",
            "gridwidth": 2,
            "linecolor": "white",
            "showbackground": true,
            "ticks": "",
            "zerolinecolor": "white"
           }
          },
          "shapedefaults": {
           "line": {
            "color": "#2a3f5f"
           }
          },
          "ternary": {
           "aaxis": {
            "gridcolor": "white",
            "linecolor": "white",
            "ticks": ""
           },
           "baxis": {
            "gridcolor": "white",
            "linecolor": "white",
            "ticks": ""
           },
           "bgcolor": "#E5ECF6",
           "caxis": {
            "gridcolor": "white",
            "linecolor": "white",
            "ticks": ""
           }
          },
          "title": {
           "x": 0.05
          },
          "xaxis": {
           "automargin": true,
           "gridcolor": "white",
           "linecolor": "white",
           "ticks": "",
           "title": {
            "standoff": 15
           },
           "zerolinecolor": "white",
           "zerolinewidth": 2
          },
          "yaxis": {
           "automargin": true,
           "gridcolor": "white",
           "linecolor": "white",
           "ticks": "",
           "title": {
            "standoff": 15
           },
           "zerolinecolor": "white",
           "zerolinewidth": 2
          }
         }
        },
        "xaxis": {
         "anchor": "y",
         "autorange": true,
         "domain": [
          0,
          0.31999999999999995
         ],
         "range": [
          -65555.55555555556,
          1265555.5555555555
         ],
         "title": {
          "text": "selling_price"
         },
         "type": "linear"
        },
        "xaxis2": {
         "anchor": "y2",
         "autorange": true,
         "domain": [
          0.33999999999999997,
          0.6599999999999999
         ],
         "matches": "x",
         "range": [
          -65555.55555555556,
          1265555.5555555555
         ],
         "title": {
          "text": "selling_price"
         },
         "type": "linear"
        },
        "xaxis3": {
         "anchor": "y3",
         "autorange": true,
         "domain": [
          0.6799999999999999,
          0.9999999999999999
         ],
         "matches": "x",
         "range": [
          -65555.55555555556,
          1265555.5555555555
         ],
         "title": {
          "text": "selling_price"
         },
         "type": "linear"
        },
        "xaxis4": {
         "anchor": "y4",
         "autorange": true,
         "domain": [
          0,
          0.31999999999999995
         ],
         "matches": "x",
         "range": [
          -65555.55555555556,
          1265555.5555555555
         ],
         "showgrid": true,
         "showticklabels": false,
         "type": "linear"
        },
        "xaxis5": {
         "anchor": "y5",
         "autorange": true,
         "domain": [
          0.33999999999999997,
          0.6599999999999999
         ],
         "matches": "x",
         "range": [
          -65555.55555555556,
          1265555.5555555555
         ],
         "showgrid": true,
         "showticklabels": false,
         "type": "linear"
        },
        "xaxis6": {
         "anchor": "y6",
         "autorange": true,
         "domain": [
          0.6799999999999999,
          0.9999999999999999
         ],
         "matches": "x",
         "range": [
          -65555.55555555556,
          1265555.5555555555
         ],
         "showgrid": true,
         "showticklabels": false,
         "type": "linear"
        },
        "yaxis": {
         "anchor": "x",
         "autorange": true,
         "domain": [
          0,
          0.8316
         ],
         "range": [
          0,
          64.21052631578948
         ],
         "title": {
          "text": "count"
         }
        },
        "yaxis2": {
         "anchor": "x2",
         "autorange": true,
         "domain": [
          0,
          0.8316
         ],
         "matches": "y",
         "range": [
          0,
          64.21052631578948
         ],
         "showticklabels": false
        },
        "yaxis3": {
         "anchor": "x3",
         "autorange": true,
         "domain": [
          0,
          0.8316
         ],
         "matches": "y",
         "range": [
          0,
          64.21052631578948
         ],
         "showticklabels": false
        },
        "yaxis4": {
         "anchor": "x4",
         "autorange": true,
         "domain": [
          0.8416,
          1
         ],
         "matches": "y4",
         "range": [
          -0.5,
          0.5
         ],
         "showgrid": false,
         "showline": false,
         "showticklabels": false,
         "ticks": "",
         "type": "category"
        },
        "yaxis5": {
         "anchor": "x5",
         "autorange": true,
         "domain": [
          0.8416,
          1
         ],
         "matches": "y4",
         "range": [
          -0.5,
          0.5
         ],
         "showgrid": false,
         "showline": false,
         "showticklabels": false,
         "ticks": "",
         "type": "category"
        },
        "yaxis6": {
         "anchor": "x6",
         "autorange": true,
         "domain": [
          0.8416,
          1
         ],
         "matches": "y4",
         "range": [
          -0.5,
          0.5
         ],
         "showgrid": false,
         "showline": false,
         "showticklabels": false,
         "ticks": "",
         "type": "category"
        }
       }
      },
      "image/png": "[encoded data removed]"
     },
     "metadata": {},
     "output_type": "display_data"
    },
    {
     "name": "stdout",
     "output_type": "stream",
     "text": [
      "Hà Nội: The mean is 184,057.73\n",
      "Hà Nội: The standard deviation is 169,113.55\n",
      "TP. Hồ Chí Minh: The mean is 176,458.35\n",
      "TP. Hồ Chí Minh: The standard deviation is 160,794.21\n",
      "Nước ngoài: The mean is 122,504.33\n",
      "Nước ngoài: The standard deviation is 115,486.01\n"
     ]
    }
   ],
   "source": [
    "fig = px.histogram(df_filter, x='selling_price',\n",
    "                   facet_col = 'location', marginal=\"box\", hover_data=df_filter.columns)\n",
    "fig.show()\n",
    "\n",
    "for i in df_filter['location'].unique():\n",
    "    mean = \"{:,.2f}\".format(np.mean(df_filter[df_filter['location'] == i]['selling_price']))\n",
    "    st_dev = \"{:,.2f}\".format(np.std(df_filter[df_filter['location'] == i]['selling_price']))\n",
    "\n",
    "    print(f\"{i}: The mean is {mean}\")\n",
    "    print(f\"{i}: The standard deviation is {st_dev}\")\n"
   ]
  }
 ],
 "metadata": {
  "kernelspec": {
   "display_name": "Python 3 (ipykernel)",
   "language": "python",
   "name": "python3"
  },
  "language_info": {
   "codemirror_mode": {
    "name": "ipython",
    "version": 3
   },
   "file_extension": ".py",
   "mimetype": "text/x-python",
   "name": "python",
   "nbconvert_exporter": "python",
   "pygments_lexer": "ipython3",
   "version": "3.9.12"
  },
  "vscode": {
   "interpreter": {
    "hash": "9e35676d33e03a9093a17dc7760f2b2aa4960ff6d3c0d7dc06348afdc0ca22c8"
   }
  }
 },
 "nbformat": 4,
 "nbformat_minor": 4
}
